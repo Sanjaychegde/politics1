{
 "cells": [
  {
   "cell_type": "code",
   "execution_count": 101,
   "metadata": {
    "id": "ktgvSLSlb3xe"
   },
   "outputs": [],
   "source": [
    "import pandas as pd\n",
    "import matplotlib.pyplot as plt"
   ]
  },
  {
   "cell_type": "code",
   "execution_count": 102,
   "metadata": {
    "id": "T_-zb6cib9De"
   },
   "outputs": [],
   "source": [
    "a=pd.read_html('https://myneta.info/ls2014/index.php?action=summary&subAction=candidates_analyzed&sort=candidate#summary')[2]"
   ]
  },
  {
   "cell_type": "code",
   "execution_count": 103,
   "metadata": {
    "id": "WLEO67VlT9yx"
   },
   "outputs": [],
   "source": [
    "qq=pd.read_html('http://164.100.47.194/Loksabha/Members/AlphabeticalList.aspx')"
   ]
  },
  {
   "cell_type": "markdown",
   "metadata": {
    "id": "m_0QjNPhm2ja"
   },
   "source": [
    "Loksabha"
   ]
  },
  {
   "cell_type": "code",
   "execution_count": 104,
   "metadata": {
    "id": "wxI3LBphe-dS"
   },
   "outputs": [],
   "source": [
    "edu=[]\n",
    "el=[]\n",
    "winners2004=pd.read_html('https://myneta.info/loksabha2004/index.php?action=summary&subAction=winner_analyzed&sort=candidate#summary')[-1].iloc[:,:8]\n",
    "a112=winners2004.iloc[:,4].to_list()\n",
    "b112=winners2004.iloc[:,5].to_list()\n",
    "for i in range(0,len(a112)):\n",
    "  edu.append([a112[i],b112[i]])\n",
    "edu=sorted(edu,key=lambda edu:edu[1])\n",
    "edu1=set(b112)\n",
    "in1=edu[0][1]\n",
    "s=0\n",
    "SDF121=[]\n",
    "for i in range(0,len(edu)):\n",
    "    if in1==edu[i][1]:\n",
    "        s=s+1\n",
    "    else:\n",
    "      SDF121.append(s)\n",
    "      el.append(in1)\n",
    "      in1=edu[i][1]\n",
    "      s=0"
   ]
  },
  {
   "cell_type": "code",
   "execution_count": 105,
   "metadata": {
    "colab": {
     "base_uri": "https://localhost:8080/"
    },
    "id": "6l4yJbPyhNh5",
    "outputId": "4bfd0337-c053-4804-a6f3-bdadab4bb1be"
   },
   "outputs": [
    {
     "data": {
      "text/plain": [
       "['10th Pass',\n",
       " '12th Pass',\n",
       " '5th Pass',\n",
       " '8th Pass',\n",
       " 'Doctorate',\n",
       " 'Graduate',\n",
       " 'Graduate Professional',\n",
       " 'Literate',\n",
       " 'Not Given',\n",
       " 'Others']"
      ]
     },
     "execution_count": 105,
     "metadata": {},
     "output_type": "execute_result"
    }
   ],
   "source": [
    "el"
   ]
  },
  {
   "cell_type": "code",
   "execution_count": 106,
   "metadata": {
    "colab": {
     "base_uri": "https://localhost:8080/"
    },
    "id": "nUICPX2vfIta",
    "outputId": "98a64602-da40-4730-bc1e-20c79c5b91d8"
   },
   "outputs": [
    {
     "data": {
      "text/plain": [
       "[42, 45, 3, 10, 18, 125, 94, 7, 12, 8]"
      ]
     },
     "execution_count": 106,
     "metadata": {},
     "output_type": "execute_result"
    }
   ],
   "source": [
    "SDF121"
   ]
  },
  {
   "cell_type": "code",
   "execution_count": 107,
   "metadata": {
    "id": "p-Y4sU81dex6"
   },
   "outputs": [],
   "source": [
    "edu=[]\n",
    "winners2009=pd.read_html('https://myneta.info/ls2009/index.php?action=summary&subAction=winner_analyzed&sort=candidate#summary')[-1].iloc[:,:8]\n",
    "a11=winners2009.iloc[:,4].to_list()\n",
    "b11=winners2009.iloc[:,5].to_list()\n",
    "for i in range(0,len(a11)):\n",
    "  edu.append([a11[i],b11[i]])\n",
    "edu=sorted(edu,key=lambda edu:edu[1])\n",
    "edu1=set(b11)\n",
    "in1=edu[0][1]\n",
    "s=0\n",
    "SDF12=[]\n",
    "for i in range(0,len(edu)):\n",
    "    if in1==edu[i][1]:\n",
    "        s=s+1\n",
    "    else:\n",
    "      SDF12.append(s)\n",
    "      in1=edu[i][1]\n",
    "      s=0"
   ]
  },
  {
   "cell_type": "code",
   "execution_count": 108,
   "metadata": {
    "colab": {
     "base_uri": "https://localhost:8080/"
    },
    "id": "cIA0gBzye1dT",
    "outputId": "bb86e173-0abd-47ac-babb-acc1f61b53ab"
   },
   "outputs": [
    {
     "data": {
      "text/plain": [
       "[49, 49, 8, 7, 22, 135, 107, 4, 5]"
      ]
     },
     "execution_count": 108,
     "metadata": {},
     "output_type": "execute_result"
    }
   ],
   "source": [
    "SDF12"
   ]
  },
  {
   "cell_type": "code",
   "execution_count": 109,
   "metadata": {
    "colab": {
     "base_uri": "https://localhost:8080/",
     "height": 455
    },
    "id": "zziEdn3zdtli",
    "outputId": "340b68b2-de66-4553-e135-14bb8067107b"
   },
   "outputs": [
    {
     "data": {
      "text/html": [
       "<div>\n",
       "<style scoped>\n",
       "    .dataframe tbody tr th:only-of-type {\n",
       "        vertical-align: middle;\n",
       "    }\n",
       "\n",
       "    .dataframe tbody tr th {\n",
       "        vertical-align: top;\n",
       "    }\n",
       "\n",
       "    .dataframe thead tr th {\n",
       "        text-align: left;\n",
       "    }\n",
       "</style>\n",
       "<table border=\"1\" class=\"dataframe\">\n",
       "  <thead>\n",
       "    <tr>\n",
       "      <th></th>\n",
       "      <th colspan=\"8\" halign=\"left\">Order by: Candidate |Constituency |Party|Criminal Cases|Education|Total Assets|Liabilities</th>\n",
       "    </tr>\n",
       "    <tr>\n",
       "      <th></th>\n",
       "      <th>Sno</th>\n",
       "      <th>Candidate∇</th>\n",
       "      <th>Constituency</th>\n",
       "      <th>Party</th>\n",
       "      <th>Criminal Case</th>\n",
       "      <th>Education</th>\n",
       "      <th>Total Assets</th>\n",
       "      <th>Liabilities</th>\n",
       "    </tr>\n",
       "  </thead>\n",
       "  <tbody>\n",
       "    <tr>\n",
       "      <th>0</th>\n",
       "      <td>1</td>\n",
       "      <td>A.T. NANA PATIL</td>\n",
       "      <td>Jalgaon</td>\n",
       "      <td>BJP</td>\n",
       "      <td>0</td>\n",
       "      <td>Graduate</td>\n",
       "      <td>Rs 10,38,39,607 ~ 10 Crore+</td>\n",
       "      <td>Rs 92,00,000 ~ 92 Lacs+</td>\n",
       "    </tr>\n",
       "    <tr>\n",
       "      <th>1</th>\n",
       "      <td>2</td>\n",
       "      <td>AARON RASHID.J.M</td>\n",
       "      <td>Theni</td>\n",
       "      <td>INC</td>\n",
       "      <td>0</td>\n",
       "      <td>12th Pass</td>\n",
       "      <td>Rs 24,89,74,573 ~ 24 Crore+</td>\n",
       "      <td>Rs 21,91,815 ~ 21 Lacs+</td>\n",
       "    </tr>\n",
       "    <tr>\n",
       "      <th>2</th>\n",
       "      <td>3</td>\n",
       "      <td>AAWALE JAYWANT GANGARAM</td>\n",
       "      <td>Latur</td>\n",
       "      <td>INC</td>\n",
       "      <td>1</td>\n",
       "      <td>10th Pass</td>\n",
       "      <td>Rs 3,04,85,766 ~ 3 Crore+</td>\n",
       "      <td>Rs 0 ~</td>\n",
       "    </tr>\n",
       "    <tr>\n",
       "      <th>3</th>\n",
       "      <td>4</td>\n",
       "      <td>ABDUL MANNAN HOSSAIN</td>\n",
       "      <td>Murshidabad</td>\n",
       "      <td>INC</td>\n",
       "      <td>1</td>\n",
       "      <td>Graduate</td>\n",
       "      <td>Rs 17,09,788 ~ 17 Lacs+</td>\n",
       "      <td>Rs 10,06,391 ~ 10 Lacs+</td>\n",
       "    </tr>\n",
       "    <tr>\n",
       "      <th>4</th>\n",
       "      <td>5</td>\n",
       "      <td>ABDUL RAHMAN</td>\n",
       "      <td>Vellore</td>\n",
       "      <td>DMK</td>\n",
       "      <td>0</td>\n",
       "      <td>Graduate</td>\n",
       "      <td>Rs 1,25,47,128 ~ 1 Crore+</td>\n",
       "      <td>Rs 32,97,328 ~ 32 Lacs+</td>\n",
       "    </tr>\n",
       "    <tr>\n",
       "      <th>...</th>\n",
       "      <td>...</td>\n",
       "      <td>...</td>\n",
       "      <td>...</td>\n",
       "      <td>...</td>\n",
       "      <td>...</td>\n",
       "      <td>...</td>\n",
       "      <td>...</td>\n",
       "      <td>...</td>\n",
       "    </tr>\n",
       "    <tr>\n",
       "      <th>517</th>\n",
       "      <td>518</td>\n",
       "      <td>Y.S. Jagan Mohan Reddy</td>\n",
       "      <td>Kadapa</td>\n",
       "      <td>INC</td>\n",
       "      <td>0</td>\n",
       "      <td>Graduate</td>\n",
       "      <td>Rs 72,81,51,658 ~ 72 Crore+</td>\n",
       "      <td>Rs 6,63,96,966 ~ 6 Crore+</td>\n",
       "    </tr>\n",
       "    <tr>\n",
       "      <th>518</th>\n",
       "      <td>519</td>\n",
       "      <td>Yashbanta Narayan Singh Laguri</td>\n",
       "      <td>Keonjhar</td>\n",
       "      <td>BJD</td>\n",
       "      <td>6</td>\n",
       "      <td>Graduate</td>\n",
       "      <td>Rs 5,75,000 ~ 5 Lacs+</td>\n",
       "      <td>Rs 1,50,00,000 ~ 1 Crore+</td>\n",
       "    </tr>\n",
       "    <tr>\n",
       "      <th>519</th>\n",
       "      <td>520</td>\n",
       "      <td>YASHVIR SINGH</td>\n",
       "      <td>Nagina</td>\n",
       "      <td>SP</td>\n",
       "      <td>1</td>\n",
       "      <td>12th Pass</td>\n",
       "      <td>Rs 7,84,562 ~ 7 Lacs+</td>\n",
       "      <td>Rs 0 ~</td>\n",
       "    </tr>\n",
       "    <tr>\n",
       "      <th>520</th>\n",
       "      <td>521</td>\n",
       "      <td>YASHWANT SINHA</td>\n",
       "      <td>Hazaribagh</td>\n",
       "      <td>BJP</td>\n",
       "      <td>1</td>\n",
       "      <td>Post Graduate</td>\n",
       "      <td>Rs 3,65,76,217 ~ 3 Crore+</td>\n",
       "      <td>Rs 0 ~</td>\n",
       "    </tr>\n",
       "    <tr>\n",
       "      <th>521</th>\n",
       "      <td>522</td>\n",
       "      <td>ZAFAR ALI NAQVI</td>\n",
       "      <td>Kheri</td>\n",
       "      <td>INC</td>\n",
       "      <td>0</td>\n",
       "      <td>Graduate Professional</td>\n",
       "      <td>Rs 39,79,881 ~ 39 Lacs+</td>\n",
       "      <td>Rs 0 ~</td>\n",
       "    </tr>\n",
       "  </tbody>\n",
       "</table>\n",
       "<p>522 rows × 8 columns</p>\n",
       "</div>"
      ],
      "text/plain": [
       "    Order by: Candidate |Constituency |Party|Criminal Cases|Education|Total Assets|Liabilities  \\\n",
       "                                                                                           Sno   \n",
       "0                                                    1                                           \n",
       "1                                                    2                                           \n",
       "2                                                    3                                           \n",
       "3                                                    4                                           \n",
       "4                                                    5                                           \n",
       "..                                                 ...                                           \n",
       "517                                                518                                           \n",
       "518                                                519                                           \n",
       "519                                                520                                           \n",
       "520                                                521                                           \n",
       "521                                                522                                           \n",
       "\n",
       "                                                                      \\\n",
       "                         Candidate∇ Constituency Party Criminal Case   \n",
       "0                   A.T. NANA PATIL      Jalgaon   BJP             0   \n",
       "1                  AARON RASHID.J.M        Theni   INC             0   \n",
       "2           AAWALE JAYWANT GANGARAM        Latur   INC             1   \n",
       "3              ABDUL MANNAN HOSSAIN  Murshidabad   INC             1   \n",
       "4                      ABDUL RAHMAN      Vellore   DMK             0   \n",
       "..                              ...          ...   ...           ...   \n",
       "517          Y.S. Jagan Mohan Reddy       Kadapa   INC             0   \n",
       "518  Yashbanta Narayan Singh Laguri     Keonjhar   BJD             6   \n",
       "519                   YASHVIR SINGH       Nagina    SP             1   \n",
       "520                  YASHWANT SINHA   Hazaribagh   BJP             1   \n",
       "521                 ZAFAR ALI NAQVI        Kheri   INC             0   \n",
       "\n",
       "                                                         \\\n",
       "                 Education                 Total Assets   \n",
       "0                 Graduate  Rs 10,38,39,607 ~ 10 Crore+   \n",
       "1                12th Pass  Rs 24,89,74,573 ~ 24 Crore+   \n",
       "2                10th Pass    Rs 3,04,85,766 ~ 3 Crore+   \n",
       "3                 Graduate      Rs 17,09,788 ~ 17 Lacs+   \n",
       "4                 Graduate    Rs 1,25,47,128 ~ 1 Crore+   \n",
       "..                     ...                          ...   \n",
       "517               Graduate  Rs 72,81,51,658 ~ 72 Crore+   \n",
       "518               Graduate        Rs 5,75,000 ~ 5 Lacs+   \n",
       "519              12th Pass        Rs 7,84,562 ~ 7 Lacs+   \n",
       "520          Post Graduate    Rs 3,65,76,217 ~ 3 Crore+   \n",
       "521  Graduate Professional      Rs 39,79,881 ~ 39 Lacs+   \n",
       "\n",
       "                                \n",
       "                   Liabilities  \n",
       "0      Rs 92,00,000 ~ 92 Lacs+  \n",
       "1      Rs 21,91,815 ~ 21 Lacs+  \n",
       "2                       Rs 0 ~  \n",
       "3      Rs 10,06,391 ~ 10 Lacs+  \n",
       "4      Rs 32,97,328 ~ 32 Lacs+  \n",
       "..                         ...  \n",
       "517  Rs 6,63,96,966 ~ 6 Crore+  \n",
       "518  Rs 1,50,00,000 ~ 1 Crore+  \n",
       "519                     Rs 0 ~  \n",
       "520                     Rs 0 ~  \n",
       "521                     Rs 0 ~  \n",
       "\n",
       "[522 rows x 8 columns]"
      ]
     },
     "execution_count": 109,
     "metadata": {},
     "output_type": "execute_result"
    }
   ],
   "source": [
    "winners2009"
   ]
  },
  {
   "cell_type": "code",
   "execution_count": 110,
   "metadata": {
    "id": "os1teLX0TsP1"
   },
   "outputs": [],
   "source": [
    "edu=[]\n",
    "winners2014=pd.read_html('https://myneta.info/ls2014/index.php?action=summary&subAction=winner_analyzed&sort=candidate#summary')[-1].iloc[:,:8]\n",
    "a1=winners2014.iloc[:,4].to_list()\n",
    "b1=winners2014.iloc[:,5].to_list()\n",
    "for i in range(0,len(a1)):\n",
    "  edu.append([a1[i],b1[i]])\n",
    "edu=sorted(edu,key=lambda edu:edu[1])\n",
    "edu1=set(b1)\n",
    "in1=edu[0][1]\n",
    "s=0\n",
    "SDF11=[]\n",
    "for i in range(0,len(edu)):\n",
    "  if in1==edu[i][1]:\n",
    "    s=s+1\n",
    "  else:\n",
    "    if in1!='Illiterate':\n",
    "      SDF11.append(s)\n",
    "    in1=edu[i][1]\n",
    "    s=0"
   ]
  },
  {
   "cell_type": "code",
   "execution_count": 111,
   "metadata": {
    "colab": {
     "base_uri": "https://localhost:8080/"
    },
    "id": "nuNTKEi_e5Ai",
    "outputId": "20b94601-b474-4d3b-b5fa-f5e84a244e32"
   },
   "outputs": [
    {
     "data": {
      "text/plain": [
       "[48, 57, 5, 8, 32, 114, 105, 4, 10]"
      ]
     },
     "execution_count": 111,
     "metadata": {},
     "output_type": "execute_result"
    }
   ],
   "source": [
    "SDF11"
   ]
  },
  {
   "cell_type": "code",
   "execution_count": 112,
   "metadata": {
    "colab": {
     "base_uri": "https://localhost:8080/"
    },
    "id": "MYWpl96oh0WV",
    "outputId": "8810a583-74b4-470c-ef89-dd8af22a89a1"
   },
   "outputs": [
    {
     "name": "stdout",
     "output_type": "stream",
     "text": [
      "{0: 'John', 1: 'John', 2: 'John', 3: 'John'}\n"
     ]
    }
   ],
   "source": [
    "dicts = {}\n",
    "keys = range(4)\n",
    "values = [\"Hi\", \"I\", \"am\", \"John\"]\n",
    "for i in keys:\n",
    "    for x in values:\n",
    "        dicts[i] = x\n",
    "print(dicts)"
   ]
  },
  {
   "cell_type": "code",
   "execution_count": 113,
   "metadata": {
    "id": "7nii97hFizoC"
   },
   "outputs": [],
   "source": [
    "dicts = {}\n",
    "for i in range(0,9):\n",
    "  dicts[el[i]] = [SDF121[i],SDF12[i],SDF11[i]]"
   ]
  },
  {
   "cell_type": "code",
   "execution_count": 114,
   "metadata": {
    "colab": {
     "base_uri": "https://localhost:8080/"
    },
    "id": "e6XLqXLFkNwK",
    "outputId": "56910ca7-5797-4269-dae7-1bd5d658f59f"
   },
   "outputs": [
    {
     "data": {
      "text/plain": [
       "{'10th Pass': [42, 49, 48],\n",
       " '12th Pass': [45, 49, 57],\n",
       " '5th Pass': [3, 8, 5],\n",
       " '8th Pass': [10, 7, 8],\n",
       " 'Doctorate': [18, 22, 32],\n",
       " 'Graduate': [125, 135, 114],\n",
       " 'Graduate Professional': [94, 107, 105],\n",
       " 'Literate': [7, 4, 4],\n",
       " 'Not Given': [12, 5, 10]}"
      ]
     },
     "execution_count": 114,
     "metadata": {},
     "output_type": "execute_result"
    }
   ],
   "source": [
    "dicts"
   ]
  },
  {
   "cell_type": "code",
   "execution_count": 115,
   "metadata": {
    "colab": {
     "base_uri": "https://localhost:8080/",
     "height": 639
    },
    "id": "5pKhvBPig8gk",
    "outputId": "39b3d64c-5fdd-43c6-aaec-0285f5e81da3"
   },
   "outputs": [
    {
     "data": {
      "text/plain": [
       "<Figure size 1440x1440 with 0 Axes>"
      ]
     },
     "metadata": {},
     "output_type": "display_data"
    },
    {
     "data": {
      "image/png": "[encoded data removed]",
      "text/plain": [
       "<Figure size 720x720 with 1 Axes>"
      ]
     },
     "metadata": {
      "needs_background": "light"
     },
     "output_type": "display_data"
    }
   ],
   "source": [
    "import numpy as np\n",
    "import matplotlib.pyplot as plt\n",
    "year = [2004,2009,2014]\n",
    "population_by_continent = dicts\n",
    "plt.figure(figsize=(20, 20))\n",
    "fig, ax = plt.subplots(figsize=(10,10))\n",
    "ax.stackplot(year, population_by_continent.values(),\n",
    "             labels=population_by_continent.keys(), alpha=0.8)\n",
    "ax.legend(loc='upper left')\n",
    "ax.set_title('Education level of MP')\n",
    "ax.set_xlabel('Year')\n",
    "ax.set_ylabel('Education')\n",
    "\n",
    "\n",
    "plt.show()\n",
    "\n"
   ]
  },
  {
   "cell_type": "markdown",
   "metadata": {
    "id": "HTjN6od0m6Gl"
   },
   "source": [
    "VidhanaSabha"
   ]
  },
  {
   "cell_type": "code",
   "execution_count": 116,
   "metadata": {
    "id": "5Tg_wyPCm5kq"
   },
   "outputs": [],
   "source": [
    "edu=[]\n",
    "winners2018=pd.read_html('https://myneta.info/karnataka2018/index.php?action=summary&subAction=winner_analyzed&sort=candidate#summary')[-1].iloc[:,:8]\n",
    "a1=winners2018.iloc[:,4].to_list()\n",
    "b1=winners2018.iloc[:,5].to_list()\n",
    "for i in range(0,len(a1)):\n",
    "  edu.append([a1[i],b1[i]])\n",
    "edu=sorted(edu,key=lambda edu:edu[1])\n",
    "edu1=set(b1)\n",
    "in1=edu[0][1]\n",
    "s=0\n",
    "vv1=[]\n",
    "for i in range(0,len(edu)):\n",
    "  if in1==edu[i][1]:\n",
    "    s=s+1\n",
    "  else:\n",
    "    if in1!='Illiterate' and in1!='Literate' and in1!='Not Given':\n",
    "      vv1.append(s)\n",
    "    in1=edu[i][1]\n",
    "    s=0"
   ]
  },
  {
   "cell_type": "code",
   "execution_count": 117,
   "metadata": {
    "colab": {
     "base_uri": "https://localhost:8080/"
    },
    "id": "zgUToMvYoJCz",
    "outputId": "9a861d94-ba3d-4667-8955-ab2ba6c195bf"
   },
   "outputs": [
    {
     "data": {
      "text/plain": [
       "[31, 33, 4, 9, 1, 59, 41, 3]"
      ]
     },
     "execution_count": 117,
     "metadata": {},
     "output_type": "execute_result"
    }
   ],
   "source": [
    "vv1"
   ]
  },
  {
   "cell_type": "code",
   "execution_count": 118,
   "metadata": {
    "id": "w-hX92M1pLoa"
   },
   "outputs": [],
   "source": [
    "edu=[]\n",
    "winners2013=pd.read_html('https://myneta.info/karnataka2013/index.php?action=summary&subAction=winner_analyzed&sort=candidate#summary')[-1].iloc[:,:8]\n",
    "a1=winners2013.iloc[:,4].to_list()\n",
    "b1=winners2013.iloc[:,5].to_list()\n",
    "for i in range(0,len(a1)):\n",
    "  edu.append([a1[i],b1[i]])\n",
    "edu=sorted(edu,key=lambda edu:edu[1])\n",
    "edu1=set(b1)\n",
    "in1=edu[0][1]\n",
    "s=0\n",
    "vv12=[]\n",
    "for i in range(0,len(edu)):\n",
    "  if in1==edu[i][1]:\n",
    "    s=s+1\n",
    "  else:\n",
    "    if in1!='Illiterate' and in1!='Literate':\n",
    "      vv12.append(s)\n",
    "    in1=edu[i][1]\n",
    "    s=0"
   ]
  },
  {
   "cell_type": "code",
   "execution_count": 119,
   "metadata": {
    "colab": {
     "base_uri": "https://localhost:8080/"
    },
    "id": "ihpOwuAHpetz",
    "outputId": "49d125e0-4791-42ab-9454-404eae42f9d6"
   },
   "outputs": [
    {
     "data": {
      "text/plain": [
       "[26, 37, 1, 8, 0, 55, 52, 4]"
      ]
     },
     "execution_count": 119,
     "metadata": {},
     "output_type": "execute_result"
    }
   ],
   "source": [
    "vv12"
   ]
  },
  {
   "cell_type": "code",
   "execution_count": 120,
   "metadata": {
    "id": "RJjbs7R9pPwh"
   },
   "outputs": [],
   "source": [
    "edu=[]\n",
    "winners2008=pd.read_html('https://myneta.info/karnatka2008/index.php?action=summary&subAction=winner_analyzed&sort=candidate#summary')[-1].iloc[:,:8]\n",
    "a1=winners2008.iloc[:,4].to_list()\n",
    "b1=winners2008.iloc[:,5].to_list()\n",
    "for i in range(0,len(a1)):\n",
    "  edu.append([a1[i],b1[i]])\n",
    "edu=sorted(edu,key=lambda edu:edu[1])\n",
    "edu1=set(b1)\n",
    "in1=edu[0][1]\n",
    "s=0\n",
    "vv13=[]\n",
    "for i in range(0,len(edu)):\n",
    "  if in1==edu[i][1]:\n",
    "    s=s+1\n",
    "  else:\n",
    "    if in1!='Illiterate' and in1!='Literate' and in1!='Not Given':\n",
    "      vv13.append(s)\n",
    "    in1=edu[i][1]\n",
    "    s=0"
   ]
  },
  {
   "cell_type": "code",
   "execution_count": 121,
   "metadata": {
    "colab": {
     "base_uri": "https://localhost:8080/"
    },
    "id": "JxjWS5Z5qz5a",
    "outputId": "c12e29cd-08ed-4b10-afd8-9c792711db7f"
   },
   "outputs": [
    {
     "data": {
      "text/plain": [
       "[30, 36, 2, 6, 66, 33, 2]"
      ]
     },
     "execution_count": 121,
     "metadata": {},
     "output_type": "execute_result"
    }
   ],
   "source": [
    "vv13"
   ]
  },
  {
   "cell_type": "code",
   "execution_count": 122,
   "metadata": {
    "id": "r3Iwe6v3pnrM"
   },
   "outputs": [],
   "source": [
    "vv113=[]\n",
    "for i in range(0,len(vv13)):\n",
    "  vv113.append(vv13[i])\n",
    "  if i==3:\n",
    "    vv113.append(0)\n",
    "\n"
   ]
  },
  {
   "cell_type": "code",
   "execution_count": 123,
   "metadata": {
    "colab": {
     "base_uri": "https://localhost:8080/"
    },
    "id": "v9gCcXDnrTBL",
    "outputId": "64d10232-687a-4b70-a1db-e31ce5a84f1f"
   },
   "outputs": [
    {
     "data": {
      "text/plain": [
       "[30, 36, 2, 6, 0, 66, 33, 2]"
      ]
     },
     "execution_count": 123,
     "metadata": {},
     "output_type": "execute_result"
    }
   ],
   "source": [
    "vv113"
   ]
  },
  {
   "cell_type": "code",
   "execution_count": 124,
   "metadata": {
    "id": "J9oRqqXurob2"
   },
   "outputs": [],
   "source": [
    "dicts = {}\n",
    "for i in range(0,8):\n",
    "  dicts[el[i]] = [vv1[i],vv12[i],vv113[i]]"
   ]
  },
  {
   "cell_type": "code",
   "execution_count": 125,
   "metadata": {
    "colab": {
     "base_uri": "https://localhost:8080/",
     "height": 639
    },
    "id": "cAYFGnPVreK7",
    "outputId": "2efab73b-b939-47b1-b5e8-05f0ecf6815d"
   },
   "outputs": [
    {
     "data": {
      "text/plain": [
       "<Figure size 1440x1440 with 0 Axes>"
      ]
     },
     "metadata": {},
     "output_type": "display_data"
    },
    {
     "data": {
      "image/png": "[encoded data removed]",
      "text/plain": [
       "<Figure size 720x720 with 1 Axes>"
      ]
     },
     "metadata": {
      "needs_background": "light"
     },
     "output_type": "display_data"
    }
   ],
   "source": [
    "import numpy as np\n",
    "import matplotlib.pyplot as plt\n",
    "year = [2008,2013,2018]\n",
    "population_by_continent = dicts\n",
    "plt.figure(figsize=(20, 20))\n",
    "fig, ax = plt.subplots(figsize=(10,10))\n",
    "ax.stackplot(year, population_by_continent.values(),\n",
    "             labels=population_by_continent.keys(), alpha=0.8)\n",
    "ax.legend(loc='upper left')\n",
    "ax.set_title('Education level of MP')\n",
    "ax.set_xlabel('Year')\n",
    "ax.set_ylabel('Education')\n",
    "\n",
    "\n",
    "plt.show()"
   ]
  },
  {
   "cell_type": "code",
   "execution_count": 126,
   "metadata": {
    "id": "askF1h0JaJ_v"
   },
   "outputs": [],
   "source": [
    "edu=[]"
   ]
  },
  {
   "cell_type": "code",
   "execution_count": 127,
   "metadata": {
    "id": "tGnE2Hr5VOGl"
   },
   "outputs": [],
   "source": [
    "edu2=sorted(edu1)"
   ]
  },
  {
   "cell_type": "code",
   "execution_count": 128,
   "metadata": {
    "id": "D1ExwO0u8wwh"
   },
   "outputs": [],
   "source": [
    "list=qq[-1]['Constituency (State)'].to_list()"
   ]
  },
  {
   "cell_type": "code",
   "execution_count": 129,
   "metadata": {
    "id": "VDKCupsVcIIe"
   },
   "outputs": [],
   "source": [
    "a=a.iloc[:,:8]"
   ]
  },
  {
   "cell_type": "code",
   "execution_count": 130,
   "metadata": {
    "colab": {
     "base_uri": "https://localhost:8080/",
     "height": 603
    },
    "id": "ZVtUEKFVeBya",
    "outputId": "c694eb98-22aa-445c-85fe-7163654f60a2"
   },
   "outputs": [
    {
     "data": {
      "text/html": [
       "<div>\n",
       "<style scoped>\n",
       "    .dataframe tbody tr th:only-of-type {\n",
       "        vertical-align: middle;\n",
       "    }\n",
       "\n",
       "    .dataframe tbody tr th {\n",
       "        vertical-align: top;\n",
       "    }\n",
       "\n",
       "    .dataframe thead tr th {\n",
       "        text-align: left;\n",
       "    }\n",
       "</style>\n",
       "<table border=\"1\" class=\"dataframe\">\n",
       "  <thead>\n",
       "    <tr>\n",
       "      <th></th>\n",
       "      <th colspan=\"8\" halign=\"left\">Order by: Candidate |Constituency |Party|Criminal Cases|Education|Total Assets|Liabilities</th>\n",
       "    </tr>\n",
       "    <tr>\n",
       "      <th></th>\n",
       "      <th>Sno</th>\n",
       "      <th>Candidate∇</th>\n",
       "      <th>Constituency</th>\n",
       "      <th>Party</th>\n",
       "      <th>Criminal Case</th>\n",
       "      <th>Education</th>\n",
       "      <th>Total Assets</th>\n",
       "      <th>Liabilities</th>\n",
       "    </tr>\n",
       "  </thead>\n",
       "  <tbody>\n",
       "    <tr>\n",
       "      <th>0</th>\n",
       "      <td>1</td>\n",
       "      <td>Kaushal Yadav</td>\n",
       "      <td>NAWADA</td>\n",
       "      <td>JD(U)</td>\n",
       "      <td>8</td>\n",
       "      <td>Post Graduate</td>\n",
       "      <td>Rs 15,45,66,136 ~ 15 Crore+</td>\n",
       "      <td>Rs 26,04,969 ~ 26 Lacs+</td>\n",
       "    </tr>\n",
       "    <tr>\n",
       "      <th>1</th>\n",
       "      <td>2</td>\n",
       "      <td>M. Aamir Rashadi</td>\n",
       "      <td>AZAMGARH</td>\n",
       "      <td>Rashtriya Ulama Council</td>\n",
       "      <td>1</td>\n",
       "      <td>Others</td>\n",
       "      <td>Rs 21,91,523 ~ 21 Lacs+</td>\n",
       "      <td>Rs 0 ~</td>\n",
       "    </tr>\n",
       "    <tr>\n",
       "      <th>2</th>\n",
       "      <td>3</td>\n",
       "      <td>Rakesh Kumar Giri</td>\n",
       "      <td>MAHARAJGANJ</td>\n",
       "      <td>IND</td>\n",
       "      <td>0</td>\n",
       "      <td>Graduate Professional</td>\n",
       "      <td>Rs 3,06,023 ~ 3 Lacs+</td>\n",
       "      <td>Rs 0 ~</td>\n",
       "    </tr>\n",
       "    <tr>\n",
       "      <th>3</th>\n",
       "      <td>4</td>\n",
       "      <td>(kuppal)g.devadoss</td>\n",
       "      <td>CHENNAI SOUTH</td>\n",
       "      <td>IND</td>\n",
       "      <td>0</td>\n",
       "      <td>8th Pass</td>\n",
       "      <td>Rs 36,30,000 ~ 36 Lacs+</td>\n",
       "      <td>Rs 8,50,000 ~ 8 Lacs+</td>\n",
       "    </tr>\n",
       "    <tr>\n",
       "      <th>4</th>\n",
       "      <td>5</td>\n",
       "      <td>(maj Gen (retd.) ) Bhuwan Chandra Khanduri (avsm)</td>\n",
       "      <td>GARHWAL</td>\n",
       "      <td>BJP</td>\n",
       "      <td>0</td>\n",
       "      <td>Graduate Professional</td>\n",
       "      <td>Rs 4,43,57,368 ~ 4 Crore+</td>\n",
       "      <td>Rs 0 ~</td>\n",
       "    </tr>\n",
       "    <tr>\n",
       "      <th>...</th>\n",
       "      <td>...</td>\n",
       "      <td>...</td>\n",
       "      <td>...</td>\n",
       "      <td>...</td>\n",
       "      <td>...</td>\n",
       "      <td>...</td>\n",
       "      <td>...</td>\n",
       "      <td>...</td>\n",
       "    </tr>\n",
       "    <tr>\n",
       "      <th>8201</th>\n",
       "      <td>8202</td>\n",
       "      <td>Zesmina Khatun</td>\n",
       "      <td>DHUBRI</td>\n",
       "      <td>AITC</td>\n",
       "      <td>0</td>\n",
       "      <td>12th Pass</td>\n",
       "      <td>Rs 3,90,500 ~ 3 Lacs+</td>\n",
       "      <td>Rs 0 ~</td>\n",
       "    </tr>\n",
       "    <tr>\n",
       "      <th>8202</th>\n",
       "      <td>8203</td>\n",
       "      <td>Ziauddin Inamdar</td>\n",
       "      <td>KHANDWA</td>\n",
       "      <td>Bahujan Mukti Party</td>\n",
       "      <td>2</td>\n",
       "      <td>10th Pass</td>\n",
       "      <td>Rs 16,98,000 ~ 16 Lacs+</td>\n",
       "      <td>Rs 8,00,000 ~ 8 Lacs+</td>\n",
       "    </tr>\n",
       "    <tr>\n",
       "      <th>8203</th>\n",
       "      <td>8204</td>\n",
       "      <td>Ziaul Haque</td>\n",
       "      <td>PHULPUR</td>\n",
       "      <td>IND</td>\n",
       "      <td>0</td>\n",
       "      <td>12th Pass</td>\n",
       "      <td>Rs 31,82,000 ~ 31 Lacs+</td>\n",
       "      <td>Rs 85,168 ~ 85 Thou+</td>\n",
       "    </tr>\n",
       "    <tr>\n",
       "      <th>8204</th>\n",
       "      <td>8205</td>\n",
       "      <td>Zubair Rabbani</td>\n",
       "      <td>KOLKATA DAKSHIN</td>\n",
       "      <td>SUCI(C)</td>\n",
       "      <td>0</td>\n",
       "      <td>12th Pass</td>\n",
       "      <td>Rs 34,000 ~ 34 Thou+</td>\n",
       "      <td>Rs 0 ~</td>\n",
       "    </tr>\n",
       "    <tr>\n",
       "      <th>8205</th>\n",
       "      <td>8206</td>\n",
       "      <td>Zulfikal Ali A A</td>\n",
       "      <td>ERNAKULAM</td>\n",
       "      <td>SDPI</td>\n",
       "      <td>4</td>\n",
       "      <td>Others</td>\n",
       "      <td>Rs 5,57,800 ~ 5 Lacs+</td>\n",
       "      <td>Rs 0 ~</td>\n",
       "    </tr>\n",
       "  </tbody>\n",
       "</table>\n",
       "<p>8206 rows × 8 columns</p>\n",
       "</div>"
      ],
      "text/plain": [
       "     Order by: Candidate |Constituency |Party|Criminal Cases|Education|Total Assets|Liabilities  \\\n",
       "                                                                                            Sno   \n",
       "0                                                     1                                           \n",
       "1                                                     2                                           \n",
       "2                                                     3                                           \n",
       "3                                                     4                                           \n",
       "4                                                     5                                           \n",
       "...                                                 ...                                           \n",
       "8201                                               8202                                           \n",
       "8202                                               8203                                           \n",
       "8203                                               8204                                           \n",
       "8204                                               8205                                           \n",
       "8205                                               8206                                           \n",
       "\n",
       "                                                                          \\\n",
       "                                             Candidate∇     Constituency   \n",
       "0                                         Kaushal Yadav           NAWADA   \n",
       "1                                      M. Aamir Rashadi         AZAMGARH   \n",
       "2                                     Rakesh Kumar Giri      MAHARAJGANJ   \n",
       "3                                    (kuppal)g.devadoss    CHENNAI SOUTH   \n",
       "4     (maj Gen (retd.) ) Bhuwan Chandra Khanduri (avsm)          GARHWAL   \n",
       "...                                                 ...              ...   \n",
       "8201                                     Zesmina Khatun           DHUBRI   \n",
       "8202                                   Ziauddin Inamdar          KHANDWA   \n",
       "8203                                        Ziaul Haque          PHULPUR   \n",
       "8204                                     Zubair Rabbani  KOLKATA DAKSHIN   \n",
       "8205                                   Zulfikal Ali A A        ERNAKULAM   \n",
       "\n",
       "                                                                    \\\n",
       "                        Party Criminal Case              Education   \n",
       "0                       JD(U)             8          Post Graduate   \n",
       "1     Rashtriya Ulama Council             1                 Others   \n",
       "2                         IND             0  Graduate Professional   \n",
       "3                         IND             0               8th Pass   \n",
       "4                         BJP             0  Graduate Professional   \n",
       "...                       ...           ...                    ...   \n",
       "8201                     AITC             0              12th Pass   \n",
       "8202      Bahujan Mukti Party             2              10th Pass   \n",
       "8203                      IND             0              12th Pass   \n",
       "8204                  SUCI(C)             0              12th Pass   \n",
       "8205                     SDPI             4                 Others   \n",
       "\n",
       "                                                            \n",
       "                     Total Assets              Liabilities  \n",
       "0     Rs 15,45,66,136 ~ 15 Crore+  Rs 26,04,969 ~ 26 Lacs+  \n",
       "1         Rs 21,91,523 ~ 21 Lacs+                   Rs 0 ~  \n",
       "2           Rs 3,06,023 ~ 3 Lacs+                   Rs 0 ~  \n",
       "3         Rs 36,30,000 ~ 36 Lacs+    Rs 8,50,000 ~ 8 Lacs+  \n",
       "4       Rs 4,43,57,368 ~ 4 Crore+                   Rs 0 ~  \n",
       "...                           ...                      ...  \n",
       "8201        Rs 3,90,500 ~ 3 Lacs+                   Rs 0 ~  \n",
       "8202      Rs 16,98,000 ~ 16 Lacs+    Rs 8,00,000 ~ 8 Lacs+  \n",
       "8203      Rs 31,82,000 ~ 31 Lacs+     Rs 85,168 ~ 85 Thou+  \n",
       "8204         Rs 34,000 ~ 34 Thou+                   Rs 0 ~  \n",
       "8205        Rs 5,57,800 ~ 5 Lacs+                   Rs 0 ~  \n",
       "\n",
       "[8206 rows x 8 columns]"
      ]
     },
     "execution_count": 130,
     "metadata": {},
     "output_type": "execute_result"
    }
   ],
   "source": [
    "a"
   ]
  },
  {
   "cell_type": "code",
   "execution_count": 131,
   "metadata": {
    "id": "KG3QGeNhcKNQ"
   },
   "outputs": [],
   "source": [
    "b=a.iloc[:,7].to_list()\n",
    "e=a.iloc[:,6].to_list()"
   ]
  },
  {
   "cell_type": "code",
   "execution_count": 132,
   "metadata": {
    "id": "sEA3SLLpBbMY"
   },
   "outputs": [],
   "source": [
    "Constituency=a.iloc[:,2].to_list()\n",
    "CriminalCase=a.iloc[:,4].to_list()\n",
    "Party=a.iloc[:,3].to_list()"
   ]
  },
  {
   "cell_type": "code",
   "execution_count": 188,
   "metadata": {
    "colab": {
     "base_uri": "https://localhost:8080/"
    },
    "id": "vE-_PgqsBhDn",
    "outputId": "5745a776-d999-4a27-e27b-fa8f88278ded",
    "scrolled": true
   },
   "outputs": [
    {
     "data": {
      "text/plain": [
       "['NAWADA', 'AZAMGARH', 'MAHARAJGANJ', 'CHENNAI SOUTH', 'GARHWAL']"
      ]
     },
     "execution_count": 188,
     "metadata": {},
     "output_type": "execute_result"
    }
   ],
   "source": [
    "Constituency[:5]"
   ]
  },
  {
   "cell_type": "code",
   "execution_count": 134,
   "metadata": {
    "id": "KPB7vmqyj5w3"
   },
   "outputs": [],
   "source": [
    "c=[]"
   ]
  },
  {
   "cell_type": "code",
   "execution_count": 135,
   "metadata": {
    "id": "fhLPZpuSkQKG"
   },
   "outputs": [],
   "source": [
    "c.append(2600000)"
   ]
  },
  {
   "cell_type": "code",
   "execution_count": 136,
   "metadata": {
    "id": "y2osCtEo9yxX"
   },
   "outputs": [],
   "source": [
    "er=[]\n",
    "er1=[]"
   ]
  },
  {
   "cell_type": "code",
   "execution_count": 137,
   "metadata": {
    "id": "jfOmSZmd9hli"
   },
   "outputs": [],
   "source": [
    "for i in range(0,len(list)):\n",
    "  er.append(list[i].split(' ')[0].upper())\n",
    "  er1.append(list[i].split('(')[-1][:-1])"
   ]
  },
  {
   "cell_type": "code",
   "execution_count": 143,
   "metadata": {
    "id": "GE1gY5fI-NI0"
   },
   "outputs": [],
   "source": [
    "s=0\n",
    "Constituency1=[]\n",
    "for i in range(0,len(Constituency)):\n",
    "  for j in range(0,len(er)):\n",
    "    if Constituency[i]==er[j]:\n",
    "      Constituency1.append([Constituency[i],er1[j]])\n",
    "    else:\n",
    "      if Constituency[i].split(' ')[0]==er[j]:\n",
    "        s=s+1\n",
    "        Constituency1.append([Constituency[i],er1[j]])\n",
    "\n",
    "\n",
    "\n"
   ]
  },
  {
   "cell_type": "code",
   "execution_count": 144,
   "metadata": {
    "colab": {
     "base_uri": "https://localhost:8080/"
    },
    "id": "VSapyEcRFA6y",
    "outputId": "cbf5307c-696e-442a-d8ed-110bf0457149"
   },
   "outputs": [
    {
     "data": {
      "text/plain": [
       "1690"
      ]
     },
     "execution_count": 144,
     "metadata": {},
     "output_type": "execute_result"
    }
   ],
   "source": [
    "s"
   ]
  },
  {
   "cell_type": "code",
   "execution_count": 145,
   "metadata": {
    "colab": {
     "base_uri": "https://localhost:8080/"
    },
    "id": "JwuADMCmB4Ln",
    "outputId": "270cbaa1-2510-4100-d9a6-507430606584"
   },
   "outputs": [
    {
     "data": {
      "text/plain": [
       "[['NAWADA', 'Bihar'],\n",
       " ['AZAMGARH', 'Uttar Pradesh'],\n",
       " ['MAHARAJGANJ', 'Uttar Pradesh'],\n",
       " ['MAHARAJGANJ', 'Bihar'],\n",
       " ['CHENNAI SOUTH', 'Tamil Nadu'],\n",
       " ['CHENNAI SOUTH', 'Tamil Nadu'],\n",
       " ['CHENNAI SOUTH', 'Tamil Nadu'],\n",
       " ['GARHWAL', 'Uttarakhand'],\n",
       " ['ALATHUR', 'Kerala'],\n",
       " ['ERNAKULAM', 'Kerala'],\n",
       " ['SIVAGANGA', 'Tamil Nadu'],\n",
       " ['ANDAMAN AND NICOBAR ISLANDS', 'Andaman and Nicobar Islands'],\n",
       " ['KOLAR', 'Karnataka'],\n",
       " ['ATTINGAL', 'Kerala'],\n",
       " ['MADURAI', 'Tamil Nadu'],\n",
       " ['KOZHIKODE', 'Kerala'],\n",
       " ['BELLARY', 'Karnataka'],\n",
       " ['CHENNAI SOUTH', 'Tamil Nadu'],\n",
       " ['CHENNAI SOUTH', 'Tamil Nadu'],\n",
       " ['CHENNAI SOUTH', 'Tamil Nadu'],\n",
       " ['CHENNAI SOUTH', 'Tamil Nadu'],\n",
       " ['CHENNAI SOUTH', 'Tamil Nadu'],\n",
       " ['CHENNAI SOUTH', 'Tamil Nadu'],\n",
       " ['KOLLAM', 'Kerala'],\n",
       " ['CHENNAI SOUTH', 'Tamil Nadu'],\n",
       " ['CHENNAI SOUTH', 'Tamil Nadu'],\n",
       " ['CHENNAI SOUTH', 'Tamil Nadu'],\n",
       " ['VADAKARA', 'Kerala'],\n",
       " ['BERHAMPUR', 'Odisha'],\n",
       " ['TIRUCHIRAPPALLI', 'Tamil Nadu'],\n",
       " ['CUDDALORE', 'Tamil Nadu'],\n",
       " ['CUDDALORE', 'Tamil Nadu'],\n",
       " ['ARANI', 'Tamil Nadu'],\n",
       " ['KALLAKURICHI', 'Tamil Nadu'],\n",
       " ['DHULE', 'Maharashtra'],\n",
       " ['NORTH EAST DELHI', 'NCT of Delhi'],\n",
       " ['NORTH EAST DELHI', 'Goa'],\n",
       " ['NORTH EAST DELHI', 'NCT of Delhi'],\n",
       " ['VARANASI', 'Uttar Pradesh'],\n",
       " ['DURG', 'Chhattisgarh'],\n",
       " ['ARANI', 'Tamil Nadu'],\n",
       " ['DAVANAGERE', 'Karnataka'],\n",
       " ['KALLAKURICHI', 'Tamil Nadu'],\n",
       " ['KOLLAM', 'Kerala'],\n",
       " ['TIRUPPUR', 'Tamil Nadu'],\n",
       " ['MADURAI', 'Tamil Nadu'],\n",
       " ['TUMKUR', 'Karnataka'],\n",
       " ['VADAKARA', 'Kerala'],\n",
       " ['ARANI', 'Tamil Nadu'],\n",
       " ['TIRUPPUR', 'Tamil Nadu'],\n",
       " ['HASSAN', 'Karnataka'],\n",
       " ['TIRUPPUR', 'Tamil Nadu'],\n",
       " ['VILUPPURAM', 'Tamil Nadu'],\n",
       " ['TUMKUR', 'Karnataka'],\n",
       " ['KALLAKURICHI', 'Tamil Nadu'],\n",
       " ['DAVANAGERE', 'Karnataka'],\n",
       " ['ALAPPUZHA', 'Kerala'],\n",
       " ['SANT KABIR NAGAR', 'Uttar Pradesh'],\n",
       " ['THENI', 'Tamil Nadu'],\n",
       " ['GIRIDIH', 'Jharkhand'],\n",
       " ['AHMEDABAD WEST', 'Gujarat'],\n",
       " ['AHMEDABAD WEST', 'Gujarat'],\n",
       " ['BARAMULLA', 'Jammu and Kashmir'],\n",
       " ['MATHURAPUR', 'West Bengal'],\n",
       " ['MUMBAI SOUTH CENTRAL', 'Maharashtra'],\n",
       " ['KASARAGOD', 'Kerala'],\n",
       " ['GUNTUR', 'Andhra Pradesh'],\n",
       " ['ANANTNAG', 'Jammu and Kashmir'],\n",
       " ['HARDWAR', 'Uttarakhand'],\n",
       " ['CHANDNI CHOWK', 'NCT of Delhi'],\n",
       " ['BANGALORE NORTH', 'Karnataka'],\n",
       " ['BANGALORE NORTH', 'Karnataka'],\n",
       " ['BANGALORE NORTH', 'Karnataka'],\n",
       " ['BANGALORE NORTH', 'Karnataka'],\n",
       " ['NAGAUR', 'Rajasthan'],\n",
       " ['JAIPUR', 'Rajasthan'],\n",
       " ['JAIPUR', 'Rajasthan'],\n",
       " ['MADHUBANI', 'Bihar'],\n",
       " ['MUMBAI SOUTH', 'Maharashtra'],\n",
       " ['NIZAMABAD', 'Telangana'],\n",
       " ['BULDHANA', 'Maharashtra'],\n",
       " ['BIDAR', 'Karnataka'],\n",
       " ['BARAMULLA', 'Jammu and Kashmir'],\n",
       " ['KANNUR', 'Kerala'],\n",
       " ['WAYANAD', 'Kerala'],\n",
       " ['CHALAKUDY', 'Kerala'],\n",
       " ['NIZAMABAD', 'Telangana'],\n",
       " ['MALDAHA UTTAR', 'West Bengal'],\n",
       " ['MALDAHA UTTAR', 'West Bengal'],\n",
       " ['GURGAON', 'Haryana'],\n",
       " ['MUMBAI SOUTH', 'Maharashtra'],\n",
       " ['JAMMU', 'Jammu and Kashmir'],\n",
       " ['SILCHAR', 'Assam'],\n",
       " ['MURSHIDABAD', 'West Bengal'],\n",
       " ['LAKSHADWEEP', 'Lakshadweep'],\n",
       " ['HAZARIBAGH', 'Jharkhand'],\n",
       " ['ARARIA', 'Bihar'],\n",
       " ['VELLORE', 'Tamil Nadu'],\n",
       " ['VELLORE', 'Tamil Nadu'],\n",
       " ['VELLORE', 'Tamil Nadu'],\n",
       " ['PERAMBALUR', 'Tamil Nadu'],\n",
       " ['BARAMULLA', 'Jammu and Kashmir'],\n",
       " ['SRINAGAR', 'Jammu and Kashmir'],\n",
       " ['RAIPUR', 'Chhattisgarh'],\n",
       " ['GARHWAL', 'Uttarakhand'],\n",
       " ['KASARAGOD', 'Kerala'],\n",
       " ['COIMBATORE', 'Tamil Nadu'],\n",
       " ['NORTH EAST DELHI', 'NCT of Delhi'],\n",
       " ['NORTH EAST DELHI', 'Goa'],\n",
       " ['NORTH EAST DELHI', 'NCT of Delhi'],\n",
       " ['BHOPAL', 'Madhya Pradesh'],\n",
       " ['REWA', 'Madhya Pradesh'],\n",
       " ['GUNTUR', 'Andhra Pradesh'],\n",
       " ['SALEM', 'Tamil Nadu'],\n",
       " ['KATIHAR', 'Bihar'],\n",
       " ['TAMLUK', 'West Bengal'],\n",
       " ['PONNANI', 'Kerala'],\n",
       " ['PONNANI', 'Kerala'],\n",
       " ['PONNANI', 'Kerala'],\n",
       " ['BALURGHAT', 'West Bengal'],\n",
       " ['SECUNDERABAD', 'Telangana'],\n",
       " ['JANGIPUR', 'West Bengal'],\n",
       " ['BAHARAMPUR', 'West Bengal'],\n",
       " ['MAHASAMUND', 'Chhattisgarh'],\n",
       " ['THANE', 'Maharashtra'],\n",
       " ['MAVAL', 'Maharashtra'],\n",
       " ['DIAMOND HARBOUR', 'West Bengal'],\n",
       " ['JANGIPUR', 'West Bengal'],\n",
       " ['THANE', 'Maharashtra'],\n",
       " ['JANGIPUR', 'West Bengal'],\n",
       " ['BARABANKI', 'Uttar Pradesh'],\n",
       " ['VARANASI', 'Uttar Pradesh'],\n",
       " ['PALAKKAD', 'Kerala'],\n",
       " ['CHURU', 'Rajasthan'],\n",
       " ['DIAMOND HARBOUR', 'West Bengal'],\n",
       " ['LUCKNOW', 'Uttar Pradesh'],\n",
       " ['RAJNANDGAON', 'Chhattisgarh'],\n",
       " ['KASARAGOD', 'Kerala'],\n",
       " ['PALAKKAD', 'Kerala'],\n",
       " ['WAYANAD', 'Kerala'],\n",
       " ['JALGAON', 'Maharashtra'],\n",
       " ['MUMBAI NORTH CENTRAL', 'Maharashtra'],\n",
       " ['MALDAHA DAKSHIN', 'West Bengal'],\n",
       " ['MALDAHA DAKSHIN', 'West Bengal'],\n",
       " ['MAINPURI', 'Uttar Pradesh'],\n",
       " ['BHAGALPUR', 'Bihar'],\n",
       " ['BARPETA', 'Assam'],\n",
       " ['RANCHI', 'Jharkhand'],\n",
       " ['MALDAHA DAKSHIN', 'West Bengal'],\n",
       " ['MALDAHA DAKSHIN', 'West Bengal'],\n",
       " ['ULUBERIA', 'West Bengal'],\n",
       " ['PONNANI', 'Kerala'],\n",
       " ['SAMBHAL', 'Uttar Pradesh'],\n",
       " ['LALGANJ', 'Uttar Pradesh'],\n",
       " ['GORAKHPUR', 'Uttar Pradesh'],\n",
       " ['BOLANGIR', 'Odisha'],\n",
       " ['BHIWANDI', 'Maharashtra'],\n",
       " ['JALNA', 'Maharashtra'],\n",
       " ['NASHIK', 'Maharashtra'],\n",
       " ['MYSORE', 'Karnataka'],\n",
       " ['NELLORE', 'Andhra Pradesh'],\n",
       " ['LUCKNOW', 'Uttar Pradesh'],\n",
       " ['ALLAHABAD', 'Uttar Pradesh'],\n",
       " ['MIRZAPUR', 'Uttar Pradesh'],\n",
       " ['SHIRUR', 'Maharashtra'],\n",
       " ['BAHARAMPUR', 'West Bengal'],\n",
       " ['AHMEDABAD EAST', 'Gujarat'],\n",
       " ['AHMEDABAD EAST', 'Gujarat'],\n",
       " ['NAWADA', 'Bihar'],\n",
       " ['MUMBAI SOUTH CENTRAL', 'Maharashtra'],\n",
       " ['GORAKHPUR', 'Uttar Pradesh'],\n",
       " ['AMRAVATI', 'Maharashtra'],\n",
       " ['THRISSUR', 'Kerala'],\n",
       " ['PARBHANI', 'Maharashtra'],\n",
       " ['AMRAVATI', 'Maharashtra'],\n",
       " ['KASARAGOD', 'Kerala'],\n",
       " ['ATTINGAL', 'Kerala'],\n",
       " ['NANDED', 'Maharashtra'],\n",
       " ['SOUTH GOA', 'NCT of Delhi'],\n",
       " ['SOUTH GOA', 'Goa'],\n",
       " ['SANGLI', 'Maharashtra'],\n",
       " ['ATTINGAL', 'Kerala'],\n",
       " ['SHIRDI', 'Maharashtra'],\n",
       " ['MALAPPURAM', 'Kerala'],\n",
       " ['SOUTH GOA', 'NCT of Delhi'],\n",
       " ['SOUTH GOA', 'Goa'],\n",
       " ['WAYANAD', 'Kerala'],\n",
       " ['PATHANAMTHITTA', 'Kerala'],\n",
       " ['THIRUVANANTHAPURAM', 'Kerala'],\n",
       " ['SOUTH GOA', 'NCT of Delhi'],\n",
       " ['SOUTH GOA', 'Goa'],\n",
       " ['BULDHANA', 'Maharashtra'],\n",
       " ['SOLAPUR', 'Maharashtra'],\n",
       " ['MADHA', 'Maharashtra'],\n",
       " ['OSMANABAD', 'Maharashtra'],\n",
       " ['SATARA', 'Maharashtra'],\n",
       " ['VADAKARA', 'Kerala'],\n",
       " ['ATTINGAL', 'Kerala'],\n",
       " ['IDUKKI', 'Kerala'],\n",
       " ['IDUKKI', 'Kerala'],\n",
       " ['ALAPPUZHA', 'Kerala'],\n",
       " ['MAVELIKKARA', 'Kerala'],\n",
       " ['MAVELIKKARA', 'Kerala'],\n",
       " ['KOLLAM', 'Kerala'],\n",
       " ['JALGAON', 'Maharashtra'],\n",
       " ['NANDURBAR', 'Maharashtra'],\n",
       " ['MADHA', 'Maharashtra'],\n",
       " ['BALLIA', 'Uttar Pradesh'],\n",
       " ['FATEHPUR', 'Uttar Pradesh'],\n",
       " ['FATEHPUR', 'Uttar Pradesh'],\n",
       " ['SRINAGAR', 'Jammu and Kashmir'],\n",
       " ['BARDHAMAN DURGAPUR', 'West Bengal'],\n",
       " ['BEED', 'Maharashtra'],\n",
       " ['MAYILADUTHURAI', 'Tamil Nadu'],\n",
       " ['JALNA', 'Maharashtra'],\n",
       " ['AURANGABAD', 'Bihar'],\n",
       " ['AURANGABAD', 'Maharashtra'],\n",
       " ['KRISHNANAGAR', 'West Bengal'],\n",
       " ['FARIDABAD', 'Haryana'],\n",
       " ['CHANDRAPUR', 'Maharashtra'],\n",
       " ['DHANBAD', 'Jharkhand'],\n",
       " ['VARANASI', 'Uttar Pradesh'],\n",
       " ['GURGAON', 'Haryana'],\n",
       " ['AMALAPURAM', 'Andhra Pradesh'],\n",
       " ['MUMBAI SOUTH CENTRAL', 'Maharashtra'],\n",
       " ['MIRZAPUR', 'Uttar Pradesh'],\n",
       " ['GAUHATI', 'Assam'],\n",
       " ['NAWADA', 'Bihar'],\n",
       " ['NAGPUR', 'Maharashtra'],\n",
       " ['RAE BARELI', 'Uttar Pradesh'],\n",
       " ['SATNA', 'Madhya Pradesh'],\n",
       " ['DIAMOND HARBOUR', 'West Bengal'],\n",
       " ['SITAMARHI', 'Bihar'],\n",
       " ['CHURU', 'Rajasthan'],\n",
       " ['JAMSHEDPUR', 'Jharkhand'],\n",
       " ['BHADOHI', 'Uttar Pradesh'],\n",
       " ['KHERI', 'Uttar Pradesh'],\n",
       " ['BASIRHAT', 'West Bengal'],\n",
       " ['JAGATSINGHPUR', 'Odisha'],\n",
       " ['JALANDHAR', 'Punjab'],\n",
       " ['DHANBAD', 'Jharkhand'],\n",
       " ['CHANDNI CHOWK', 'NCT of Delhi'],\n",
       " ['AKOLA', 'Maharashtra'],\n",
       " ['GONDA', 'Uttar Pradesh'],\n",
       " ['JAIPUR RURAL', 'Rajasthan'],\n",
       " ['JAIPUR RURAL', 'Rajasthan'],\n",
       " ['NEW DELHI', 'NCT of Delhi'],\n",
       " ['MUZAFFARPUR', 'Bihar'],\n",
       " ['ETAWAH', 'Uttar Pradesh'],\n",
       " ['BILASPUR', 'Chhattisgarh'],\n",
       " ['SATNA', 'Madhya Pradesh'],\n",
       " ['VARANASI', 'Uttar Pradesh'],\n",
       " ['DHAR', 'Madhya Pradesh'],\n",
       " ['BETUL', 'Madhya Pradesh'],\n",
       " ['CHANDIGARH', 'Chandigarh'],\n",
       " ['ALMORA', 'Uttarakhand'],\n",
       " ['PUNE', 'Maharashtra'],\n",
       " ['DHAURAHRA', 'Uttar Pradesh'],\n",
       " ['RAIPUR', 'Chhattisgarh'],\n",
       " ['MAHARAJGANJ', 'Uttar Pradesh'],\n",
       " ['MAHARAJGANJ', 'Bihar'],\n",
       " ['BAGALKOT', 'Karnataka'],\n",
       " ['BAGHPAT', 'Uttar Pradesh'],\n",
       " ['SIKAR', 'Rajasthan'],\n",
       " ['ALLAHABAD', 'Uttar Pradesh'],\n",
       " ['DINDORI', 'Maharashtra'],\n",
       " ['THIRUVANANTHAPURAM', 'Kerala'],\n",
       " ['INDORE', 'Madhya Pradesh'],\n",
       " ['HAZARIBAGH', 'Jharkhand'],\n",
       " ['BADAUN', 'Uttar Pradesh'],\n",
       " ['MAHASAMUND', 'Chhattisgarh'],\n",
       " ['PURULIA', 'West Bengal'],\n",
       " ['BAGHPAT', 'Uttar Pradesh'],\n",
       " ['MUZAFFARPUR', 'Bihar'],\n",
       " ['PATHANAMTHITTA', 'Kerala'],\n",
       " ['KOTA', 'Rajasthan'],\n",
       " ['SIKKIM', 'Sikkim'],\n",
       " ['MORENA', 'Madhya Pradesh'],\n",
       " ['GONDA', 'Uttar Pradesh'],\n",
       " ['RAMPUR', 'Uttar Pradesh'],\n",
       " ['GURGAON', 'Haryana'],\n",
       " ['RAMPUR', 'Uttar Pradesh'],\n",
       " ['KUSHI NAGAR', 'Uttar Pradesh'],\n",
       " ['NAGALAND', 'Nagaland'],\n",
       " ['BANKA', 'Bihar'],\n",
       " ['GWALIOR', 'Madhya Pradesh'],\n",
       " ['BHADOHI', 'Uttar Pradesh'],\n",
       " ['MAHARAJGANJ', 'Uttar Pradesh'],\n",
       " ['MAHARAJGANJ', 'Bihar'],\n",
       " ['UNNAO', 'Uttar Pradesh'],\n",
       " ['MAHARAJGANJ', 'Uttar Pradesh'],\n",
       " ['MAHARAJGANJ', 'Bihar'],\n",
       " ['MUZAFFARPUR', 'Bihar'],\n",
       " ['KISHANGANJ', 'Bihar'],\n",
       " ['NARASARAOPET', 'Andhra Pradesh'],\n",
       " ['DHANBAD', 'Jharkhand'],\n",
       " ['BADAUN', 'Uttar Pradesh'],\n",
       " ['MUZAFFARPUR', 'Bihar'],\n",
       " ['FIROZABAD', 'Uttar Pradesh'],\n",
       " ['LUDHIANA', 'Punjab'],\n",
       " ['JHANJHARPUR', 'Bihar'],\n",
       " ['SIVAGANGA', 'Tamil Nadu'],\n",
       " ['CUDDALORE', 'Tamil Nadu'],\n",
       " ['TENKASI', 'Tamil Nadu'],\n",
       " ['THENI', 'Tamil Nadu'],\n",
       " ['ALATHUR', 'Kerala'],\n",
       " ['SOUTH GOA', 'NCT of Delhi'],\n",
       " ['SOUTH GOA', 'Goa'],\n",
       " ['PATHANAMTHITTA', 'Kerala'],\n",
       " ['DURG', 'Chhattisgarh'],\n",
       " ['VADAKARA', 'Kerala'],\n",
       " ['NORTH EAST DELHI', 'NCT of Delhi'],\n",
       " ['NORTH EAST DELHI', 'Goa'],\n",
       " ['NORTH EAST DELHI', 'NCT of Delhi'],\n",
       " ['DHUBRI', 'Assam'],\n",
       " ['BERHAMPUR', 'Odisha'],\n",
       " ['BANKA', 'Bihar'],\n",
       " ['KISHANGANJ', 'Bihar'],\n",
       " ['RAMANATHAPURAM', 'Tamil Nadu'],\n",
       " ['KHANDWA', 'Madhya Pradesh'],\n",
       " ['KOLKATA UTTAR', 'West Bengal'],\n",
       " ['KOLKATA UTTAR', 'West Bengal'],\n",
       " ['UJIARPUR', 'Bihar'],\n",
       " ['MAINPURI', 'Uttar Pradesh'],\n",
       " ['BHOPAL', 'Madhya Pradesh'],\n",
       " ['DIAMOND HARBOUR', 'West Bengal'],\n",
       " ['GWALIOR', 'Madhya Pradesh'],\n",
       " ['COIMBATORE', 'Tamil Nadu'],\n",
       " ['SATARA', 'Maharashtra'],\n",
       " ['NANDED', 'Maharashtra'],\n",
       " ['VIJAYAWADA', 'Andhra Pradesh'],\n",
       " ['CHANDNI CHOWK', 'NCT of Delhi'],\n",
       " ['OSMANABAD', 'Maharashtra'],\n",
       " ['DAVANAGERE', 'Karnataka'],\n",
       " ['THOOTHUKKUDI', 'Tamil Nadu'],\n",
       " ['KANKER', 'Chhattisgarh'],\n",
       " ['SUPAUL', 'Bihar'],\n",
       " ['RANCHI', 'Jharkhand'],\n",
       " ['BHARATPUR', 'Rajasthan'],\n",
       " ['KORBA', 'Chhattisgarh'],\n",
       " ['SIWAN', 'Bihar'],\n",
       " ['ALMORA', 'Uttarakhand'],\n",
       " ['VALMIKI NAGAR', 'Bihar'],\n",
       " ['AGRA', 'Uttar Pradesh'],\n",
       " ['AKBARPUR', 'Uttar Pradesh'],\n",
       " ['FATEHPUR SIKRI', 'Uttar Pradesh'],\n",
       " ['FATEHPUR SIKRI', 'Uttar Pradesh'],\n",
       " ['GANGANAGAR', 'Rajasthan'],\n",
       " ['VIDISHA', 'Madhya Pradesh'],\n",
       " ['BANDA', 'Uttar Pradesh'],\n",
       " ['SIKAR', 'Rajasthan'],\n",
       " ['AMRITSAR', 'Punjab'],\n",
       " ['CHANDIGARH', 'Chandigarh'],\n",
       " ['AMRITSAR', 'Punjab'],\n",
       " ['SAMBALPUR', 'Odisha'],\n",
       " ['PURNIA', 'Bihar'],\n",
       " ['OUTER MANIPUR', 'Manipur'],\n",
       " ['KASARAGOD', 'Kerala'],\n",
       " ['AKOLA', 'Maharashtra'],\n",
       " ['FATEHPUR SIKRI', 'Uttar Pradesh'],\n",
       " ['FATEHPUR SIKRI', 'Uttar Pradesh'],\n",
       " ['TIKAMGARH', 'Madhya Pradesh'],\n",
       " ['BASTI', 'Uttar Pradesh'],\n",
       " ['ANANDPUR SAHIB', 'Punjab'],\n",
       " ['BANGALORE CENTRAL', 'Karnataka'],\n",
       " ['BANGALORE CENTRAL', 'Karnataka'],\n",
       " ['BANGALORE CENTRAL', 'Karnataka'],\n",
       " ['BANGALORE CENTRAL', 'Karnataka'],\n",
       " ['KUSHI NAGAR', 'Uttar Pradesh'],\n",
       " ['SULTANPUR', 'Uttar Pradesh'],\n",
       " ['HAMIRPUR', 'Uttar Pradesh'],\n",
       " ['HAMIRPUR', 'Himachal Pradesh'],\n",
       " ['RAMANATHAPURAM', 'Tamil Nadu'],\n",
       " ['SANT KABIR NAGAR', 'Uttar Pradesh'],\n",
       " ['GURDASPUR', 'Punjab'],\n",
       " ['KHAJURAHO', 'Madhya Pradesh'],\n",
       " ['JALANDHAR', 'Punjab'],\n",
       " ['MORADABAD', 'Uttar Pradesh'],\n",
       " ['SAMASTIPUR', 'Bihar'],\n",
       " ['PURVI CHAMPARAN', 'Bihar'],\n",
       " ['NORTH EAST DELHI', 'NCT of Delhi'],\n",
       " ['NORTH EAST DELHI', 'Goa'],\n",
       " ['NORTH EAST DELHI', 'NCT of Delhi'],\n",
       " ['RANCHI', 'Jharkhand'],\n",
       " ['MOHANLALGANJ', 'Uttar Pradesh'],\n",
       " ['ALIGARH', 'Uttar Pradesh'],\n",
       " ['RANCHI', 'Jharkhand'],\n",
       " ['JAJPUR', 'Odisha'],\n",
       " ['UJIARPUR', 'Bihar'],\n",
       " ['PATIALA', 'Punjab'],\n",
       " ['DHULE', 'Maharashtra'],\n",
       " ['RAIGARH', 'Chhattisgarh'],\n",
       " ['HINDUPUR', 'Andhra Pradesh'],\n",
       " ['DHAURAHRA', 'Uttar Pradesh'],\n",
       " ['PASCHIM CHAMPARAN', 'Bihar'],\n",
       " ['DHAURAHRA', 'Uttar Pradesh'],\n",
       " ['NORTH EAST DELHI', 'NCT of Delhi'],\n",
       " ['NORTH EAST DELHI', 'Goa'],\n",
       " ['NORTH EAST DELHI', 'NCT of Delhi'],\n",
       " ['BHAGALPUR', 'Bihar'],\n",
       " ['HARDWAR', 'Uttarakhand'],\n",
       " ['DHANBAD', 'Jharkhand'],\n",
       " ['KANPUR', 'Uttar Pradesh'],\n",
       " ['BILASPUR', 'Chhattisgarh'],\n",
       " ['KALYAN', 'Maharashtra'],\n",
       " ['PASCHIM CHAMPARAN', 'Bihar'],\n",
       " ['BASTI', 'Uttar Pradesh'],\n",
       " ['DAKSHINA KANNADA', 'Karnataka'],\n",
       " ['SAMBALPUR', 'Odisha'],\n",
       " ['NELLORE', 'Andhra Pradesh'],\n",
       " ['MUMBAI NORTH EAST', 'Maharashtra'],\n",
       " ['CHIDAMBARAM', 'Tamil Nadu'],\n",
       " ['DHARWAD', 'Karnataka'],\n",
       " ['THOOTHUKKUDI', 'Tamil Nadu'],\n",
       " ['CUDDALORE', 'Tamil Nadu'],\n",
       " ['BHARUCH', 'Gujarat'],\n",
       " ['DHARMAPURI', 'Tamil Nadu'],\n",
       " ['RAJNANDGAON', 'Chhattisgarh'],\n",
       " ['DAMOH', 'Madhya Pradesh'],\n",
       " ['KEONJHAR', 'Odisha'],\n",
       " ['BANGALORE SOUTH', 'Karnataka'],\n",
       " ['BANGALORE SOUTH', 'Karnataka'],\n",
       " ['BANGALORE SOUTH', 'Karnataka'],\n",
       " ['BANGALORE SOUTH', 'Karnataka'],\n",
       " ['SECUNDERABAD', 'Telangana'],\n",
       " ['ANANTAPUR', 'Andhra Pradesh'],\n",
       " ['UTTARA KANNADA', 'Karnataka'],\n",
       " ['JAYNAGAR', 'West Bengal'],\n",
       " ['TIRUVANNAMALAI', 'Tamil Nadu'],\n",
       " ['TIRUCHIRAPPALLI', 'Tamil Nadu'],\n",
       " ['CHENNAI NORTH', 'Tamil Nadu'],\n",
       " ['CHENNAI NORTH', 'Tamil Nadu'],\n",
       " ['CHENNAI NORTH', 'Tamil Nadu'],\n",
       " ['PERAMBALUR', 'Tamil Nadu'],\n",
       " ['DHARMAPURI', 'Tamil Nadu'],\n",
       " ['DHARMAPURI', 'Tamil Nadu'],\n",
       " ['COIMBATORE', 'Tamil Nadu'],\n",
       " ['UJJAIN', 'Madhya Pradesh'],\n",
       " ['JAMSHEDPUR', 'Jharkhand'],\n",
       " ['SHEOHAR', 'Bihar'],\n",
       " ['DHARMAPURI', 'Tamil Nadu'],\n",
       " ['KURUKSHETRA', 'Haryana'],\n",
       " ['ROHTAK', 'Haryana'],\n",
       " ['AGRA', 'Uttar Pradesh'],\n",
       " ['MEERUT', 'Uttar Pradesh'],\n",
       " ['KANPUR', 'Uttar Pradesh'],\n",
       " ['GAUHATI', 'Assam'],\n",
       " ['AHMEDNAGAR', 'Maharashtra'],\n",
       " ['UDHAMPUR', 'Jammu and Kashmir'],\n",
       " ['FATEHPUR SIKRI', 'Uttar Pradesh'],\n",
       " ['FATEHPUR SIKRI', 'Uttar Pradesh'],\n",
       " ['UNNAO', 'Uttar Pradesh'],\n",
       " ['MUZAFFARNAGAR', 'Uttar Pradesh'],\n",
       " ['BAGHPAT', 'Uttar Pradesh'],\n",
       " ['ERNAKULAM', 'Kerala'],\n",
       " ['GOPALGANJ', 'Bihar'],\n",
       " ['SONIPAT', 'Haryana'],\n",
       " ['JAIPUR RURAL', 'Rajasthan'],\n",
       " ['JAIPUR RURAL', 'Rajasthan'],\n",
       " ['PATNA SAHIB', 'Bihar'],\n",
       " ['HAMIRPUR', 'Uttar Pradesh'],\n",
       " ['HAMIRPUR', 'Himachal Pradesh'],\n",
       " ['THIRUVANANTHAPURAM', 'Kerala'],\n",
       " ['UNNAO', 'Uttar Pradesh'],\n",
       " ['UDHAMPUR', 'Jammu and Kashmir'],\n",
       " ['PURNIA', 'Bihar'],\n",
       " ['CHANDAULI', 'Uttar Pradesh'],\n",
       " ['UNNAO', 'Uttar Pradesh'],\n",
       " ['ATTINGAL', 'Kerala'],\n",
       " ['CHATRA', 'Jharkhand'],\n",
       " ['MAHARAJGANJ', 'Uttar Pradesh'],\n",
       " ['MAHARAJGANJ', 'Bihar'],\n",
       " ['BADAUN', 'Uttar Pradesh'],\n",
       " ['JAIPUR', 'Rajasthan'],\n",
       " ['JAIPUR', 'Rajasthan'],\n",
       " ['JAHANABAD', 'Bihar'],\n",
       " ['PURVI CHAMPARAN', 'Bihar'],\n",
       " ['JAUNPUR', 'Uttar Pradesh'],\n",
       " ['SHIMOGA', 'Karnataka'],\n",
       " ['KALYAN', 'Maharashtra'],\n",
       " ['UJJAIN', 'Madhya Pradesh'],\n",
       " ['PUNE', 'Maharashtra'],\n",
       " ['AKBARPUR', 'Uttar Pradesh'],\n",
       " ['INDORE', 'Madhya Pradesh'],\n",
       " ['RAIPUR', 'Chhattisgarh'],\n",
       " ['BHARUCH', 'Gujarat'],\n",
       " ['AHMEDABAD EAST', 'Gujarat'],\n",
       " ['AHMEDABAD EAST', 'Gujarat'],\n",
       " ['KOTTAYAM', 'Kerala'],\n",
       " ['MADHUBANI', 'Bihar'],\n",
       " ['RAJKOT', 'Gujarat'],\n",
       " ['PILIBHIT', 'Uttar Pradesh'],\n",
       " ['IDUKKI', 'Kerala'],\n",
       " ['AGRA', 'Uttar Pradesh'],\n",
       " ['JHARGRAM', 'West Bengal'],\n",
       " ['BHIND', 'Madhya Pradesh'],\n",
       " ['AJMER', 'Rajasthan'],\n",
       " ['ANDAMAN AND NICOBAR ISLANDS', 'Andaman and Nicobar Islands'],\n",
       " ['NAGPUR', 'Maharashtra'],\n",
       " ['HARDWAR', 'Uttarakhand'],\n",
       " ['ERNAKULAM', 'Kerala'],\n",
       " ['NAGPUR', 'Maharashtra'],\n",
       " ['DAUSA', 'Rajasthan'],\n",
       " ['GHATAL', 'West Bengal'],\n",
       " ['JALORE', 'Rajasthan'],\n",
       " ['MALKAJGIRI', 'Telangana'],\n",
       " ['RANCHI', 'Jharkhand'],\n",
       " ['FARRUKHABAD', 'Uttar Pradesh'],\n",
       " ['MISRIKH', 'Uttar Pradesh'],\n",
       " ['DAUSA', 'Rajasthan'],\n",
       " ['RAE BARELI', 'Uttar Pradesh'],\n",
       " ['BULANDSHAHR', 'Uttar Pradesh'],\n",
       " ['NEW DELHI', 'NCT of Delhi'],\n",
       " ['MUZAFFARNAGAR', 'Uttar Pradesh'],\n",
       " ['RAJKOT', 'Gujarat'],\n",
       " ['AURANGABAD', 'Bihar'],\n",
       " ['AURANGABAD', 'Maharashtra'],\n",
       " ['WARDHA', 'Maharashtra'],\n",
       " ['TIRUVANNAMALAI', 'Tamil Nadu'],\n",
       " ['TIRUVANNAMALAI', 'Tamil Nadu'],\n",
       " ['TIRUVANNAMALAI', 'Tamil Nadu'],\n",
       " ['RAMANATHAPURAM', 'Tamil Nadu'],\n",
       " ['RAJAHMUNDRY', 'Andhra Pradesh'],\n",
       " ['CHALAKUDY', 'Kerala'],\n",
       " ['RAJAMPET', 'Andhra Pradesh'],\n",
       " ['UNNAO', 'Uttar Pradesh'],\n",
       " ['FARRUKHABAD', 'Uttar Pradesh'],\n",
       " ['MORENA', 'Madhya Pradesh'],\n",
       " ['MORENA', 'Madhya Pradesh'],\n",
       " ['TEHRI GARHWAL', 'Uttarakhand'],\n",
       " ['HOSHIARPUR', 'Punjab'],\n",
       " ['KHUNTI', 'Jharkhand'],\n",
       " ['DHUBRI', 'Assam'],\n",
       " ['KANTHI', 'West Bengal'],\n",
       " ['BHIWANDI', 'Maharashtra'],\n",
       " ['BHIWANDI', 'Maharashtra'],\n",
       " ['BHIWANDI', 'Maharashtra'],\n",
       " ['DHULE', 'Maharashtra'],\n",
       " ['FARRUKHABAD', 'Uttar Pradesh'],\n",
       " ['HARDOI', 'Uttar Pradesh'],\n",
       " ['MAYURBHANJ', 'Odisha'],\n",
       " ['KANNIYAKUMARI', 'Tamil Nadu'],\n",
       " ['PATHANAMTHITTA', 'Kerala'],\n",
       " ['HOSHIARPUR', 'Punjab'],\n",
       " ['VAISHALI', 'Bihar'],\n",
       " ['BALAGHAT', 'Madhya Pradesh'],\n",
       " ['MANDLA', 'Madhya Pradesh'],\n",
       " ['MATHURA', 'Uttar Pradesh'],\n",
       " ['GARHWAL', 'Uttarakhand'],\n",
       " ['DIBRUGARH', 'Assam'],\n",
       " ['SONIPAT', 'Haryana'],\n",
       " ['BOLPUR', 'West Bengal'],\n",
       " ['JAGATSINGHPUR', 'Odisha'],\n",
       " ['JAUNPUR', 'Uttar Pradesh'],\n",
       " ['MIRZAPUR', 'Uttar Pradesh'],\n",
       " ['JHANSI', 'Uttar Pradesh'],\n",
       " ['FARRUKHABAD', 'Uttar Pradesh'],\n",
       " ['HAMIRPUR', 'Uttar Pradesh'],\n",
       " ['HAMIRPUR', 'Himachal Pradesh'],\n",
       " ['TUMKUR', 'Karnataka'],\n",
       " ['MADHEPURA', 'Bihar'],\n",
       " ['TIRUCHIRAPPALLI', 'Tamil Nadu'],\n",
       " ['GUNA', 'Madhya Pradesh'],\n",
       " ['KHAJURAHO', 'Madhya Pradesh'],\n",
       " ['MALAPPURAM', 'Kerala'],\n",
       " ['RAMANATHAPURAM', 'Tamil Nadu'],\n",
       " ['CUTTACK', 'Odisha'],\n",
       " ['SANT KABIR NAGAR', 'Uttar Pradesh'],\n",
       " ['MEERUT', 'Uttar Pradesh'],\n",
       " ['ANAKAPALLE', 'Andhra Pradesh'],\n",
       " ['IDUKKI', 'Kerala'],\n",
       " ['CHIKKODI', 'Karnataka'],\n",
       " ['HINDUPUR', 'Andhra Pradesh'],\n",
       " ['SAMBHAL', 'Uttar Pradesh'],\n",
       " ['SAMBHAL', 'Uttar Pradesh'],\n",
       " ['RAICHUR', 'Karnataka'],\n",
       " ['THANJAVUR', 'Tamil Nadu'],\n",
       " ['RAMANATHAPURAM', 'Tamil Nadu'],\n",
       " ['MAHARAJGANJ', 'Uttar Pradesh'],\n",
       " ['MAHARAJGANJ', 'Bihar'],\n",
       " ['MANDYA', 'Karnataka'],\n",
       " ['JHANSI', 'Uttar Pradesh'],\n",
       " ['RANAGHAT', 'West Bengal'],\n",
       " ['RAE BARELI', 'Uttar Pradesh'],\n",
       " ['SIVAGANGA', 'Tamil Nadu'],\n",
       " ['DHARMAPURI', 'Tamil Nadu'],\n",
       " ['DHARMAPURI', 'Tamil Nadu'],\n",
       " ['BARMER', 'Rajasthan'],\n",
       " ['MUMBAI NORTH', 'Maharashtra'],\n",
       " ['BHADRAK', 'Odisha'],\n",
       " ['BHADRAK', 'Odisha'],\n",
       " ['MUMBAI NORTH', 'Maharashtra'],\n",
       " ['BEED', 'Maharashtra'],\n",
       " ['UJIARPUR', 'Bihar'],\n",
       " ['BANSGAON', 'Uttar Pradesh'],\n",
       " ['RAJMAHAL', 'Jharkhand'],\n",
       " ['SITAMARHI', 'Bihar'],\n",
       " ['BIKANER', 'Rajasthan'],\n",
       " ['DOMARIYAGANJ', 'Uttar Pradesh'],\n",
       " ['BASTAR', 'Chhattisgarh'],\n",
       " ['JAHANABAD', 'Bihar'],\n",
       " ['SHRAWASTI', 'Uttar Pradesh'],\n",
       " ['NABARANGPUR', 'Odisha'],\n",
       " ['KAKINADA', 'Andhra Pradesh'],\n",
       " ['CHHOTA UDAIPUR', 'Gujarat'],\n",
       " ['UDAIPUR', 'Rajasthan'],\n",
       " ['NANDURBAR', 'Maharashtra'],\n",
       " ['KALAHANDI', 'Odisha'],\n",
       " ['PILIBHIT', 'Uttar Pradesh'],\n",
       " ['SHILLONG', 'Meghalaya'],\n",
       " ['JAYNAGAR', 'West Bengal'],\n",
       " ['MANGALDOI', 'Assam'],\n",
       " ['BALURGHAT', 'West Bengal'],\n",
       " ['RANCHI', 'Jharkhand'],\n",
       " ['AONLA', 'Uttar Pradesh'],\n",
       " ['RAIGARH', 'Chhattisgarh'],\n",
       " ['KANGRA', 'Himachal Pradesh'],\n",
       " ['GUNTUR', 'Andhra Pradesh'],\n",
       " ['MORENA', 'Madhya Pradesh'],\n",
       " ['SRIPERUMBUDUR', 'Tamil Nadu'],\n",
       " ['TIRUVANNAMALAI', 'Tamil Nadu'],\n",
       " ['TIRUVANNAMALAI', 'Tamil Nadu'],\n",
       " ['SALEM', 'Tamil Nadu'],\n",
       " ['TIRUVANNAMALAI', 'Tamil Nadu'],\n",
       " ['MAYILADUTHURAI', 'Tamil Nadu'],\n",
       " ['VARANASI', 'Uttar Pradesh'],\n",
       " ['PUNE', 'Maharashtra'],\n",
       " ['AMRITSAR', 'Punjab'],\n",
       " ['AMBALA', 'Haryana'],\n",
       " ['SHRAWASTI', 'Uttar Pradesh'],\n",
       " ['HISAR', 'Haryana'],\n",
       " ['BASTI', 'Uttar Pradesh'],\n",
       " ['DARJEELING', 'West Bengal'],\n",
       " ['TRIPURA WEST', 'Tripura'],\n",
       " ['TRIPURA WEST', 'Tripura'],\n",
       " ['DURG', 'Chhattisgarh'],\n",
       " ['AMRITSAR', 'Punjab'],\n",
       " ['HAZARIBAGH', 'Jharkhand'],\n",
       " ['ALWAR', 'Rajasthan'],\n",
       " ['GHAZIPUR', 'Uttar Pradesh'],\n",
       " ['DEORIA', 'Uttar Pradesh'],\n",
       " ['RAJMAHAL', 'Jharkhand'],\n",
       " ['UNNAO', 'Uttar Pradesh'],\n",
       " ['ROBERTSGANJ', 'Uttar Pradesh'],\n",
       " ['KHANDWA', 'Madhya Pradesh'],\n",
       " ['EAST DELHI', 'NCT of Delhi'],\n",
       " ['ARAKKONAM', 'Tamil Nadu'],\n",
       " ['TIRUVANNAMALAI', 'Tamil Nadu'],\n",
       " ['TIRUCHIRAPPALLI', 'Tamil Nadu'],\n",
       " ['MANDYA', 'Karnataka'],\n",
       " ['SILCHAR', 'Assam'],\n",
       " ['CHENNAI CENTRAL', 'Tamil Nadu'],\n",
       " ['CHENNAI CENTRAL', 'Tamil Nadu'],\n",
       " ['CHENNAI CENTRAL', 'Tamil Nadu'],\n",
       " ['NAVSARI', 'Gujarat'],\n",
       " ['TRIPURA WEST', 'Tripura'],\n",
       " ['TRIPURA WEST', 'Tripura'],\n",
       " ['KALIABOR', 'Assam'],\n",
       " ['BHONGIR', 'Telangana'],\n",
       " ['JAUNPUR', 'Uttar Pradesh'],\n",
       " ['KUSHI NAGAR', 'Uttar Pradesh'],\n",
       " ['BAGHPAT', 'Uttar Pradesh'],\n",
       " ['CHHINDWARA', 'Madhya Pradesh'],\n",
       " ['KHERI', 'Uttar Pradesh'],\n",
       " ['VARANASI', 'Uttar Pradesh'],\n",
       " ['AKBARPUR', 'Uttar Pradesh'],\n",
       " ['UNNAO', 'Uttar Pradesh'],\n",
       " ['FATEHPUR', 'Uttar Pradesh'],\n",
       " ['FATEHPUR', 'Uttar Pradesh'],\n",
       " ['AZAMGARH', 'Uttar Pradesh'],\n",
       " ['KARNAL', 'Haryana'],\n",
       " ['WARDHA', 'Maharashtra'],\n",
       " ['KARNAL', 'Haryana'],\n",
       " ['HYDERABAD', 'Telangana'],\n",
       " ['NAGINA', 'Uttar Pradesh'],\n",
       " ['THENI', 'Tamil Nadu'],\n",
       " ['KOTA', 'Rajasthan'],\n",
       " ['SIDHI', 'Madhya Pradesh'],\n",
       " ['PUNE', 'Maharashtra'],\n",
       " ['AMRAVATI', 'Maharashtra'],\n",
       " ['CHIKKODI', 'Karnataka'],\n",
       " ['BARAMULLA', 'Jammu and Kashmir'],\n",
       " ['ULUBERIA', 'West Bengal'],\n",
       " ['BATHINDA', 'Punjab'],\n",
       " ['KARNAL', 'Haryana'],\n",
       " ['CHATRA', 'Jharkhand'],\n",
       " ['NEW DELHI', 'NCT of Delhi'],\n",
       " ['HAMIRPUR', 'Uttar Pradesh'],\n",
       " ['HAMIRPUR', 'Himachal Pradesh'],\n",
       " ['NALANDA', 'Bihar'],\n",
       " ['GORAKHPUR', 'Uttar Pradesh'],\n",
       " ['KHERI', 'Uttar Pradesh'],\n",
       " ['UJJAIN', 'Madhya Pradesh'],\n",
       " ['PARBHANI', 'Maharashtra'],\n",
       " ['BEED', 'Maharashtra'],\n",
       " ['GURGAON', 'Haryana'],\n",
       " ['BARGARH', 'Odisha'],\n",
       " ['BHILWARA', 'Rajasthan'],\n",
       " ['BEED', 'Maharashtra'],\n",
       " ['SANGLI', 'Maharashtra'],\n",
       " ['VIZIANAGARAM', 'Andhra Pradesh'],\n",
       " ['MUMBAI NORTH CENTRAL', 'Maharashtra'],\n",
       " ['KATIHAR', 'Bihar'],\n",
       " ['FATEHPUR SIKRI', 'Uttar Pradesh'],\n",
       " ['FATEHPUR SIKRI', 'Uttar Pradesh'],\n",
       " ['MAINPURI', 'Uttar Pradesh'],\n",
       " ['KATIHAR', 'Bihar'],\n",
       " ['SATNA', 'Madhya Pradesh'],\n",
       " ['GAYA', 'Bihar'],\n",
       " ['JAMMU', 'Jammu and Kashmir'],\n",
       " ['NAWADA', 'Bihar'],\n",
       " ['KOTA', 'Rajasthan'],\n",
       " ['MISRIKH', 'Uttar Pradesh'],\n",
       " ['MIRZAPUR', 'Uttar Pradesh'],\n",
       " ['AGRA', 'Uttar Pradesh'],\n",
       " ['FATEHPUR', 'Uttar Pradesh'],\n",
       " ['FATEHPUR', 'Uttar Pradesh'],\n",
       " ['ETAWAH', 'Uttar Pradesh'],\n",
       " ['KOTA', 'Rajasthan'],\n",
       " ['MUZAFFARPUR', 'Bihar'],\n",
       " ['ROBERTSGANJ', 'Uttar Pradesh'],\n",
       " ['BALAGHAT', 'Madhya Pradesh'],\n",
       " ['SAMBALPUR', 'Odisha'],\n",
       " ['JAMMU', 'Jammu and Kashmir'],\n",
       " ['JADAVPUR', 'West Bengal'],\n",
       " ['MUZAFFARPUR', 'Bihar'],\n",
       " ['SONIPAT', 'Haryana'],\n",
       " ['KRISHNAGIRI', 'Tamil Nadu'],\n",
       " ['KRISHNAGIRI', 'Tamil Nadu'],\n",
       " ['DUM DUM', 'West Bengal'],\n",
       " ['BARGARH', 'Odisha'],\n",
       " ['LUCKNOW', 'Uttar Pradesh'],\n",
       " ['SAMASTIPUR', 'Bihar'],\n",
       " ['KANPUR', 'Uttar Pradesh'],\n",
       " ['BHOPAL', 'Madhya Pradesh'],\n",
       " ['PURI', 'Odisha'],\n",
       " ['ARRAH', 'Bihar'],\n",
       " ['PURI', 'Odisha'],\n",
       " ['THANE', 'Maharashtra'],\n",
       " ['SHIRUR', 'Maharashtra'],\n",
       " ['PRATAPGARH', 'Uttar Pradesh'],\n",
       " ['AMBEDKAR NAGAR', 'Uttar Pradesh'],\n",
       " ['GWALIOR', 'Madhya Pradesh'],\n",
       " ['SIRSA', 'Haryana'],\n",
       " ['JALGAON', 'Maharashtra'],\n",
       " ['RAVER', 'Maharashtra'],\n",
       " ['CHANDRAPUR', 'Maharashtra'],\n",
       " ['JALNA', 'Maharashtra'],\n",
       " ['SATARA', 'Maharashtra'],\n",
       " ['AKBARPUR', 'Uttar Pradesh'],\n",
       " ['KOLKATA DAKSHIN', 'West Bengal'],\n",
       " ['KOLKATA DAKSHIN', 'West Bengal'],\n",
       " ['MANDYA', 'Karnataka'],\n",
       " ['KHERI', 'Uttar Pradesh'],\n",
       " ['CHANDNI CHOWK', 'NCT of Delhi'],\n",
       " ['CHANDNI CHOWK', 'NCT of Delhi'],\n",
       " ['UJIARPUR', 'Bihar'],\n",
       " ['KURUKSHETRA', 'Haryana'],\n",
       " ['AUTONOMOUS DISTRICT', 'Assam'],\n",
       " ['KARNAL', 'Haryana'],\n",
       " ['BUXAR', 'Bihar'],\n",
       " ['ANANTNAG', 'Jammu and Kashmir'],\n",
       " ['BALAGHAT', 'Madhya Pradesh'],\n",
       " ['GWALIOR', 'Madhya Pradesh'],\n",
       " ['PRATAPGARH', 'Uttar Pradesh'],\n",
       " ['MURSHIDABAD', 'West Bengal'],\n",
       " ['DUM DUM', 'West Bengal'],\n",
       " ['ULUBERIA', 'West Bengal'],\n",
       " ['MUMBAI SOUTH CENTRAL', 'Maharashtra'],\n",
       " ['NAVSARI', 'Gujarat'],\n",
       " ['BHILWARA', 'Rajasthan'],\n",
       " ['KALYAN', 'Maharashtra'],\n",
       " ['JAJPUR', 'Odisha'],\n",
       " ['JADAVPUR', 'West Bengal'],\n",
       " ['MEDINIPUR', 'West Bengal'],\n",
       " ['BALAGHAT', 'Madhya Pradesh'],\n",
       " ['HARDWAR', 'Uttarakhand'],\n",
       " ['TIRUCHIRAPPALLI', 'Tamil Nadu'],\n",
       " ['KHUNTI', 'Jharkhand'],\n",
       " ['GORAKHPUR', 'Uttar Pradesh'],\n",
       " ['BERHAMPUR', 'Odisha'],\n",
       " ['HISAR', 'Haryana'],\n",
       " ['NAGPUR', 'Maharashtra'],\n",
       " ['AMRAVATI', 'Maharashtra'],\n",
       " ['SHRAWASTI', 'Uttar Pradesh'],\n",
       " ['DURG', 'Chhattisgarh'],\n",
       " ['VADAKARA', 'Kerala'],\n",
       " ['CHANDRAPUR', 'Maharashtra'],\n",
       " ['FIROZABAD', 'Uttar Pradesh'],\n",
       " ['MEERUT', 'Uttar Pradesh'],\n",
       " ['BADAUN', 'Uttar Pradesh'],\n",
       " ['HAMIRPUR', 'Uttar Pradesh'],\n",
       " ['HAMIRPUR', 'Himachal Pradesh'],\n",
       " ['GHOSI', 'Uttar Pradesh'],\n",
       " ['KANGRA', 'Himachal Pradesh'],\n",
       " ['SAGAR', 'Madhya Pradesh'],\n",
       " ['KOLHAPUR', 'Maharashtra'],\n",
       " ['CHENNAI CENTRAL', 'Tamil Nadu'],\n",
       " ['CHENNAI CENTRAL', 'Tamil Nadu'],\n",
       " ['CHENNAI CENTRAL', 'Tamil Nadu'],\n",
       " ['JALNA', 'Maharashtra'],\n",
       " ['LALGANJ', 'Uttar Pradesh'],\n",
       " ['NASHIK', 'Maharashtra'],\n",
       " ['VIJAYAWADA', 'Andhra Pradesh'],\n",
       " ['PATALIPUTRA', 'Bihar'],\n",
       " ['HAMIRPUR', 'Uttar Pradesh'],\n",
       " ['HAMIRPUR', 'Himachal Pradesh'],\n",
       " ['BEED', 'Maharashtra'],\n",
       " ['KADAPA', 'Andhra Pradesh'],\n",
       " ['KHAJURAHO', 'Madhya Pradesh'],\n",
       " ['ANAKAPALLE', 'Andhra Pradesh'],\n",
       " ['FATEHGARH SAHIB', 'Punjab'],\n",
       " ['FARIDABAD', 'Haryana'],\n",
       " ['SECUNDERABAD', 'Telangana'],\n",
       " ['HATKANANGLE', 'Maharashtra'],\n",
       " ['DEORIA', 'Uttar Pradesh'],\n",
       " ['NALANDA', 'Bihar'],\n",
       " ['BALLIA', 'Uttar Pradesh'],\n",
       " ['PURVI CHAMPARAN', 'Bihar'],\n",
       " ['JHANJHARPUR', 'Bihar'],\n",
       " ['VISAKHAPATNAM', 'Andhra Pradesh'],\n",
       " ['BARAMULLA', 'Jammu and Kashmir'],\n",
       " ['KHAJURAHO', 'Madhya Pradesh'],\n",
       " ['BAREILLY', 'Uttar Pradesh'],\n",
       " ['BIRBHUM', 'West Bengal'],\n",
       " ['SRIPERUMBUDUR', 'Tamil Nadu'],\n",
       " ['NARASARAOPET', 'Andhra Pradesh'],\n",
       " ['NAGAUR', 'Rajasthan'],\n",
       " ['THOOTHUKKUDI', 'Tamil Nadu'],\n",
       " ['RAMANATHAPURAM', 'Tamil Nadu'],\n",
       " ['ALWAR', 'Rajasthan'],\n",
       " ['PUNE', 'Maharashtra'],\n",
       " ['RAMANATHAPURAM', 'Tamil Nadu'],\n",
       " ['MUMBAI NORTH CENTRAL', 'Maharashtra'],\n",
       " ['RAIGAD', 'Maharashtra'],\n",
       " ['DHUBRI', 'Assam'],\n",
       " ['PRATAPGARH', 'Uttar Pradesh'],\n",
       " ['CHIKKBALLAPUR', 'Karnataka'],\n",
       " ['PALAKKAD', 'Kerala'],\n",
       " ['CHITTOOR', 'Andhra Pradesh'],\n",
       " ['BELLARY', 'Karnataka'],\n",
       " ['SECUNDERABAD', 'Telangana'],\n",
       " ['CHENNAI CENTRAL', 'Tamil Nadu'],\n",
       " ['CHENNAI CENTRAL', 'Tamil Nadu'],\n",
       " ['CHENNAI CENTRAL', 'Tamil Nadu'],\n",
       " ['SHIMOGA', 'Karnataka'],\n",
       " ['DAVANAGERE', 'Karnataka'],\n",
       " ['CHALAKUDY', 'Kerala'],\n",
       " ['CHENNAI SOUTH', 'Tamil Nadu'],\n",
       " ['CHENNAI SOUTH', 'Tamil Nadu'],\n",
       " ['CHENNAI SOUTH', 'Tamil Nadu'],\n",
       " ['BANGALORE SOUTH', 'Karnataka'],\n",
       " ['BANGALORE SOUTH', 'Karnataka'],\n",
       " ['BANGALORE SOUTH', 'Karnataka'],\n",
       " ['BANGALORE SOUTH', 'Karnataka'],\n",
       " ['ZAHIRABAD', 'Telangana'],\n",
       " ['BANGALORE CENTRAL', 'Karnataka'],\n",
       " ['BANGALORE CENTRAL', 'Karnataka'],\n",
       " ['BANGALORE CENTRAL', 'Karnataka'],\n",
       " ['BANGALORE CENTRAL', 'Karnataka'],\n",
       " ['SHIMOGA', 'Karnataka'],\n",
       " ['HAVERI', 'Karnataka'],\n",
       " ['KOPPAL', 'Karnataka'],\n",
       " ['CHIKKBALLAPUR', 'Karnataka'],\n",
       " ['CHITRADURGA', 'Karnataka'],\n",
       " ['BHIND', 'Madhya Pradesh'],\n",
       " ['SHIMOGA', 'Karnataka'],\n",
       " ['GULBARGA', 'Karnataka'],\n",
       " ['RAICHUR', 'Karnataka'],\n",
       " ['KOLAR', 'Karnataka'],\n",
       " ['BANGALORE CENTRAL', 'Karnataka'],\n",
       " ['BANGALORE CENTRAL', 'Karnataka'],\n",
       " ['BANGALORE CENTRAL', 'Karnataka'],\n",
       " ['BANGALORE CENTRAL', 'Karnataka'],\n",
       " ['MALKAJGIRI', 'Telangana'],\n",
       " ['PEDDAPALLE', 'Telangana'],\n",
       " ['TUMKUR', 'Karnataka'],\n",
       " ['MADURAI', 'Tamil Nadu'],\n",
       " ['NANDYAL', 'Andhra Pradesh'],\n",
       " ['ALIGARH', 'Uttar Pradesh'],\n",
       " ['THANJAVUR', 'Tamil Nadu'],\n",
       " ['KHANDWA', 'Madhya Pradesh'],\n",
       " ['MAINPURI', 'Uttar Pradesh'],\n",
       " ['PARBHANI', 'Maharashtra'],\n",
       " ['JALNA', 'Maharashtra'],\n",
       " ['RAIGANJ', 'West Bengal'],\n",
       " ['BARMER', 'Rajasthan'],\n",
       " ['AMETHI', 'Uttar Pradesh'],\n",
       " ['VIDISHA', 'Madhya Pradesh'],\n",
       " ['DUMKA', 'Jharkhand'],\n",
       " ['CHENNAI NORTH', 'Tamil Nadu'],\n",
       " ['CHENNAI NORTH', 'Tamil Nadu'],\n",
       " ['CHENNAI NORTH', 'Tamil Nadu'],\n",
       " ['BANGALORE NORTH', 'Karnataka'],\n",
       " ['BANGALORE NORTH', 'Karnataka'],\n",
       " ['BANGALORE NORTH', 'Karnataka'],\n",
       " ['BANGALORE NORTH', 'Karnataka'],\n",
       " ['CHITTORGARH', 'Rajasthan'],\n",
       " ['WEST DELHI', 'NCT of Delhi'],\n",
       " ['VALSAD', 'Gujarat'],\n",
       " ['BARABANKI', 'Uttar Pradesh'],\n",
       " ['FATEHPUR SIKRI', 'Uttar Pradesh'],\n",
       " ['FATEHPUR SIKRI', 'Uttar Pradesh'],\n",
       " ['DUMKA', 'Jharkhand'],\n",
       " ['BIDAR', 'Karnataka'],\n",
       " ['NAGPUR', 'Maharashtra'],\n",
       " ['RATLAM', 'Madhya Pradesh'],\n",
       " ['KHAMMAM', 'Telangana'],\n",
       " ['VARANASI', 'Uttar Pradesh'],\n",
       " ['VARANASI', 'Uttar Pradesh'],\n",
       " ['KUSHI NAGAR', 'Uttar Pradesh'],\n",
       " ['FARIDKOT', 'Punjab'],\n",
       " ['NARSAPURAM', 'Andhra Pradesh'],\n",
       " ['MURSHIDABAD', 'West Bengal'],\n",
       " ['KHEDA', 'Gujarat'],\n",
       " ['DOMARIYAGANJ', 'Uttar Pradesh'],\n",
       " ['HAZARIBAGH', 'Jharkhand'],\n",
       " ['KOLKATA DAKSHIN', 'West Bengal'],\n",
       " ['KOLKATA DAKSHIN', 'West Bengal'],\n",
       " ['GHOSI', 'Uttar Pradesh'],\n",
       " ['DHUBRI', 'Assam'],\n",
       " ['BAHARAMPUR', 'West Bengal'],\n",
       " ['TAMLUK', 'West Bengal'],\n",
       " ['BHOPAL', 'Madhya Pradesh'],\n",
       " ['DINDIGUL', 'Tamil Nadu'],\n",
       " ['DUMKA', 'Jharkhand'],\n",
       " ['AURANGABAD', 'Bihar'],\n",
       " ['AURANGABAD', 'Maharashtra'],\n",
       " ['SUNDARGARH', 'Odisha'],\n",
       " ['JALGAON', 'Maharashtra'],\n",
       " ['NIZAMABAD', 'Telangana'],\n",
       " ['NAGARKURNOOL', 'Telangana'],\n",
       " ['JALGAON', 'Maharashtra'],\n",
       " ['SURGUJA', 'Chhattisgarh'],\n",
       " ['ALMORA', 'Uttarakhand'],\n",
       " ['BHARATPUR', 'Rajasthan'],\n",
       " ['JAMMU', 'Jammu and Kashmir'],\n",
       " ['RANCHI', 'Jharkhand'],\n",
       " ['JAGATSINGHPUR', 'Odisha'],\n",
       " ['VALMIKI NAGAR', 'Bihar'],\n",
       " ['PURULIA', 'West Bengal'],\n",
       " ['BEGUSARAI', 'Bihar'],\n",
       " ['ARRAH', 'Bihar'],\n",
       " ['KALAHANDI', 'Odisha'],\n",
       " ['MANDLA', 'Madhya Pradesh'],\n",
       " ['RAIGARH', 'Chhattisgarh'],\n",
       " ['SHIRUR', 'Maharashtra'],\n",
       " ['AKBARPUR', 'Uttar Pradesh'],\n",
       " ['NAGARKURNOOL', 'Telangana'],\n",
       " ['AMRITSAR', 'Punjab'],\n",
       " ['PRATAPGARH', 'Uttar Pradesh'],\n",
       " ['BANDA', 'Uttar Pradesh'],\n",
       " ['SARAN', 'Bihar'],\n",
       " ['AMBEDKAR NAGAR', 'Uttar Pradesh'],\n",
       " ['MUMBAI SOUTH', 'Maharashtra'],\n",
       " ['TIRUCHIRAPPALLI', 'Tamil Nadu'],\n",
       " ['KANNIYAKUMARI', 'Tamil Nadu'],\n",
       " ['NABARANGPUR', 'Odisha'],\n",
       " ['LATUR', 'Maharashtra'],\n",
       " ['CHENNAI NORTH', 'Tamil Nadu'],\n",
       " ['CHENNAI NORTH', 'Tamil Nadu'],\n",
       " ['CHENNAI NORTH', 'Tamil Nadu'],\n",
       " ['RAMANATHAPURAM', 'Tamil Nadu'],\n",
       " ['SIVAGANGA', 'Tamil Nadu'],\n",
       " ['KANCHEEPURAM', 'Tamil Nadu'],\n",
       " ['TIRUVALLUR', 'Tamil Nadu'],\n",
       " ['NILGIRIS', 'Tamil Nadu'],\n",
       " ['MEDAK', 'Telangana'],\n",
       " ['KALAHANDI', 'Odisha'],\n",
       " ['AURANGABAD', 'Bihar'],\n",
       " ['AURANGABAD', 'Maharashtra'],\n",
       " ['SHIRDI', 'Maharashtra'],\n",
       " ['BULDHANA', 'Maharashtra'],\n",
       " ['AURANGABAD', 'Bihar'],\n",
       " ['AURANGABAD', 'Maharashtra'],\n",
       " ['GUNTUR', 'Andhra Pradesh'],\n",
       " ['DINDIGUL', 'Tamil Nadu'],\n",
       " ['BHOPAL', 'Madhya Pradesh'],\n",
       " ['BIDAR', 'Karnataka'],\n",
       " ['AMRITSAR', 'Punjab'],\n",
       " ['ANANDPUR SAHIB', 'Punjab'],\n",
       " ['KURUKSHETRA', 'Haryana'],\n",
       " ['BILASPUR', 'Chhattisgarh'],\n",
       " ['DURG', 'Chhattisgarh'],\n",
       " ['KHADOOR SAHIB', 'Punjab'],\n",
       " ['HAZARIBAGH', 'Jharkhand'],\n",
       " ['SURGUJA', 'Chhattisgarh'],\n",
       " ['KANGRA', 'Himachal Pradesh'],\n",
       " ['VAISHALI', 'Bihar'],\n",
       " ['SASARAM', 'Bihar'],\n",
       " ['KATIHAR', 'Bihar'],\n",
       " ['SAMASTIPUR', 'Bihar'],\n",
       " ['LALGANJ', 'Uttar Pradesh'],\n",
       " ['MADHA', 'Maharashtra'],\n",
       " ['PALGHAR', 'Maharashtra'],\n",
       " ['HISAR', 'Haryana'],\n",
       " ['ANANDPUR SAHIB', 'Punjab'],\n",
       " ['PEDDAPALLE', 'Telangana'],\n",
       " ['SOUTH GOA', 'NCT of Delhi'],\n",
       " ['SOUTH GOA', 'Goa'],\n",
       " ...]"
      ]
     },
     "execution_count": 145,
     "metadata": {},
     "output_type": "execute_result"
    }
   ],
   "source": [
    "Constituency1"
   ]
  },
  {
   "cell_type": "code",
   "execution_count": 146,
   "metadata": {
    "id": "_2ZzHMQFGQ8e"
   },
   "outputs": [],
   "source": [
    "Constituency1=sorted(Constituency1,key=lambda Constituency1:Constituency1[1])"
   ]
  },
  {
   "cell_type": "code",
   "execution_count": 149,
   "metadata": {
    "colab": {
     "base_uri": "https://localhost:8080/",
     "height": 36
    },
    "id": "JdwmMAbaNOPo",
    "outputId": "5501bd48-7465-4355-978a-36ce0fbebeed"
   },
   "outputs": [
    {
     "data": {
      "text/plain": [
       "'KAKINADA'"
      ]
     },
     "execution_count": 149,
     "metadata": {},
     "output_type": "execute_result"
    }
   ],
   "source": [
    "Constituency1[300][0]"
   ]
  },
  {
   "cell_type": "code",
   "execution_count": 150,
   "metadata": {
    "id": "FSjeM-gUIDG8"
   },
   "outputs": [],
   "source": [
    "in1=Constituency1[0][0]\n",
    "s=0\n",
    "SDF=[]\n",
    "for i in range(0,len(Constituency1)):\n",
    "  for j in range(0,len(Constituency)):\n",
    "    if in1==Constituency1[i][1]:\n",
    "      if Constituency1[i][0]==Constituency[j]:\n",
    "        s=s+CriminalCase[j]\n",
    "    else:\n",
    "      SDF.append([in1,s])\n",
    "      in1=Constituency1[i][1]\n",
    "      s=0\n",
    "      \n",
    "\n",
    "\n",
    "\n"
   ]
  },
  {
   "cell_type": "code",
   "execution_count": 151,
   "metadata": {
    "id": "6T2CEim9ObYl"
   },
   "outputs": [],
   "source": [
    "SDF=SDF[1:]"
   ]
  },
  {
   "cell_type": "code",
   "execution_count": 152,
   "metadata": {
    "id": "DSjS0o0uO6vr"
   },
   "outputs": [],
   "source": [
    "SDF=sorted(SDF,key =lambda SDF:SDF[1],reverse=True)"
   ]
  },
  {
   "cell_type": "code",
   "execution_count": 153,
   "metadata": {
    "colab": {
     "base_uri": "https://localhost:8080/",
     "height": 36
    },
    "id": "iYc4BzDNPSrP",
    "outputId": "9b5108e0-48a1-46e4-837a-f6f3618a7719"
   },
   "outputs": [
    {
     "data": {
      "text/plain": [
       "'Uttar Pradesh'"
      ]
     },
     "execution_count": 153,
     "metadata": {},
     "output_type": "execute_result"
    }
   ],
   "source": [
    "SDF[1][0]"
   ]
  },
  {
   "cell_type": "code",
   "execution_count": 154,
   "metadata": {
    "id": "HaLN6T-lijB_"
   },
   "outputs": [],
   "source": [
    "SD=pd.DataFrame(SDF)"
   ]
  },
  {
   "cell_type": "code",
   "execution_count": 155,
   "metadata": {
    "colab": {
     "base_uri": "https://localhost:8080/",
     "height": 639
    },
    "id": "42SZ0dcxiqyX",
    "outputId": "36703de1-d4e2-4460-a488-2620a49fa229"
   },
   "outputs": [
    {
     "data": {
      "text/plain": [
       "Text(0.5, 1.0, 'Criminal_Cases by state')"
      ]
     },
     "execution_count": 155,
     "metadata": {},
     "output_type": "execute_result"
    },
    {
     "data": {
      "image/png": "[encoded data removed]",
      "text/plain": [
       "<Figure size 1080x720 with 1 Axes>"
      ]
     },
     "metadata": {
      "needs_background": "light"
     },
     "output_type": "display_data"
    }
   ],
   "source": [
    "plt.figure(figsize=(15,10))\n",
    "plt.bar(np.array(SD[0][:10]),np.array(SD[1])[:10])\n",
    "plt.xlabel('State')\n",
    "plt.ylabel('Criminal_Cases')\n",
    "plt.title('Criminal_Cases by state')"
   ]
  },
  {
   "cell_type": "code",
   "execution_count": 156,
   "metadata": {
    "id": "fbTmHycgPTT9"
   },
   "outputs": [],
   "source": [
    "P=set(Party)\n"
   ]
  },
  {
   "cell_type": "code",
   "execution_count": 157,
   "metadata": {
    "colab": {
     "base_uri": "https://localhost:8080/"
    },
    "id": "TQWOOWpzkgV4",
    "outputId": "34ab17c5-536f-4baa-d8f8-53b5ac89e535"
   },
   "outputs": [
    {
     "data": {
      "text/plain": [
       "8"
      ]
     },
     "execution_count": 157,
     "metadata": {},
     "output_type": "execute_result"
    }
   ],
   "source": [
    "CriminalCase[0]"
   ]
  },
  {
   "cell_type": "code",
   "execution_count": 159,
   "metadata": {
    "id": "jc2WYZ0aRDzb"
   },
   "outputs": [],
   "source": [
    "Party1=sorted(P)"
   ]
  },
  {
   "cell_type": "code",
   "execution_count": 160,
   "metadata": {
    "colab": {
     "base_uri": "https://localhost:8080/"
    },
    "id": "z0UGtPiAQAgp",
    "outputId": "65c758aa-b064-4730-be27-c70b08ea1f1c"
   },
   "outputs": [
    {
     "data": {
      "text/plain": [
       "list"
      ]
     },
     "execution_count": 160,
     "metadata": {},
     "output_type": "execute_result"
    }
   ],
   "source": [
    "type(Party1)"
   ]
  },
  {
   "cell_type": "code",
   "execution_count": 161,
   "metadata": {
    "id": "stV5N908QXwH"
   },
   "outputs": [],
   "source": [
    "Crime=[]\n",
    "for i in range(0,len(Party)):\n",
    "  Crime.append([Party[i],CriminalCase[i]])"
   ]
  },
  {
   "cell_type": "code",
   "execution_count": 163,
   "metadata": {
    "id": "SM9zspioTIpX"
   },
   "outputs": [],
   "source": [
    "Crime=sorted(Crime,key=lambda Crime:Crime[0],reverse=True)"
   ]
  },
  {
   "cell_type": "code",
   "execution_count": 165,
   "metadata": {
    "colab": {
     "base_uri": "https://localhost:8080/"
    },
    "id": "kGVLXgVjgkUF",
    "outputId": "885d37d3-70a0-4619-9516-1eff1cd783c3"
   },
   "outputs": [
    {
     "data": {
      "text/plain": [
       "8206"
      ]
     },
     "execution_count": 165,
     "metadata": {},
     "output_type": "execute_result"
    }
   ],
   "source": [
    "len(Crime)"
   ]
  },
  {
   "cell_type": "code",
   "execution_count": 166,
   "metadata": {
    "id": "a9H03YW0Uvp0"
   },
   "outputs": [],
   "source": [
    "in1=Crime[0][0]\n",
    "s=0\n",
    "SDF1=[]\n",
    "for i in range(0,len(Crime)):\n",
    "    if in1==Crime[i][0]:\n",
    "        s=s+Crime[i][1]\n",
    "    else:\n",
    "      SDF1.append([in1,s])\n",
    "      in1=Crime[i][0]\n",
    "      s=0\n",
    "      \n"
   ]
  },
  {
   "cell_type": "code",
   "execution_count": 167,
   "metadata": {
    "id": "HGBF5GT4Vx-i"
   },
   "outputs": [],
   "source": [
    "SDF1=sorted(SDF1,key=lambda SDF1:SDF1[1],reverse=True)"
   ]
  },
  {
   "cell_type": "code",
   "execution_count": 168,
   "metadata": {
    "id": "wzJWdGonV3IQ"
   },
   "outputs": [],
   "source": [
    "SDF1=pd.DataFrame(SDF1)"
   ]
  },
  {
   "cell_type": "code",
   "execution_count": 193,
   "metadata": {},
   "outputs": [
    {
     "data": {
      "text/html": [
       "<div>\n",
       "<style scoped>\n",
       "    .dataframe tbody tr th:only-of-type {\n",
       "        vertical-align: middle;\n",
       "    }\n",
       "\n",
       "    .dataframe tbody tr th {\n",
       "        vertical-align: top;\n",
       "    }\n",
       "\n",
       "    .dataframe thead th {\n",
       "        text-align: right;\n",
       "    }\n",
       "</style>\n",
       "<table border=\"1\" class=\"dataframe\">\n",
       "  <thead>\n",
       "    <tr style=\"text-align: right;\">\n",
       "      <th></th>\n",
       "      <th>0</th>\n",
       "      <th>1</th>\n",
       "    </tr>\n",
       "  </thead>\n",
       "  <tbody>\n",
       "    <tr>\n",
       "      <th>0</th>\n",
       "      <td>IND</td>\n",
       "      <td>597</td>\n",
       "    </tr>\n",
       "    <tr>\n",
       "      <th>1</th>\n",
       "      <td>BJP</td>\n",
       "      <td>476</td>\n",
       "    </tr>\n",
       "    <tr>\n",
       "      <th>2</th>\n",
       "      <td>INC</td>\n",
       "      <td>340</td>\n",
       "    </tr>\n",
       "    <tr>\n",
       "      <th>3</th>\n",
       "      <td>BSP</td>\n",
       "      <td>288</td>\n",
       "    </tr>\n",
       "    <tr>\n",
       "      <th>4</th>\n",
       "      <td>SP</td>\n",
       "      <td>254</td>\n",
       "    </tr>\n",
       "    <tr>\n",
       "      <th>...</th>\n",
       "      <td>...</td>\n",
       "      <td>...</td>\n",
       "    </tr>\n",
       "    <tr>\n",
       "      <th>466</th>\n",
       "      <td>Adarsh Manavtawadi Party</td>\n",
       "      <td>0</td>\n",
       "    </tr>\n",
       "    <tr>\n",
       "      <th>467</th>\n",
       "      <td>Aazadi Ka Antim Aandolan Dal</td>\n",
       "      <td>0</td>\n",
       "    </tr>\n",
       "    <tr>\n",
       "      <th>468</th>\n",
       "      <td>Aarakshan Virodhi Party</td>\n",
       "      <td>0</td>\n",
       "    </tr>\n",
       "    <tr>\n",
       "      <th>469</th>\n",
       "      <td>Aam Janata Party</td>\n",
       "      <td>0</td>\n",
       "    </tr>\n",
       "    <tr>\n",
       "      <th>470</th>\n",
       "      <td>Aadijan Mukti Sena</td>\n",
       "      <td>0</td>\n",
       "    </tr>\n",
       "  </tbody>\n",
       "</table>\n",
       "<p>471 rows × 2 columns</p>\n",
       "</div>"
      ],
      "text/plain": [
       "                                0    1\n",
       "0                             IND  597\n",
       "1                             BJP  476\n",
       "2                             INC  340\n",
       "3                             BSP  288\n",
       "4                              SP  254\n",
       "..                            ...  ...\n",
       "466      Adarsh Manavtawadi Party    0\n",
       "467  Aazadi Ka Antim Aandolan Dal    0\n",
       "468       Aarakshan Virodhi Party    0\n",
       "469              Aam Janata Party    0\n",
       "470            Aadijan Mukti Sena    0\n",
       "\n",
       "[471 rows x 2 columns]"
      ]
     },
     "execution_count": 193,
     "metadata": {},
     "output_type": "execute_result"
    }
   ],
   "source": [
    "SDF1"
   ]
  },
  {
   "cell_type": "code",
   "execution_count": 169,
   "metadata": {
    "colab": {
     "base_uri": "https://localhost:8080/",
     "height": 639
    },
    "id": "SUhv5NCClBKP",
    "outputId": "b95f1b7a-725c-4f5e-891a-3da08e6617fc"
   },
   "outputs": [
    {
     "data": {
      "text/plain": [
       "Text(0.5, 1.0, 'Criminal_Cases by Party')"
      ]
     },
     "execution_count": 169,
     "metadata": {},
     "output_type": "execute_result"
    },
    {
     "data": {
      "image/png": "[encoded data removed]",
      "text/plain": [
       "<Figure size 1080x720 with 1 Axes>"
      ]
     },
     "metadata": {
      "needs_background": "light"
     },
     "output_type": "display_data"
    }
   ],
   "source": [
    "plt.figure(figsize=(15,10))\n",
    "plt.bar(np.array(SDF1[0][:10]),np.array(SDF1[1])[:10])\n",
    "plt.xlabel('Party')\n",
    "plt.ylabel('Criminal_Cases')\n",
    "plt.title('Criminal_Cases by Party')"
   ]
  },
  {
   "cell_type": "code",
   "execution_count": 170,
   "metadata": {
    "colab": {
     "base_uri": "https://localhost:8080/",
     "height": 524
    },
    "id": "L57RJ_Vot2tk",
    "outputId": "86616949-d74a-477c-83f4-10331a3c94bf"
   },
   "outputs": [],
   "source": [
    "ge=pd.read_csv('my_stata_file.csv')\n",
    "ge1=pd.read_csv('my_stata_file1.csv')"
   ]
  },
  {
   "cell_type": "code",
   "execution_count": 171,
   "metadata": {
    "id": "0O19t1Kbnc9d"
   },
   "outputs": [],
   "source": [
    "abcd=ge1.iloc[:,1].to_list()"
   ]
  },
  {
   "cell_type": "code",
   "execution_count": 172,
   "metadata": {
    "id": "q9ojnEVSoIwg"
   },
   "outputs": [
    {
     "data": {
      "text/plain": [
       "126614"
      ]
     },
     "execution_count": 172,
     "metadata": {},
     "output_type": "execute_result"
    }
   ],
   "source": [
    "abcd.index('Kerala')"
   ]
  },
  {
   "cell_type": "code",
   "execution_count": 173,
   "metadata": {
    "id": "Pg6Q_xvIc2mj"
   },
   "outputs": [
    {
     "data": {
      "text/html": [
       "<div>\n",
       "<style scoped>\n",
       "    .dataframe tbody tr th:only-of-type {\n",
       "        vertical-align: middle;\n",
       "    }\n",
       "\n",
       "    .dataframe tbody tr th {\n",
       "        vertical-align: top;\n",
       "    }\n",
       "\n",
       "    .dataframe thead th {\n",
       "        text-align: right;\n",
       "    }\n",
       "</style>\n",
       "<table border=\"1\" class=\"dataframe\">\n",
       "  <thead>\n",
       "    <tr style=\"text-align: right;\">\n",
       "      <th></th>\n",
       "      <th>Unnamed: 0</th>\n",
       "      <th>st_name</th>\n",
       "      <th>year</th>\n",
       "      <th>ac_no</th>\n",
       "      <th>ac_name</th>\n",
       "      <th>ac_type</th>\n",
       "      <th>cand_name</th>\n",
       "      <th>cand_sex</th>\n",
       "      <th>partyname</th>\n",
       "      <th>partyabbre</th>\n",
       "      <th>totvotpoll</th>\n",
       "      <th>electors</th>\n",
       "    </tr>\n",
       "  </thead>\n",
       "  <tbody>\n",
       "    <tr>\n",
       "      <th>0</th>\n",
       "      <td>0</td>\n",
       "      <td>Andhra Pradesh</td>\n",
       "      <td>1978.0</td>\n",
       "      <td>1</td>\n",
       "      <td>Ichapuram</td>\n",
       "      <td>GEN</td>\n",
       "      <td>Manabala Ramarao</td>\n",
       "      <td>M</td>\n",
       "      <td>Independent</td>\n",
       "      <td>IND</td>\n",
       "      <td>813.0</td>\n",
       "      <td>83247</td>\n",
       "    </tr>\n",
       "    <tr>\n",
       "      <th>1</th>\n",
       "      <td>1</td>\n",
       "      <td>Andhra Pradesh</td>\n",
       "      <td>1978.0</td>\n",
       "      <td>1</td>\n",
       "      <td>Ichapuram</td>\n",
       "      <td>GEN</td>\n",
       "      <td>Appadu Sahu</td>\n",
       "      <td>M</td>\n",
       "      <td>Independent</td>\n",
       "      <td>IND</td>\n",
       "      <td>1743.0</td>\n",
       "      <td>83247</td>\n",
       "    </tr>\n",
       "    <tr>\n",
       "      <th>2</th>\n",
       "      <td>2</td>\n",
       "      <td>Andhra Pradesh</td>\n",
       "      <td>1978.0</td>\n",
       "      <td>1</td>\n",
       "      <td>Ichapuram</td>\n",
       "      <td>GEN</td>\n",
       "      <td>Uppada Rangababu</td>\n",
       "      <td>M</td>\n",
       "      <td>Indian National Congress</td>\n",
       "      <td>INC</td>\n",
       "      <td>4427.0</td>\n",
       "      <td>83247</td>\n",
       "    </tr>\n",
       "    <tr>\n",
       "      <th>3</th>\n",
       "      <td>3</td>\n",
       "      <td>Andhra Pradesh</td>\n",
       "      <td>1978.0</td>\n",
       "      <td>1</td>\n",
       "      <td>Ichapuram</td>\n",
       "      <td>GEN</td>\n",
       "      <td>Kalla Balarama Swamy</td>\n",
       "      <td>M</td>\n",
       "      <td>Indian National Congress (I)</td>\n",
       "      <td>INC(I)</td>\n",
       "      <td>19805.0</td>\n",
       "      <td>83247</td>\n",
       "    </tr>\n",
       "    <tr>\n",
       "      <th>4</th>\n",
       "      <td>4</td>\n",
       "      <td>Andhra Pradesh</td>\n",
       "      <td>1978.0</td>\n",
       "      <td>1</td>\n",
       "      <td>Ichapuram</td>\n",
       "      <td>GEN</td>\n",
       "      <td>Bendalam Venkatesam Sarma</td>\n",
       "      <td>M</td>\n",
       "      <td>Janata Party</td>\n",
       "      <td>JNP</td>\n",
       "      <td>34251.0</td>\n",
       "      <td>83247</td>\n",
       "    </tr>\n",
       "    <tr>\n",
       "      <th>...</th>\n",
       "      <td>...</td>\n",
       "      <td>...</td>\n",
       "      <td>...</td>\n",
       "      <td>...</td>\n",
       "      <td>...</td>\n",
       "      <td>...</td>\n",
       "      <td>...</td>\n",
       "      <td>...</td>\n",
       "      <td>...</td>\n",
       "      <td>...</td>\n",
       "      <td>...</td>\n",
       "      <td>...</td>\n",
       "    </tr>\n",
       "    <tr>\n",
       "      <th>327289</th>\n",
       "      <td>327289</td>\n",
       "      <td>West Bengal</td>\n",
       "      <td>2011.0</td>\n",
       "      <td>294</td>\n",
       "      <td>Murarai</td>\n",
       "      <td>GEN</td>\n",
       "      <td>Ajrail Md</td>\n",
       "      <td>M</td>\n",
       "      <td>IND</td>\n",
       "      <td>IND</td>\n",
       "      <td>2471.0</td>\n",
       "      <td>189320</td>\n",
       "    </tr>\n",
       "    <tr>\n",
       "      <th>327290</th>\n",
       "      <td>327290</td>\n",
       "      <td>West Bengal</td>\n",
       "      <td>2011.0</td>\n",
       "      <td>294</td>\n",
       "      <td>Murarai</td>\n",
       "      <td>GEN</td>\n",
       "      <td>Shiblal Sardar</td>\n",
       "      <td>M</td>\n",
       "      <td>BSP</td>\n",
       "      <td>BSP</td>\n",
       "      <td>3074.0</td>\n",
       "      <td>189320</td>\n",
       "    </tr>\n",
       "    <tr>\n",
       "      <th>327291</th>\n",
       "      <td>327291</td>\n",
       "      <td>West Bengal</td>\n",
       "      <td>2011.0</td>\n",
       "      <td>294</td>\n",
       "      <td>Murarai</td>\n",
       "      <td>GEN</td>\n",
       "      <td>Sudhiranjan Das Goswami</td>\n",
       "      <td>M</td>\n",
       "      <td>BJP</td>\n",
       "      <td>BJP</td>\n",
       "      <td>4961.0</td>\n",
       "      <td>189320</td>\n",
       "    </tr>\n",
       "    <tr>\n",
       "      <th>327292</th>\n",
       "      <td>327292</td>\n",
       "      <td>West Bengal</td>\n",
       "      <td>2011.0</td>\n",
       "      <td>294</td>\n",
       "      <td>Murarai</td>\n",
       "      <td>GEN</td>\n",
       "      <td>Elahi Kamre Dr</td>\n",
       "      <td>M</td>\n",
       "      <td>CPM</td>\n",
       "      <td>CPM</td>\n",
       "      <td>73414.0</td>\n",
       "      <td>189320</td>\n",
       "    </tr>\n",
       "    <tr>\n",
       "      <th>327293</th>\n",
       "      <td>327293</td>\n",
       "      <td>West Bengal</td>\n",
       "      <td>2011.0</td>\n",
       "      <td>294</td>\n",
       "      <td>Murarai</td>\n",
       "      <td>GEN</td>\n",
       "      <td>Nure Alam Chowdhury</td>\n",
       "      <td>M</td>\n",
       "      <td>AITC</td>\n",
       "      <td>AITC</td>\n",
       "      <td>77817.0</td>\n",
       "      <td>189320</td>\n",
       "    </tr>\n",
       "  </tbody>\n",
       "</table>\n",
       "<p>327294 rows × 12 columns</p>\n",
       "</div>"
      ],
      "text/plain": [
       "        Unnamed: 0         st_name    year  ac_no    ac_name ac_type  \\\n",
       "0                0  Andhra Pradesh  1978.0      1  Ichapuram     GEN   \n",
       "1                1  Andhra Pradesh  1978.0      1  Ichapuram     GEN   \n",
       "2                2  Andhra Pradesh  1978.0      1  Ichapuram     GEN   \n",
       "3                3  Andhra Pradesh  1978.0      1  Ichapuram     GEN   \n",
       "4                4  Andhra Pradesh  1978.0      1  Ichapuram     GEN   \n",
       "...            ...             ...     ...    ...        ...     ...   \n",
       "327289      327289     West Bengal  2011.0    294    Murarai     GEN   \n",
       "327290      327290     West Bengal  2011.0    294    Murarai     GEN   \n",
       "327291      327291     West Bengal  2011.0    294    Murarai     GEN   \n",
       "327292      327292     West Bengal  2011.0    294    Murarai     GEN   \n",
       "327293      327293     West Bengal  2011.0    294    Murarai     GEN   \n",
       "\n",
       "                        cand_name cand_sex                     partyname  \\\n",
       "0                Manabala Ramarao        M                   Independent   \n",
       "1                     Appadu Sahu        M                   Independent   \n",
       "2                Uppada Rangababu        M      Indian National Congress   \n",
       "3            Kalla Balarama Swamy        M  Indian National Congress (I)   \n",
       "4       Bendalam Venkatesam Sarma        M                  Janata Party   \n",
       "...                           ...      ...                           ...   \n",
       "327289                  Ajrail Md        M                           IND   \n",
       "327290             Shiblal Sardar        M                           BSP   \n",
       "327291    Sudhiranjan Das Goswami        M                           BJP   \n",
       "327292             Elahi Kamre Dr        M                           CPM   \n",
       "327293        Nure Alam Chowdhury        M                          AITC   \n",
       "\n",
       "       partyabbre  totvotpoll  electors  \n",
       "0             IND       813.0     83247  \n",
       "1             IND      1743.0     83247  \n",
       "2             INC      4427.0     83247  \n",
       "3          INC(I)     19805.0     83247  \n",
       "4             JNP     34251.0     83247  \n",
       "...           ...         ...       ...  \n",
       "327289        IND      2471.0    189320  \n",
       "327290        BSP      3074.0    189320  \n",
       "327291        BJP      4961.0    189320  \n",
       "327292        CPM     73414.0    189320  \n",
       "327293       AITC     77817.0    189320  \n",
       "\n",
       "[327294 rows x 12 columns]"
      ]
     },
     "execution_count": 173,
     "metadata": {},
     "output_type": "execute_result"
    }
   ],
   "source": [
    "ge1"
   ]
  },
  {
   "cell_type": "code",
   "execution_count": 174,
   "metadata": {
    "id": "7w90UB0awFjw"
   },
   "outputs": [
    {
     "data": {
      "text/html": [
       "<div>\n",
       "<style scoped>\n",
       "    .dataframe tbody tr th:only-of-type {\n",
       "        vertical-align: middle;\n",
       "    }\n",
       "\n",
       "    .dataframe tbody tr th {\n",
       "        vertical-align: top;\n",
       "    }\n",
       "\n",
       "    .dataframe thead th {\n",
       "        text-align: right;\n",
       "    }\n",
       "</style>\n",
       "<table border=\"1\" class=\"dataframe\">\n",
       "  <thead>\n",
       "    <tr style=\"text-align: right;\">\n",
       "      <th></th>\n",
       "      <th>Unnamed: 0</th>\n",
       "      <th>st_name</th>\n",
       "      <th>year</th>\n",
       "      <th>pc_no</th>\n",
       "      <th>pc_name</th>\n",
       "      <th>pc_type</th>\n",
       "      <th>cand_name</th>\n",
       "      <th>cand_sex</th>\n",
       "      <th>partyname</th>\n",
       "      <th>partyabbre</th>\n",
       "      <th>totvotpoll</th>\n",
       "      <th>electors</th>\n",
       "    </tr>\n",
       "  </thead>\n",
       "  <tbody>\n",
       "    <tr>\n",
       "      <th>0</th>\n",
       "      <td>91</td>\n",
       "      <td>Andhra Pradesh</td>\n",
       "      <td>1977</td>\n",
       "      <td>1</td>\n",
       "      <td>Srikakulam</td>\n",
       "      <td>GEN</td>\n",
       "      <td>Bompalli Ramanna</td>\n",
       "      <td>M</td>\n",
       "      <td>Independents</td>\n",
       "      <td>IND</td>\n",
       "      <td>15435</td>\n",
       "      <td>585062</td>\n",
       "    </tr>\n",
       "    <tr>\n",
       "      <th>1</th>\n",
       "      <td>92</td>\n",
       "      <td>Andhra Pradesh</td>\n",
       "      <td>1977</td>\n",
       "      <td>1</td>\n",
       "      <td>Srikakulam</td>\n",
       "      <td>GEN</td>\n",
       "      <td>Gouthu Latchanna</td>\n",
       "      <td>M</td>\n",
       "      <td>Bharatiya Lok Dal</td>\n",
       "      <td>BLD</td>\n",
       "      <td>178391</td>\n",
       "      <td>585062</td>\n",
       "    </tr>\n",
       "    <tr>\n",
       "      <th>2</th>\n",
       "      <td>93</td>\n",
       "      <td>Andhra Pradesh</td>\n",
       "      <td>1977</td>\n",
       "      <td>1</td>\n",
       "      <td>Srikakulam</td>\n",
       "      <td>GEN</td>\n",
       "      <td>Rajgopalarao Boddepalli</td>\n",
       "      <td>M</td>\n",
       "      <td>Indian National Congress</td>\n",
       "      <td>INC</td>\n",
       "      <td>187125</td>\n",
       "      <td>585062</td>\n",
       "    </tr>\n",
       "    <tr>\n",
       "      <th>3</th>\n",
       "      <td>94</td>\n",
       "      <td>Andhra Pradesh</td>\n",
       "      <td>1977</td>\n",
       "      <td>2</td>\n",
       "      <td>Parvathipuram</td>\n",
       "      <td>ST</td>\n",
       "      <td>Satya Prasad Thatraj Veeravara Thodarmal</td>\n",
       "      <td>M</td>\n",
       "      <td>Bharatiya Lok Dal</td>\n",
       "      <td>BLD</td>\n",
       "      <td>142710</td>\n",
       "      <td>655999</td>\n",
       "    </tr>\n",
       "    <tr>\n",
       "      <th>4</th>\n",
       "      <td>95</td>\n",
       "      <td>Andhra Pradesh</td>\n",
       "      <td>1977</td>\n",
       "      <td>2</td>\n",
       "      <td>Parvathipuram</td>\n",
       "      <td>ST</td>\n",
       "      <td>Vyrichorla Kishore Chandra Suryanarayana Deo</td>\n",
       "      <td>M</td>\n",
       "      <td>Indian National Congress</td>\n",
       "      <td>INC</td>\n",
       "      <td>174454</td>\n",
       "      <td>655999</td>\n",
       "    </tr>\n",
       "    <tr>\n",
       "      <th>...</th>\n",
       "      <td>...</td>\n",
       "      <td>...</td>\n",
       "      <td>...</td>\n",
       "      <td>...</td>\n",
       "      <td>...</td>\n",
       "      <td>...</td>\n",
       "      <td>...</td>\n",
       "      <td>...</td>\n",
       "      <td>...</td>\n",
       "      <td>...</td>\n",
       "      <td>...</td>\n",
       "      <td>...</td>\n",
       "    </tr>\n",
       "    <tr>\n",
       "      <th>66591</th>\n",
       "      <td>73076</td>\n",
       "      <td>West Bengal</td>\n",
       "      <td>2014</td>\n",
       "      <td>42</td>\n",
       "      <td>Birbhum</td>\n",
       "      <td>GEN</td>\n",
       "      <td>None Of The Above</td>\n",
       "      <td>NaN</td>\n",
       "      <td>NOTA</td>\n",
       "      <td>NOTA</td>\n",
       "      <td>14557</td>\n",
       "      <td>1495089</td>\n",
       "    </tr>\n",
       "    <tr>\n",
       "      <th>66592</th>\n",
       "      <td>73077</td>\n",
       "      <td>West Bengal</td>\n",
       "      <td>2014</td>\n",
       "      <td>42</td>\n",
       "      <td>Birbhum</td>\n",
       "      <td>GEN</td>\n",
       "      <td>Syed Siraj Jimmi</td>\n",
       "      <td>M</td>\n",
       "      <td>INC</td>\n",
       "      <td>INC</td>\n",
       "      <td>132084</td>\n",
       "      <td>1495089</td>\n",
       "    </tr>\n",
       "    <tr>\n",
       "      <th>66593</th>\n",
       "      <td>73078</td>\n",
       "      <td>West Bengal</td>\n",
       "      <td>2014</td>\n",
       "      <td>42</td>\n",
       "      <td>Birbhum</td>\n",
       "      <td>GEN</td>\n",
       "      <td>Joy Banerjee</td>\n",
       "      <td>M</td>\n",
       "      <td>BJP</td>\n",
       "      <td>BJP</td>\n",
       "      <td>235753</td>\n",
       "      <td>1495089</td>\n",
       "    </tr>\n",
       "    <tr>\n",
       "      <th>66594</th>\n",
       "      <td>73079</td>\n",
       "      <td>West Bengal</td>\n",
       "      <td>2014</td>\n",
       "      <td>42</td>\n",
       "      <td>Birbhum</td>\n",
       "      <td>GEN</td>\n",
       "      <td>Dr. Elahi Kamre Mahammad</td>\n",
       "      <td>M</td>\n",
       "      <td>CPM</td>\n",
       "      <td>CPM</td>\n",
       "      <td>393305</td>\n",
       "      <td>1495089</td>\n",
       "    </tr>\n",
       "    <tr>\n",
       "      <th>66595</th>\n",
       "      <td>73080</td>\n",
       "      <td>West Bengal</td>\n",
       "      <td>2014</td>\n",
       "      <td>42</td>\n",
       "      <td>Birbhum</td>\n",
       "      <td>GEN</td>\n",
       "      <td>Satabdi Roy</td>\n",
       "      <td>F</td>\n",
       "      <td>AITC</td>\n",
       "      <td>AITC</td>\n",
       "      <td>460568</td>\n",
       "      <td>1495089</td>\n",
       "    </tr>\n",
       "  </tbody>\n",
       "</table>\n",
       "<p>66596 rows × 12 columns</p>\n",
       "</div>"
      ],
      "text/plain": [
       "       Unnamed: 0         st_name  year  pc_no        pc_name pc_type  \\\n",
       "0              91  Andhra Pradesh  1977      1     Srikakulam     GEN   \n",
       "1              92  Andhra Pradesh  1977      1     Srikakulam     GEN   \n",
       "2              93  Andhra Pradesh  1977      1     Srikakulam     GEN   \n",
       "3              94  Andhra Pradesh  1977      2  Parvathipuram      ST   \n",
       "4              95  Andhra Pradesh  1977      2  Parvathipuram      ST   \n",
       "...           ...             ...   ...    ...            ...     ...   \n",
       "66591       73076     West Bengal  2014     42        Birbhum     GEN   \n",
       "66592       73077     West Bengal  2014     42        Birbhum     GEN   \n",
       "66593       73078     West Bengal  2014     42        Birbhum     GEN   \n",
       "66594       73079     West Bengal  2014     42        Birbhum     GEN   \n",
       "66595       73080     West Bengal  2014     42        Birbhum     GEN   \n",
       "\n",
       "                                          cand_name cand_sex  \\\n",
       "0                                  Bompalli Ramanna        M   \n",
       "1                                  Gouthu Latchanna        M   \n",
       "2                           Rajgopalarao Boddepalli        M   \n",
       "3          Satya Prasad Thatraj Veeravara Thodarmal        M   \n",
       "4      Vyrichorla Kishore Chandra Suryanarayana Deo        M   \n",
       "...                                             ...      ...   \n",
       "66591                             None Of The Above      NaN   \n",
       "66592                              Syed Siraj Jimmi        M   \n",
       "66593                                  Joy Banerjee        M   \n",
       "66594                      Dr. Elahi Kamre Mahammad        M   \n",
       "66595                                   Satabdi Roy        F   \n",
       "\n",
       "                      partyname partyabbre  totvotpoll  electors  \n",
       "0                  Independents        IND       15435    585062  \n",
       "1             Bharatiya Lok Dal        BLD      178391    585062  \n",
       "2      Indian National Congress        INC      187125    585062  \n",
       "3             Bharatiya Lok Dal        BLD      142710    655999  \n",
       "4      Indian National Congress        INC      174454    655999  \n",
       "...                         ...        ...         ...       ...  \n",
       "66591                      NOTA       NOTA       14557   1495089  \n",
       "66592                       INC        INC      132084   1495089  \n",
       "66593                       BJP        BJP      235753   1495089  \n",
       "66594                       CPM        CPM      393305   1495089  \n",
       "66595                      AITC       AITC      460568   1495089  \n",
       "\n",
       "[66596 rows x 12 columns]"
      ]
     },
     "execution_count": 174,
     "metadata": {},
     "output_type": "execute_result"
    }
   ],
   "source": [
    "ge"
   ]
  },
  {
   "cell_type": "code",
   "execution_count": 175,
   "metadata": {
    "id": "1ufcW9SPwGzm"
   },
   "outputs": [],
   "source": [
    "qwa=pd.DataFrame()\n",
    "max=ge.iloc[0,10]\n",
    "cons=ge.iloc[0,4]\n",
    "s=0\n",
    "abc=[]\n",
    "for i in range(0,66596,1):\n",
    "  if ge.iloc[i,4]!=cons:\n",
    "    abc.append(i)\n",
    "    cons=ge.iloc[i,4]\n",
    "\n",
    "for i in range(0,len(abc)-1):\n",
    "  a=ge.iloc[abc[i]:abc[i+1],10].argmax()\n",
    "  qwa[s]=ge.iloc[abc[i]+a,:]\n",
    "  s=s+1\n"
   ]
  },
  {
   "cell_type": "code",
   "execution_count": 176,
   "metadata": {
    "id": "QSeuIWq6Bt2v"
   },
   "outputs": [],
   "source": [
    "qwa=qwa.T"
   ]
  },
  {
   "cell_type": "code",
   "execution_count": 177,
   "metadata": {
    "id": "kG70hGNbzC-m"
   },
   "outputs": [],
   "source": [
    "state=sorted(set(qwa.iloc[:,1]))\n",
    "l=[]\n",
    "lq=[]\n",
    "for i in range(0,len(state)):\n",
    "  for j in range(0,len(qwa)):\n",
    "    if state[i]==qwa.iloc[j,1]:\n",
    "      if qwa.iloc[j,4] not in l:\n",
    "        l.append(qwa.iloc[j,4])\n",
    "        lq.append([state[i],qwa.iloc[j,4]])\n",
    "l2=[]\n",
    "for i in range(0,len(l)):\n",
    "  l1=[]\n",
    "  for j in range(0,len(qwa)):\n",
    "    if l[i]==qwa.iloc[j,4]:\n",
    "      l1.append(qwa.iloc[j,9])\n",
    "  l2.append([lq[i][0],lq[i][1],l1])\n",
    "\n",
    "      "
   ]
  },
  {
   "cell_type": "code",
   "execution_count": 178,
   "metadata": {
    "id": "Bd-zhDXfJHe0"
   },
   "outputs": [],
   "source": [
    "l2=pd.DataFrame(l2)"
   ]
  },
  {
   "cell_type": "code",
   "execution_count": 179,
   "metadata": {
    "id": "pTa-dDJwLUSv"
   },
   "outputs": [],
   "source": [
    "l2.columns=['State','Constituency','Winning_Party']"
   ]
  },
  {
   "cell_type": "code",
   "execution_count": 180,
   "metadata": {
    "id": "uhDGYTm9NHIb"
   },
   "outputs": [
    {
     "data": {
      "text/html": [
       "<div>\n",
       "<style scoped>\n",
       "    .dataframe tbody tr th:only-of-type {\n",
       "        vertical-align: middle;\n",
       "    }\n",
       "\n",
       "    .dataframe tbody tr th {\n",
       "        vertical-align: top;\n",
       "    }\n",
       "\n",
       "    .dataframe thead th {\n",
       "        text-align: right;\n",
       "    }\n",
       "</style>\n",
       "<table border=\"1\" class=\"dataframe\">\n",
       "  <thead>\n",
       "    <tr style=\"text-align: right;\">\n",
       "      <th></th>\n",
       "      <th>State</th>\n",
       "      <th>Constituency</th>\n",
       "      <th>Winning_Party</th>\n",
       "    </tr>\n",
       "  </thead>\n",
       "  <tbody>\n",
       "    <tr>\n",
       "      <th>0</th>\n",
       "      <td>Andhra Pradesh</td>\n",
       "      <td>Parvathipuram</td>\n",
       "      <td>[INC, INC(U), ICS, INC, INC, INC, TDP, TDP, INC]</td>\n",
       "    </tr>\n",
       "    <tr>\n",
       "      <th>1</th>\n",
       "      <td>Andhra Pradesh</td>\n",
       "      <td>Bobbili</td>\n",
       "      <td>[INC, INC(I), TDP, TDP, INC, TDP, TDP, INC, TDP]</td>\n",
       "    </tr>\n",
       "    <tr>\n",
       "      <th>2</th>\n",
       "      <td>Andhra Pradesh</td>\n",
       "      <td>Visakhapatnam</td>\n",
       "      <td>[INC, INC(I), TDP, INC, TDP, INC, INC, TDP, IN...</td>\n",
       "    </tr>\n",
       "    <tr>\n",
       "      <th>3</th>\n",
       "      <td>Andhra Pradesh</td>\n",
       "      <td>Bhadrachalam</td>\n",
       "      <td>[INC, INC(I), CPI, INC, INC, CPI, CPI, TDP, CPM]</td>\n",
       "    </tr>\n",
       "    <tr>\n",
       "      <th>4</th>\n",
       "      <td>Andhra Pradesh</td>\n",
       "      <td>Anakapalli</td>\n",
       "      <td>[INC, INC(I), TDP, INC, INC, TDP, INC, TDP, TD...</td>\n",
       "    </tr>\n",
       "    <tr>\n",
       "      <th>...</th>\n",
       "      <td>...</td>\n",
       "      <td>...</td>\n",
       "      <td>...</td>\n",
       "    </tr>\n",
       "    <tr>\n",
       "      <th>700</th>\n",
       "      <td>West Bengal</td>\n",
       "      <td>Ghatal</td>\n",
       "      <td>[CPI, AITC]</td>\n",
       "    </tr>\n",
       "    <tr>\n",
       "      <th>701</th>\n",
       "      <td>West Bengal</td>\n",
       "      <td>Medinipur</td>\n",
       "      <td>[CPI, AITC]</td>\n",
       "    </tr>\n",
       "    <tr>\n",
       "      <th>702</th>\n",
       "      <td>West Bengal</td>\n",
       "      <td>Bishnupur</td>\n",
       "      <td>[CPM, AITC]</td>\n",
       "    </tr>\n",
       "    <tr>\n",
       "      <th>703</th>\n",
       "      <td>West Bengal</td>\n",
       "      <td>Bardhaman Purba</td>\n",
       "      <td>[CPM, AITC]</td>\n",
       "    </tr>\n",
       "    <tr>\n",
       "      <th>704</th>\n",
       "      <td>West Bengal</td>\n",
       "      <td>Burdwan - Durgapur</td>\n",
       "      <td>[CPM, AITC]</td>\n",
       "    </tr>\n",
       "  </tbody>\n",
       "</table>\n",
       "<p>705 rows × 3 columns</p>\n",
       "</div>"
      ],
      "text/plain": [
       "              State        Constituency  \\\n",
       "0    Andhra Pradesh       Parvathipuram   \n",
       "1    Andhra Pradesh             Bobbili   \n",
       "2    Andhra Pradesh       Visakhapatnam   \n",
       "3    Andhra Pradesh        Bhadrachalam   \n",
       "4    Andhra Pradesh          Anakapalli   \n",
       "..              ...                 ...   \n",
       "700     West Bengal              Ghatal   \n",
       "701     West Bengal           Medinipur   \n",
       "702     West Bengal           Bishnupur   \n",
       "703     West Bengal     Bardhaman Purba   \n",
       "704     West Bengal  Burdwan - Durgapur   \n",
       "\n",
       "                                         Winning_Party  \n",
       "0     [INC, INC(U), ICS, INC, INC, INC, TDP, TDP, INC]  \n",
       "1     [INC, INC(I), TDP, TDP, INC, TDP, TDP, INC, TDP]  \n",
       "2    [INC, INC(I), TDP, INC, TDP, INC, INC, TDP, IN...  \n",
       "3     [INC, INC(I), CPI, INC, INC, CPI, CPI, TDP, CPM]  \n",
       "4    [INC, INC(I), TDP, INC, INC, TDP, INC, TDP, TD...  \n",
       "..                                                 ...  \n",
       "700                                        [CPI, AITC]  \n",
       "701                                        [CPI, AITC]  \n",
       "702                                        [CPM, AITC]  \n",
       "703                                        [CPM, AITC]  \n",
       "704                                        [CPM, AITC]  \n",
       "\n",
       "[705 rows x 3 columns]"
      ]
     },
     "execution_count": 180,
     "metadata": {},
     "output_type": "execute_result"
    }
   ],
   "source": [
    "l2"
   ]
  },
  {
   "cell_type": "markdown",
   "metadata": {
    "id": "bJXNk8LCcL9B"
   },
   "source": [
    "Vidhana Sabha\n"
   ]
  },
  {
   "cell_type": "code",
   "execution_count": 181,
   "metadata": {},
   "outputs": [],
   "source": [
    "abcd1=set(abcd)"
   ]
  },
  {
   "cell_type": "code",
   "execution_count": 182,
   "metadata": {},
   "outputs": [],
   "source": [
    "abcd1=sorted(abcd1)"
   ]
  },
  {
   "cell_type": "code",
   "execution_count": 183,
   "metadata": {
    "id": "jbuBZ0Z75aKz"
   },
   "outputs": [],
   "source": [
    "ly=[]\n",
    "for i in range(0,len(abcd1)):\n",
    "    ly.append(abcd.index(abcd1[i]))\n"
   ]
  },
  {
   "cell_type": "code",
   "execution_count": 184,
   "metadata": {},
   "outputs": [],
   "source": [
    "ly.append(327293)"
   ]
  },
  {
   "cell_type": "code",
   "execution_count": 185,
   "metadata": {
    "id": "J7LzTjBNcNVO",
    "scrolled": true
   },
   "outputs": [
    {
     "name": "stdout",
     "output_type": "stream",
     "text": [
      "Enter\n",
      "1 Andhra Pradesh\n",
      "2 Arunachal Pradesh\n",
      "3 Assam\n",
      "4 Bihar\n",
      "5 Chhattisgarh\n",
      "6 Goa\n",
      "7 Gujarat\n",
      "8 Haryana\n",
      "9 Himachal Pradesh\n",
      "10 Jammu & Kashmir\n",
      "11 Jharkhand\n",
      "12 Karnataka\n",
      "13 Kerala\n",
      "14 Madhya Pradesh\n",
      "15 Maharashtra\n",
      "16 Manipur\n",
      "17 Meghalaya\n",
      "18 Mizoram\n",
      "19 Nagaland\n",
      "20 National Capital Territory Of Delhi\n",
      "21 Odisha\n",
      "22 Puducherry\n",
      "23 Punjab\n",
      "24 Rajasthan\n",
      "25 Sikkim\n",
      "26 Tamil Nadu\n",
      "27 Tripura\n",
      "28 Uttar Pradesh\n",
      "29 Uttarakhand\n",
      "30 West Bengal\n"
     ]
    }
   ],
   "source": [
    "print('Enter')\n",
    "for i in range(0,len(abcd1)):\n",
    "  print(i+1,abcd1[i])\n"
   ]
  },
  {
   "cell_type": "code",
   "execution_count": 186,
   "metadata": {
    "id": "Z2IzCer43Lkc"
   },
   "outputs": [
    {
     "name": "stdout",
     "output_type": "stream",
     "text": [
      "12\n"
     ]
    }
   ],
   "source": [
    "a=int(input())"
   ]
  },
  {
   "cell_type": "code",
   "execution_count": 187,
   "metadata": {
    "id": "C1hTSdJcyqGd"
   },
   "outputs": [
    {
     "data": {
      "text/html": [
       "<div>\n",
       "<style scoped>\n",
       "    .dataframe tbody tr th:only-of-type {\n",
       "        vertical-align: middle;\n",
       "    }\n",
       "\n",
       "    .dataframe tbody tr th {\n",
       "        vertical-align: top;\n",
       "    }\n",
       "\n",
       "    .dataframe thead th {\n",
       "        text-align: right;\n",
       "    }\n",
       "</style>\n",
       "<table border=\"1\" class=\"dataframe\">\n",
       "  <thead>\n",
       "    <tr style=\"text-align: right;\">\n",
       "      <th></th>\n",
       "      <th>0</th>\n",
       "      <th>1</th>\n",
       "      <th>2</th>\n",
       "    </tr>\n",
       "  </thead>\n",
       "  <tbody>\n",
       "    <tr>\n",
       "      <th>0</th>\n",
       "      <td>Karnataka</td>\n",
       "      <td>Aurad</td>\n",
       "      <td>[INC(I), INC, JNP, JD, JD, BJP, INC, BJP, BJP]</td>\n",
       "    </tr>\n",
       "    <tr>\n",
       "      <th>1</th>\n",
       "      <td>Karnataka</td>\n",
       "      <td>Bhalki</td>\n",
       "      <td>[INC, INC, JNP, IND, INC, BJP, BJP, INC, INC]</td>\n",
       "    </tr>\n",
       "    <tr>\n",
       "      <th>2</th>\n",
       "      <td>Karnataka</td>\n",
       "      <td>Hulsoor</td>\n",
       "      <td>[INC(I), INC, JNP, INC, BJP, BJP, BJP]</td>\n",
       "    </tr>\n",
       "    <tr>\n",
       "      <th>3</th>\n",
       "      <td>Karnataka</td>\n",
       "      <td>Bidar</td>\n",
       "      <td>[INC(I), BJP, INC, BJP, BSP, BJP, IND, INC, KJP]</td>\n",
       "    </tr>\n",
       "    <tr>\n",
       "      <th>4</th>\n",
       "      <td>Karnataka</td>\n",
       "      <td>Humnabad</td>\n",
       "      <td>[JNP, INC, INC, INC, JD, BJP, JD(S)]</td>\n",
       "    </tr>\n",
       "    <tr>\n",
       "      <th>...</th>\n",
       "      <td>...</td>\n",
       "      <td>...</td>\n",
       "      <td>...</td>\n",
       "    </tr>\n",
       "    <tr>\n",
       "      <th>312</th>\n",
       "      <td>Karnataka</td>\n",
       "      <td>Varuna</td>\n",
       "      <td>[INC, INC]</td>\n",
       "    </tr>\n",
       "    <tr>\n",
       "      <th>313</th>\n",
       "      <td>Karnataka</td>\n",
       "      <td>T.Narasipur</td>\n",
       "      <td>[INC, INC]</td>\n",
       "    </tr>\n",
       "    <tr>\n",
       "      <th>314</th>\n",
       "      <td>Karnataka</td>\n",
       "      <td>Hubli-Dharwad- West</td>\n",
       "      <td>[BJP]</td>\n",
       "    </tr>\n",
       "    <tr>\n",
       "      <th>315</th>\n",
       "      <td>Karnataka</td>\n",
       "      <td>K.R.Pura</td>\n",
       "      <td>[INC]</td>\n",
       "    </tr>\n",
       "    <tr>\n",
       "      <th>316</th>\n",
       "      <td>Karnataka</td>\n",
       "      <td>B.T.M Layout</td>\n",
       "      <td>[INC]</td>\n",
       "    </tr>\n",
       "  </tbody>\n",
       "</table>\n",
       "<p>317 rows × 3 columns</p>\n",
       "</div>"
      ],
      "text/plain": [
       "             0                    1  \\\n",
       "0    Karnataka                Aurad   \n",
       "1    Karnataka               Bhalki   \n",
       "2    Karnataka              Hulsoor   \n",
       "3    Karnataka                Bidar   \n",
       "4    Karnataka             Humnabad   \n",
       "..         ...                  ...   \n",
       "312  Karnataka               Varuna   \n",
       "313  Karnataka          T.Narasipur   \n",
       "314  Karnataka  Hubli-Dharwad- West   \n",
       "315  Karnataka             K.R.Pura   \n",
       "316  Karnataka         B.T.M Layout   \n",
       "\n",
       "                                                    2  \n",
       "0      [INC(I), INC, JNP, JD, JD, BJP, INC, BJP, BJP]  \n",
       "1       [INC, INC, JNP, IND, INC, BJP, BJP, INC, INC]  \n",
       "2              [INC(I), INC, JNP, INC, BJP, BJP, BJP]  \n",
       "3    [INC(I), BJP, INC, BJP, BSP, BJP, IND, INC, KJP]  \n",
       "4                [JNP, INC, INC, INC, JD, BJP, JD(S)]  \n",
       "..                                                ...  \n",
       "312                                        [INC, INC]  \n",
       "313                                        [INC, INC]  \n",
       "314                                             [BJP]  \n",
       "315                                             [INC]  \n",
       "316                                             [INC]  \n",
       "\n",
       "[317 rows x 3 columns]"
      ]
     },
     "execution_count": 187,
     "metadata": {},
     "output_type": "execute_result"
    }
   ],
   "source": [
    "qwa1=pd.DataFrame()\n",
    "max=ge1.iloc[0,10]\n",
    "cons=ge1.iloc[0,4]\n",
    "s=0\n",
    "abc=[]\n",
    "for i in range(ly[a-1],ly[a],1):\n",
    "  if ge1.iloc[i,4]!=cons:\n",
    "    abc.append(i)\n",
    "    cons=ge1.iloc[i,4]\n",
    "for i in range(0,len(abc)-1):\n",
    "  a=ge1.iloc[abc[i]:abc[i+1],10].argmax()\n",
    "  qwa1[s]=ge1.iloc[abc[i]+a,:]\n",
    "  s=s+1\n",
    "qwa1=qwa1.T\n",
    "state=sorted(set(qwa1.iloc[:,1]))\n",
    "l=[]\n",
    "lq=[]\n",
    "for i in range(0,len(state)):\n",
    "  for j in range(0,len(qwa1)):\n",
    "    if state[i]==qwa1.iloc[j,1]:\n",
    "      if qwa1.iloc[j,4] not in l:\n",
    "        l.append(qwa1.iloc[j,4])\n",
    "        lq.append([state[i],qwa1.iloc[j,4]])\n",
    "l2=[]\n",
    "for i in range(0,len(l)):\n",
    "  l1=[]\n",
    "  for j in range(0,len(qwa1)):\n",
    "    if l[i]==qwa1.iloc[j,4]:\n",
    "      l1.append(qwa1.iloc[j,9])\n",
    "  l2.append([lq[i][0],lq[i][1],l1])\n",
    "pd.DataFrame(l2)\n",
    "      \n"
   ]
  },
  {
   "cell_type": "markdown",
   "metadata": {
    "id": "wZVZXgHA8Opt"
   },
   "source": [
    "Thank you\n"
   ]
  }
 ],
 "metadata": {
  "colab": {
   "collapsed_sections": [],
   "name": "Politics.ipynb",
   "provenance": []
  },
  "kernelspec": {
   "display_name": "Python 3",
   "language": "python",
   "name": "python3"
  },
  "language_info": {
   "codemirror_mode": {
    "name": "ipython",
    "version": 3
   },
   "file_extension": ".py",
   "mimetype": "text/x-python",
   "name": "python",
   "nbconvert_exporter": "python",
   "pygments_lexer": "ipython3",
   "version": "3.8.3"
  }
 },
 "nbformat": 4,
 "nbformat_minor": 1
}
