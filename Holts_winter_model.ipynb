{
  "nbformat": 4,
  "nbformat_minor": 0,
  "metadata": {
    "colab": {
      "name": "Holts winter model.ipynb",
      "provenance": [],
      "collapsed_sections": []
    },
    "kernelspec": {
      "name": "python3",
      "display_name": "Python 3"
    },
    "language_info": {
      "name": "python"
    }
  },
  "cells": [
    {
      "cell_type": "code",
      "metadata": {
        "colab": {
          "base_uri": "https://localhost:8080/"
        },
        "id": "zgtKAFPJa0En",
        "outputId": "d58c2ca4-2567-4ad9-9592-5a1466d7b503"
      },
      "source": [
        "pip install yfinance"
      ],
      "execution_count": null,
      "outputs": [
        {
          "output_type": "stream",
          "name": "stdout",
          "text": [
            "Requirement already satisfied: yfinance in /usr/local/lib/python3.7/dist-packages (0.1.63)\n",
            "Requirement already satisfied: lxml>=4.5.1 in /usr/local/lib/python3.7/dist-packages (from yfinance) (4.6.3)\n",
            "Requirement already satisfied: requests>=2.20 in /usr/local/lib/python3.7/dist-packages (from yfinance) (2.23.0)\n",
            "Requirement already satisfied: pandas>=0.24 in /usr/local/lib/python3.7/dist-packages (from yfinance) (1.1.5)\n",
            "Requirement already satisfied: multitasking>=0.0.7 in /usr/local/lib/python3.7/dist-packages (from yfinance) (0.0.9)\n",
            "Requirement already satisfied: numpy>=1.15 in /usr/local/lib/python3.7/dist-packages (from yfinance) (1.19.5)\n",
            "Requirement already satisfied: python-dateutil>=2.7.3 in /usr/local/lib/python3.7/dist-packages (from pandas>=0.24->yfinance) (2.8.2)\n",
            "Requirement already satisfied: pytz>=2017.2 in /usr/local/lib/python3.7/dist-packages (from pandas>=0.24->yfinance) (2018.9)\n",
            "Requirement already satisfied: six>=1.5 in /usr/local/lib/python3.7/dist-packages (from python-dateutil>=2.7.3->pandas>=0.24->yfinance) (1.15.0)\n",
            "Requirement already satisfied: idna<3,>=2.5 in /usr/local/lib/python3.7/dist-packages (from requests>=2.20->yfinance) (2.10)\n",
            "Requirement already satisfied: certifi>=2017.4.17 in /usr/local/lib/python3.7/dist-packages (from requests>=2.20->yfinance) (2021.5.30)\n",
            "Requirement already satisfied: chardet<4,>=3.0.2 in /usr/local/lib/python3.7/dist-packages (from requests>=2.20->yfinance) (3.0.4)\n",
            "Requirement already satisfied: urllib3!=1.25.0,!=1.25.1,<1.26,>=1.21.1 in /usr/local/lib/python3.7/dist-packages (from requests>=2.20->yfinance) (1.24.3)\n"
          ]
        }
      ]
    },
    {
      "cell_type": "markdown",
      "source": [
        "Holts winter model"
      ],
      "metadata": {
        "id": "vv9JxkrSjC-Z"
      }
    },
    {
      "cell_type": "code",
      "source": [
        ""
      ],
      "metadata": {
        "id": "5x8fjf8QjCjL"
      },
      "execution_count": null,
      "outputs": []
    },
    {
      "cell_type": "code",
      "metadata": {
        "id": "3LbqRAW0a01Z"
      },
      "source": [
        "import yfinance as yf\n",
        "import pandas as pd\n",
        "import numpy as np\n",
        "import matplotlib.pyplot as plt"
      ],
      "execution_count": null,
      "outputs": []
    },
    {
      "cell_type": "code",
      "metadata": {
        "colab": {
          "base_uri": "https://localhost:8080/"
        },
        "id": "xka585Lla3QT",
        "outputId": "1f31e873-e93e-430b-9cb3-e702ddfdb2a6"
      },
      "source": [
        "a=yf.download('ASTRAL.NS',start='2000-01-01',interval='1d')"
      ],
      "execution_count": null,
      "outputs": [
        {
          "output_type": "stream",
          "name": "stdout",
          "text": [
            "\r[*********************100%***********************]  1 of 1 completed\n"
          ]
        }
      ]
    },
    {
      "cell_type": "code",
      "metadata": {
        "id": "CV3eqRKobHVI"
      },
      "source": [
        "a=a['Adj Close']"
      ],
      "execution_count": null,
      "outputs": []
    },
    {
      "cell_type": "code",
      "metadata": {
        "id": "g4i4AbLPbH9x"
      },
      "source": [
        "a=a.to_list()"
      ],
      "execution_count": null,
      "outputs": []
    },
    {
      "cell_type": "code",
      "metadata": {
        "id": "m7rq79khfuPv"
      },
      "source": [
        "a"
      ],
      "execution_count": null,
      "outputs": []
    },
    {
      "cell_type": "code",
      "metadata": {
        "colab": {
          "base_uri": "https://localhost:8080/"
        },
        "id": "Ar5jL_qRpNmy",
        "outputId": "1ed15caf-774b-4f02-9ed0-e9a5c4c20555"
      },
      "source": [
        "len(a)"
      ],
      "execution_count": null,
      "outputs": [
        {
          "output_type": "execute_result",
          "data": {
            "text/plain": [
              "3582"
            ]
          },
          "metadata": {},
          "execution_count": 8
        }
      ]
    },
    {
      "cell_type": "code",
      "metadata": {
        "colab": {
          "base_uri": "https://localhost:8080/"
        },
        "id": "_zuErhrQbMiF",
        "outputId": "c4e44ad8-3829-4710-c0f4-095e4c4a3758"
      },
      "source": [
        "type(a)"
      ],
      "execution_count": null,
      "outputs": [
        {
          "output_type": "execute_result",
          "data": {
            "text/plain": [
              "list"
            ]
          },
          "metadata": {},
          "execution_count": 9
        }
      ]
    },
    {
      "cell_type": "code",
      "metadata": {
        "id": "_bjO9OHvbPLO"
      },
      "source": [
        "l=[]\n",
        "b=[]\n",
        "b12=[]\n",
        "l.append(a[0])\n",
        "b.append(0)\n",
        "b12.append(0)\n",
        "f=[]\n",
        "f.append(0)\n",
        "f123=[]\n",
        "f123.append(0)\n"
      ],
      "execution_count": null,
      "outputs": []
    },
    {
      "cell_type": "code",
      "metadata": {
        "id": "QF_C_-8Vf0MP"
      },
      "source": [
        "l.append(al*y[i]+(1-al)*(l[i-1]+b[i-1])\n",
        "b.append(bl*(l[i]-l[i-1])+(1-bl)*b[i-1])\n",
        "f.append(l[i]+b[i])"
      ],
      "execution_count": null,
      "outputs": []
    },
    {
      "cell_type": "code",
      "metadata": {
        "id": "5SyDma4zqOVq"
      },
      "source": [
        "rsm=0\n",
        "abc=[]\n",
        "abcd=[]"
      ],
      "execution_count": null,
      "outputs": []
    },
    {
      "cell_type": "code",
      "metadata": {
        "id": "IXuRhA-Cuo8m"
      },
      "source": [
        "num_ports = 10000\n",
        "rsme=[]\n",
        "for ind in range(num_ports):\n",
        "  w12 = np.array(np.random.random(2))\n",
        "  abc.append([w12])"
      ],
      "execution_count": null,
      "outputs": []
    },
    {
      "cell_type": "code",
      "metadata": {
        "id": "Seb24kGAANYr"
      },
      "source": [
        "b123=[]"
      ],
      "execution_count": null,
      "outputs": []
    },
    {
      "cell_type": "code",
      "metadata": {
        "id": "ZCsEvqnQigAu"
      },
      "source": [
        "num_ports = 10000\n",
        "rsme=[]\n",
        "for ind in range(num_ports):\n",
        "  w12 = np.array(np.random.random(1))\n",
        "  w11 = np.array(np.random.random(1))\n",
        "  abc.append(w12)\n",
        "  abcd.append(w11)\n",
        "  for i in range(1,len(a)):\n",
        "    qw=(w12*a[i]+(1-w12)*(l[i-1]+b[i-1]))\n",
        "    l.append(qw)\n",
        "    b1=(w12*(l[i]-l[i-1])+(1-w12)*b[i-1])\n",
        "    b.append(b1)\n",
        "    f12=qw+b1\n",
        "    rsm=rsm+(f12-a[i])*(f12-a[i])\n",
        "  rs1=(rsm/(len(a)-1))**2\n",
        "  rsme.append(rs1)\n",
        "  rsm=0   \n",
        "alpha=abc[rsme.index(min(rsme))]\n",
        "beta=abcd[rsme.index(min(rsme))]\n",
        "for i in range(1,len(a)):\n",
        "  qw=(alpha*a[i]+(1-alpha)*(l[i-1]+b[i-1]))\n",
        "  b1=(beta*(l[i]-l[i-1])+(1-beta)*b[i-1])\n",
        "  b123.append(b1)\n",
        "  f12=qw+b1\n",
        "  f123.append(f12)\n"
      ],
      "execution_count": null,
      "outputs": []
    },
    {
      "cell_type": "code",
      "metadata": {
        "colab": {
          "base_uri": "https://localhost:8080/"
        },
        "id": "7skSKmPg61DI",
        "outputId": "0f7d69b2-236a-41af-d4af-63c92a0948de"
      },
      "source": [
        "b1"
      ],
      "execution_count": null,
      "outputs": [
        {
          "output_type": "execute_result",
          "data": {
            "text/plain": [
              "array([12.74254823])"
            ]
          },
          "metadata": {},
          "execution_count": 18
        }
      ]
    },
    {
      "cell_type": "code",
      "metadata": {
        "id": "DKEfzNsx7Hte"
      },
      "source": [
        "ab12=sum(b123)/len(b123)"
      ],
      "execution_count": null,
      "outputs": []
    },
    {
      "cell_type": "code",
      "metadata": {
        "colab": {
          "base_uri": "https://localhost:8080/"
        },
        "id": "bil-shr67xyp",
        "outputId": "78bbdab0-06f7-4eee-d034-53b83ad194e5"
      },
      "source": [
        "ab12"
      ],
      "execution_count": null,
      "outputs": [
        {
          "output_type": "execute_result",
          "data": {
            "text/plain": [
              "array([0.62484301])"
            ]
          },
          "metadata": {},
          "execution_count": 20
        }
      ]
    },
    {
      "cell_type": "code",
      "metadata": {
        "colab": {
          "base_uri": "https://localhost:8080/"
        },
        "id": "QcwEDqSC7YhF",
        "outputId": "77c17947-91ef-4c42-e9f9-863d15a580af"
      },
      "source": [
        "len(b123)"
      ],
      "execution_count": null,
      "outputs": [
        {
          "output_type": "execute_result",
          "data": {
            "text/plain": [
              "3581"
            ]
          },
          "metadata": {},
          "execution_count": 23
        }
      ]
    },
    {
      "cell_type": "code",
      "metadata": {
        "colab": {
          "base_uri": "https://localhost:8080/"
        },
        "id": "rCxA8hfm48mf",
        "outputId": "b4ad6c42-7812-4bda-b81a-1af1456e44b0"
      },
      "source": [
        "qw"
      ],
      "execution_count": null,
      "outputs": [
        {
          "output_type": "execute_result",
          "data": {
            "text/plain": [
              "array([2236.53025498])"
            ]
          },
          "metadata": {},
          "execution_count": 135
        }
      ]
    },
    {
      "cell_type": "code",
      "metadata": {
        "colab": {
          "base_uri": "https://localhost:8080/"
        },
        "id": "NoPpR3jv5JIg",
        "outputId": "84a1898a-eb44-46a2-91dc-f7f557e53a69"
      },
      "source": [
        "(beta*(l[i]-l[i-1])+(1-beta)*b[i-1])"
      ],
      "execution_count": null,
      "outputs": [
        {
          "output_type": "execute_result",
          "data": {
            "text/plain": [
              "array([-27.88303695])"
            ]
          },
          "metadata": {},
          "execution_count": 138
        }
      ]
    },
    {
      "cell_type": "code",
      "metadata": {
        "colab": {
          "base_uri": "https://localhost:8080/"
        },
        "id": "1w9WiqWE5OZn",
        "outputId": "6175f24c-6435-4073-d17e-15f8a835e7b6"
      },
      "source": [
        "b[i-1]"
      ],
      "execution_count": null,
      "outputs": [
        {
          "output_type": "execute_result",
          "data": {
            "text/plain": [
              "array([-48.71847263])"
            ]
          },
          "metadata": {},
          "execution_count": 139
        }
      ]
    },
    {
      "cell_type": "code",
      "metadata": {
        "colab": {
          "base_uri": "https://localhost:8080/"
        },
        "id": "Btd9dyJi5CWf",
        "outputId": "54bd919d-54cf-4afd-a8e4-42e4740f3f3c"
      },
      "source": [
        "b1"
      ],
      "execution_count": null,
      "outputs": [
        {
          "output_type": "execute_result",
          "data": {
            "text/plain": [
              "array([-27.88303695])"
            ]
          },
          "metadata": {},
          "execution_count": 137
        }
      ]
    },
    {
      "cell_type": "code",
      "metadata": {
        "id": "a0YG1f3e7p-c"
      },
      "source": [
        "abcd"
      ],
      "execution_count": null,
      "outputs": []
    },
    {
      "cell_type": "code",
      "metadata": {
        "colab": {
          "base_uri": "https://localhost:8080/"
        },
        "id": "dWkeRun84qV4",
        "outputId": "d412410d-e79a-4ae3-c345-b3c2244ab33f"
      },
      "source": [
        "print('prediction price of the stock after one year')\n",
        "print(qw+ab12*250)"
      ],
      "execution_count": null,
      "outputs": [
        {
          "output_type": "stream",
          "name": "stdout",
          "text": [
            "prediction price of the stock after one year\n",
            "[2390.51789302]\n"
          ]
        }
      ]
    }
  ]
}