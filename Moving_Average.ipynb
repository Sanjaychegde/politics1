{
  "nbformat": 4,
  "nbformat_minor": 0,
  "metadata": {
    "colab": {
      "name": "Moving Average.ipynb",
      "provenance": [],
      "collapsed_sections": []
    },
    "kernelspec": {
      "name": "python3",
      "display_name": "Python 3"
    },
    "language_info": {
      "name": "python"
    }
  },
  "cells": [
    {
      "cell_type": "code",
      "metadata": {
        "colab": {
          "base_uri": "https://localhost:8080/"
        },
        "id": "iN6ZSGEEwKiJ",
        "outputId": "510baf54-e65b-4e51-de34-86c19a3a2245"
      },
      "source": [
        "pip install yfinance"
      ],
      "execution_count": null,
      "outputs": [
        {
          "output_type": "stream",
          "text": [
            "Collecting yfinance\n",
            "  Downloading https://files.pythonhosted.org/packages/a7/ee/315752b9ef281ba83c62aa7ec2e2074f85223da6e7e74efb4d3e11c0f510/yfinance-0.1.59.tar.gz\n",
            "Requirement already satisfied: pandas>=0.24 in /usr/local/lib/python3.7/dist-packages (from yfinance) (1.1.5)\n",
            "Requirement already satisfied: numpy>=1.15 in /usr/local/lib/python3.7/dist-packages (from yfinance) (1.19.5)\n",
            "Requirement already satisfied: requests>=2.20 in /usr/local/lib/python3.7/dist-packages (from yfinance) (2.23.0)\n",
            "Requirement already satisfied: multitasking>=0.0.7 in /usr/local/lib/python3.7/dist-packages (from yfinance) (0.0.9)\n",
            "Collecting lxml>=4.5.1\n",
            "\u001b[?25l  Downloading https://files.pythonhosted.org/packages/cf/4d/6537313bf58fe22b508f08cf3eb86b29b6f9edf68e00454224539421073b/lxml-4.6.3-cp37-cp37m-manylinux1_x86_64.whl (5.5MB)\n",
            "\u001b[K     |████████████████████████████████| 5.5MB 19.3MB/s \n",
            "\u001b[?25hRequirement already satisfied: pytz>=2017.2 in /usr/local/lib/python3.7/dist-packages (from pandas>=0.24->yfinance) (2018.9)\n",
            "Requirement already satisfied: python-dateutil>=2.7.3 in /usr/local/lib/python3.7/dist-packages (from pandas>=0.24->yfinance) (2.8.1)\n",
            "Requirement already satisfied: urllib3!=1.25.0,!=1.25.1,<1.26,>=1.21.1 in /usr/local/lib/python3.7/dist-packages (from requests>=2.20->yfinance) (1.24.3)\n",
            "Requirement already satisfied: idna<3,>=2.5 in /usr/local/lib/python3.7/dist-packages (from requests>=2.20->yfinance) (2.10)\n",
            "Requirement already satisfied: certifi>=2017.4.17 in /usr/local/lib/python3.7/dist-packages (from requests>=2.20->yfinance) (2020.12.5)\n",
            "Requirement already satisfied: chardet<4,>=3.0.2 in /usr/local/lib/python3.7/dist-packages (from requests>=2.20->yfinance) (3.0.4)\n",
            "Requirement already satisfied: six>=1.5 in /usr/local/lib/python3.7/dist-packages (from python-dateutil>=2.7.3->pandas>=0.24->yfinance) (1.15.0)\n",
            "Building wheels for collected packages: yfinance\n",
            "  Building wheel for yfinance (setup.py) ... \u001b[?25l\u001b[?25hdone\n",
            "  Created wheel for yfinance: filename=yfinance-0.1.59-py2.py3-none-any.whl size=23442 sha256=0f262edfeb5ffb18970d69017150d6924d659fda5ebe069441d6a9351ce8aecb\n",
            "  Stored in directory: /root/.cache/pip/wheels/f8/2a/0f/4b5a86e1d52e451757eb6bc17fd899629f0925c777741b6d04\n",
            "Successfully built yfinance\n",
            "Installing collected packages: lxml, yfinance\n",
            "  Found existing installation: lxml 4.2.6\n",
            "    Uninstalling lxml-4.2.6:\n",
            "      Successfully uninstalled lxml-4.2.6\n",
            "Successfully installed lxml-4.6.3 yfinance-0.1.59\n"
          ],
          "name": "stdout"
        }
      ]
    },
    {
      "cell_type": "code",
      "metadata": {
        "id": "tKsXwx1myA0B"
      },
      "source": [
        "import yfinance as yf\n",
        "import pandas as pd\n",
        "import numpy as np\n",
        "import datetime as dt\n",
        "import matplotlib as plt"
      ],
      "execution_count": null,
      "outputs": []
    },
    {
      "cell_type": "code",
      "metadata": {
        "colab": {
          "base_uri": "https://localhost:8080/"
        },
        "id": "7Bg2lT-CyDYB",
        "outputId": "6d8567d9-316b-4d05-c190-c1f5d4db0294"
      },
      "source": [
        "df=yf.download('^NSEI',start='2011-03-01')"
      ],
      "execution_count": null,
      "outputs": [
        {
          "output_type": "stream",
          "text": [
            "\r[*********************100%***********************]  1 of 1 completed\n"
          ],
          "name": "stdout"
        }
      ]
    },
    {
      "cell_type": "code",
      "metadata": {
        "colab": {
          "base_uri": "https://localhost:8080/",
          "height": 428
        },
        "id": "tgifXPzZyGWV",
        "outputId": "ae1f56b4-c0a3-436d-ee7c-a04280b258d2"
      },
      "source": [
        "df"
      ],
      "execution_count": null,
      "outputs": [
        {
          "output_type": "execute_result",
          "data": {
            "text/html": [
              "<div>\n",
              "<style scoped>\n",
              "    .dataframe tbody tr th:only-of-type {\n",
              "        vertical-align: middle;\n",
              "    }\n",
              "\n",
              "    .dataframe tbody tr th {\n",
              "        vertical-align: top;\n",
              "    }\n",
              "\n",
              "    .dataframe thead th {\n",
              "        text-align: right;\n",
              "    }\n",
              "</style>\n",
              "<table border=\"1\" class=\"dataframe\">\n",
              "  <thead>\n",
              "    <tr style=\"text-align: right;\">\n",
              "      <th></th>\n",
              "      <th>Open</th>\n",
              "      <th>High</th>\n",
              "      <th>Low</th>\n",
              "      <th>Close</th>\n",
              "      <th>Adj Close</th>\n",
              "      <th>Volume</th>\n",
              "    </tr>\n",
              "    <tr>\n",
              "      <th>Date</th>\n",
              "      <th></th>\n",
              "      <th></th>\n",
              "      <th></th>\n",
              "      <th></th>\n",
              "      <th></th>\n",
              "      <th></th>\n",
              "    </tr>\n",
              "  </thead>\n",
              "  <tbody>\n",
              "    <tr>\n",
              "      <th>2011-03-01</th>\n",
              "      <td>5382.000000</td>\n",
              "      <td>5533.049805</td>\n",
              "      <td>5373.549805</td>\n",
              "      <td>5522.299805</td>\n",
              "      <td>5522.299805</td>\n",
              "      <td>0</td>\n",
              "    </tr>\n",
              "    <tr>\n",
              "      <th>2011-03-03</th>\n",
              "      <td>5478.450195</td>\n",
              "      <td>5570.750000</td>\n",
              "      <td>5468.250000</td>\n",
              "      <td>5536.200195</td>\n",
              "      <td>5536.200195</td>\n",
              "      <td>0</td>\n",
              "    </tr>\n",
              "    <tr>\n",
              "      <th>2011-03-04</th>\n",
              "      <td>5586.200195</td>\n",
              "      <td>5608.200195</td>\n",
              "      <td>5524.100098</td>\n",
              "      <td>5538.750000</td>\n",
              "      <td>5538.750000</td>\n",
              "      <td>0</td>\n",
              "    </tr>\n",
              "    <tr>\n",
              "      <th>2011-03-07</th>\n",
              "      <td>5490.049805</td>\n",
              "      <td>5491.250000</td>\n",
              "      <td>5408.450195</td>\n",
              "      <td>5463.149902</td>\n",
              "      <td>5463.149902</td>\n",
              "      <td>0</td>\n",
              "    </tr>\n",
              "    <tr>\n",
              "      <th>2011-03-08</th>\n",
              "      <td>5466.100098</td>\n",
              "      <td>5530.549805</td>\n",
              "      <td>5464.750000</td>\n",
              "      <td>5520.799805</td>\n",
              "      <td>5520.799805</td>\n",
              "      <td>0</td>\n",
              "    </tr>\n",
              "    <tr>\n",
              "      <th>...</th>\n",
              "      <td>...</td>\n",
              "      <td>...</td>\n",
              "      <td>...</td>\n",
              "      <td>...</td>\n",
              "      <td>...</td>\n",
              "      <td>...</td>\n",
              "    </tr>\n",
              "    <tr>\n",
              "      <th>2021-03-30</th>\n",
              "      <td>14628.500000</td>\n",
              "      <td>14876.299805</td>\n",
              "      <td>14617.599609</td>\n",
              "      <td>14845.099609</td>\n",
              "      <td>14845.099609</td>\n",
              "      <td>594500</td>\n",
              "    </tr>\n",
              "    <tr>\n",
              "      <th>2021-03-31</th>\n",
              "      <td>14811.849609</td>\n",
              "      <td>14813.750000</td>\n",
              "      <td>14670.250000</td>\n",
              "      <td>14690.700195</td>\n",
              "      <td>14690.700195</td>\n",
              "      <td>463900</td>\n",
              "    </tr>\n",
              "    <tr>\n",
              "      <th>2021-04-01</th>\n",
              "      <td>14798.400391</td>\n",
              "      <td>14883.200195</td>\n",
              "      <td>14692.450195</td>\n",
              "      <td>14867.349609</td>\n",
              "      <td>14867.349609</td>\n",
              "      <td>445000</td>\n",
              "    </tr>\n",
              "    <tr>\n",
              "      <th>2021-04-05</th>\n",
              "      <td>14837.700195</td>\n",
              "      <td>14849.849609</td>\n",
              "      <td>14459.500000</td>\n",
              "      <td>14637.799805</td>\n",
              "      <td>14637.799805</td>\n",
              "      <td>509700</td>\n",
              "    </tr>\n",
              "    <tr>\n",
              "      <th>2021-04-06</th>\n",
              "      <td>14737.000000</td>\n",
              "      <td>14779.099609</td>\n",
              "      <td>14573.900391</td>\n",
              "      <td>14683.500000</td>\n",
              "      <td>14683.500000</td>\n",
              "      <td>0</td>\n",
              "    </tr>\n",
              "  </tbody>\n",
              "</table>\n",
              "<p>2467 rows × 6 columns</p>\n",
              "</div>"
            ],
            "text/plain": [
              "                    Open          High  ...     Adj Close  Volume\n",
              "Date                                    ...                      \n",
              "2011-03-01   5382.000000   5533.049805  ...   5522.299805       0\n",
              "2011-03-03   5478.450195   5570.750000  ...   5536.200195       0\n",
              "2011-03-04   5586.200195   5608.200195  ...   5538.750000       0\n",
              "2011-03-07   5490.049805   5491.250000  ...   5463.149902       0\n",
              "2011-03-08   5466.100098   5530.549805  ...   5520.799805       0\n",
              "...                  ...           ...  ...           ...     ...\n",
              "2021-03-30  14628.500000  14876.299805  ...  14845.099609  594500\n",
              "2021-03-31  14811.849609  14813.750000  ...  14690.700195  463900\n",
              "2021-04-01  14798.400391  14883.200195  ...  14867.349609  445000\n",
              "2021-04-05  14837.700195  14849.849609  ...  14637.799805  509700\n",
              "2021-04-06  14737.000000  14779.099609  ...  14683.500000       0\n",
              "\n",
              "[2467 rows x 6 columns]"
            ]
          },
          "metadata": {
            "tags": []
          },
          "execution_count": 4
        }
      ]
    },
    {
      "cell_type": "code",
      "metadata": {
        "id": "WVbcfjjqyMTd"
      },
      "source": [
        "prices=df['Adj Close']"
      ],
      "execution_count": null,
      "outputs": []
    },
    {
      "cell_type": "code",
      "metadata": {
        "colab": {
          "base_uri": "https://localhost:8080/"
        },
        "id": "CHK9lJy1yZYd",
        "outputId": "7b2a1696-6aaa-4b8f-bec1-d00a2b7f8aec"
      },
      "source": [
        "prices"
      ],
      "execution_count": null,
      "outputs": [
        {
          "output_type": "execute_result",
          "data": {
            "text/plain": [
              "Date\n",
              "2011-03-01     5522.299805\n",
              "2011-03-03     5536.200195\n",
              "2011-03-04     5538.750000\n",
              "2011-03-07     5463.149902\n",
              "2011-03-08     5520.799805\n",
              "                  ...     \n",
              "2021-03-30    14845.099609\n",
              "2021-03-31    14690.700195\n",
              "2021-04-01    14867.349609\n",
              "2021-04-05    14637.799805\n",
              "2021-04-06    14683.500000\n",
              "Name: Adj Close, Length: 2467, dtype: float64"
            ]
          },
          "metadata": {
            "tags": []
          },
          "execution_count": 6
        }
      ]
    },
    {
      "cell_type": "code",
      "metadata": {
        "id": "L_1-WUNMyZ2A"
      },
      "source": [
        "prices=pd.DataFrame(prices)"
      ],
      "execution_count": null,
      "outputs": []
    },
    {
      "cell_type": "code",
      "metadata": {
        "colab": {
          "base_uri": "https://localhost:8080/",
          "height": 428
        },
        "id": "vO1-WWyTyg1a",
        "outputId": "31eb0dd0-61c9-40d8-a1ec-e7355d38bea8"
      },
      "source": [
        "prices"
      ],
      "execution_count": null,
      "outputs": [
        {
          "output_type": "execute_result",
          "data": {
            "text/html": [
              "<div>\n",
              "<style scoped>\n",
              "    .dataframe tbody tr th:only-of-type {\n",
              "        vertical-align: middle;\n",
              "    }\n",
              "\n",
              "    .dataframe tbody tr th {\n",
              "        vertical-align: top;\n",
              "    }\n",
              "\n",
              "    .dataframe thead th {\n",
              "        text-align: right;\n",
              "    }\n",
              "</style>\n",
              "<table border=\"1\" class=\"dataframe\">\n",
              "  <thead>\n",
              "    <tr style=\"text-align: right;\">\n",
              "      <th></th>\n",
              "      <th>Adj Close</th>\n",
              "    </tr>\n",
              "    <tr>\n",
              "      <th>Date</th>\n",
              "      <th></th>\n",
              "    </tr>\n",
              "  </thead>\n",
              "  <tbody>\n",
              "    <tr>\n",
              "      <th>2011-03-01</th>\n",
              "      <td>5522.299805</td>\n",
              "    </tr>\n",
              "    <tr>\n",
              "      <th>2011-03-03</th>\n",
              "      <td>5536.200195</td>\n",
              "    </tr>\n",
              "    <tr>\n",
              "      <th>2011-03-04</th>\n",
              "      <td>5538.750000</td>\n",
              "    </tr>\n",
              "    <tr>\n",
              "      <th>2011-03-07</th>\n",
              "      <td>5463.149902</td>\n",
              "    </tr>\n",
              "    <tr>\n",
              "      <th>2011-03-08</th>\n",
              "      <td>5520.799805</td>\n",
              "    </tr>\n",
              "    <tr>\n",
              "      <th>...</th>\n",
              "      <td>...</td>\n",
              "    </tr>\n",
              "    <tr>\n",
              "      <th>2021-03-30</th>\n",
              "      <td>14845.099609</td>\n",
              "    </tr>\n",
              "    <tr>\n",
              "      <th>2021-03-31</th>\n",
              "      <td>14690.700195</td>\n",
              "    </tr>\n",
              "    <tr>\n",
              "      <th>2021-04-01</th>\n",
              "      <td>14867.349609</td>\n",
              "    </tr>\n",
              "    <tr>\n",
              "      <th>2021-04-05</th>\n",
              "      <td>14637.799805</td>\n",
              "    </tr>\n",
              "    <tr>\n",
              "      <th>2021-04-06</th>\n",
              "      <td>14683.500000</td>\n",
              "    </tr>\n",
              "  </tbody>\n",
              "</table>\n",
              "<p>2467 rows × 1 columns</p>\n",
              "</div>"
            ],
            "text/plain": [
              "               Adj Close\n",
              "Date                    \n",
              "2011-03-01   5522.299805\n",
              "2011-03-03   5536.200195\n",
              "2011-03-04   5538.750000\n",
              "2011-03-07   5463.149902\n",
              "2011-03-08   5520.799805\n",
              "...                  ...\n",
              "2021-03-30  14845.099609\n",
              "2021-03-31  14690.700195\n",
              "2021-04-01  14867.349609\n",
              "2021-04-05  14637.799805\n",
              "2021-04-06  14683.500000\n",
              "\n",
              "[2467 rows x 1 columns]"
            ]
          },
          "metadata": {
            "tags": []
          },
          "execution_count": 8
        }
      ]
    },
    {
      "cell_type": "code",
      "metadata": {
        "colab": {
          "base_uri": "https://localhost:8080/"
        },
        "id": "IeH22F2m8171",
        "outputId": "3b354ab2-91c1-4045-b2ed-82cb25542fee"
      },
      "source": [
        "prices['Adj Close'][199]"
      ],
      "execution_count": null,
      "outputs": [
        {
          "output_type": "execute_result",
          "data": {
            "text/plain": [
              "4750.5"
            ]
          },
          "metadata": {
            "tags": []
          },
          "execution_count": 9
        }
      ]
    },
    {
      "cell_type": "code",
      "metadata": {
        "id": "FoTojjumyh9z"
      },
      "source": [
        "a=0\n",
        "ma200=[]\n",
        "for i in range(0,2464):\n",
        "  if i in range(0,200):\n",
        "    ma200.append(0)\n",
        "  else :\n",
        "    for j in range(0,200):\n",
        "      a=a+prices['Adj Close'][i-j]\n",
        "    rs=a/200\n",
        "    ma200.append(rs)\n",
        "    a=0\n",
        "\n"
      ],
      "execution_count": null,
      "outputs": []
    },
    {
      "cell_type": "code",
      "metadata": {
        "colab": {
          "base_uri": "https://localhost:8080/"
        },
        "id": "DC33LEH1Tjnt",
        "outputId": "217f0991-cbc3-4f4b-9daa-7e4aa4a33044"
      },
      "source": [
        "ma200[-1]"
      ],
      "execution_count": null,
      "outputs": [
        {
          "output_type": "execute_result",
          "data": {
            "text/plain": [
              "12636.852255859376"
            ]
          },
          "metadata": {
            "tags": []
          },
          "execution_count": 11
        }
      ]
    },
    {
      "cell_type": "code",
      "metadata": {
        "colab": {
          "base_uri": "https://localhost:8080/"
        },
        "id": "sMxj-RVrPEnJ",
        "outputId": "afb5b764-a56e-4bf6-c1da-7ab7afc089fe"
      },
      "source": [
        "len(ma200)"
      ],
      "execution_count": null,
      "outputs": [
        {
          "output_type": "execute_result",
          "data": {
            "text/plain": [
              "2464"
            ]
          },
          "metadata": {
            "tags": []
          },
          "execution_count": 12
        }
      ]
    },
    {
      "cell_type": "code",
      "metadata": {
        "id": "6nP2VzTkNr__"
      },
      "source": [
        "ma50=[]\n",
        "for i in range(0,2464):\n",
        "  if i in range(0,50):\n",
        "    ma50.append(0)\n",
        "  else :\n",
        "    for j in range(0,50):\n",
        "      a=a+prices['Adj Close'][i-j]\n",
        "    rs=a/50\n",
        "    ma50.append(rs)\n",
        "    a=0\n",
        "\n"
      ],
      "execution_count": null,
      "outputs": []
    },
    {
      "cell_type": "code",
      "metadata": {
        "colab": {
          "base_uri": "https://localhost:8080/"
        },
        "id": "iBM9IArTTlzi",
        "outputId": "59882580-dbb4-4203-a307-42a5ca17e9bb"
      },
      "source": [
        "ma50[-1]"
      ],
      "execution_count": null,
      "outputs": [
        {
          "output_type": "execute_result",
          "data": {
            "text/plain": [
              "14774.8380078125"
            ]
          },
          "metadata": {
            "tags": []
          },
          "execution_count": 14
        }
      ]
    },
    {
      "cell_type": "code",
      "metadata": {
        "colab": {
          "base_uri": "https://localhost:8080/"
        },
        "id": "bFhoMOyBPGjg",
        "outputId": "c21f5d16-07b4-41f8-98a6-4079b116e47c"
      },
      "source": [
        "len(ma50)"
      ],
      "execution_count": null,
      "outputs": [
        {
          "output_type": "execute_result",
          "data": {
            "text/plain": [
              "2464"
            ]
          },
          "metadata": {
            "tags": []
          },
          "execution_count": 15
        }
      ]
    },
    {
      "cell_type": "code",
      "metadata": {
        "id": "3YpoOZHF7vWj"
      },
      "source": [
        "buy=[]\n",
        "s=0\n",
        "d=0\n",
        "sell=[]\n",
        "for i in range(200,2463):\n",
        "  if ma50[i]<ma200[i] and ma50[i+1]>ma200[i+1]:\n",
        "    buy.append(i)\n",
        "  if ma50[i]>ma200[i] and ma50[i+1]<ma200[i+1]:\n",
        "    sell.append(i)\n",
        "    "
      ],
      "execution_count": null,
      "outputs": []
    },
    {
      "cell_type": "code",
      "metadata": {
        "colab": {
          "base_uri": "https://localhost:8080/"
        },
        "id": "aWEADYcLUHfG",
        "outputId": "c82e2863-901e-4b11-95f3-9d28a876f271"
      },
      "source": [
        "ma200[199]"
      ],
      "execution_count": null,
      "outputs": [
        {
          "output_type": "execute_result",
          "data": {
            "text/plain": [
              "0"
            ]
          },
          "metadata": {
            "tags": []
          },
          "execution_count": 17
        }
      ]
    },
    {
      "cell_type": "code",
      "metadata": {
        "colab": {
          "base_uri": "https://localhost:8080/"
        },
        "id": "DilPQ-lEDdKf",
        "outputId": "c842d902-8699-4575-945c-f98a77743ceb"
      },
      "source": [
        "len(buy)"
      ],
      "execution_count": null,
      "outputs": [
        {
          "output_type": "execute_result",
          "data": {
            "text/plain": [
              "8"
            ]
          },
          "metadata": {
            "tags": []
          },
          "execution_count": 18
        }
      ]
    },
    {
      "cell_type": "code",
      "metadata": {
        "colab": {
          "base_uri": "https://localhost:8080/"
        },
        "id": "HZu7rqEbDgbp",
        "outputId": "e7c7459d-1b6c-4199-f9b5-8a0eab7c45c0"
      },
      "source": [
        "len(sell)"
      ],
      "execution_count": null,
      "outputs": [
        {
          "output_type": "execute_result",
          "data": {
            "text/plain": [
              "7"
            ]
          },
          "metadata": {
            "tags": []
          },
          "execution_count": 19
        }
      ]
    },
    {
      "cell_type": "code",
      "metadata": {
        "colab": {
          "base_uri": "https://localhost:8080/"
        },
        "id": "0wmgNVWIDiZI",
        "outputId": "73b7efe3-2d8d-4e68-d9be-2f3fdaa54c43"
      },
      "source": [
        "buy"
      ],
      "execution_count": null,
      "outputs": [
        {
          "output_type": "execute_result",
          "data": {
            "text/plain": [
              "[250, 343, 651, 1274, 1452, 1962, 2118, 2312]"
            ]
          },
          "metadata": {
            "tags": []
          },
          "execution_count": 20
        }
      ]
    },
    {
      "cell_type": "code",
      "metadata": {
        "colab": {
          "base_uri": "https://localhost:8080/"
        },
        "id": "BekK7IezXo15",
        "outputId": "b59062c6-0169-4ba9-c5a1-7b0e1006e345"
      },
      "source": [
        "prices['Adj Close'][250]"
      ],
      "execution_count": null,
      "outputs": [
        {
          "output_type": "execute_result",
          "data": {
            "text/plain": [
              "5429.5"
            ]
          },
          "metadata": {
            "tags": []
          },
          "execution_count": 21
        }
      ]
    },
    {
      "cell_type": "code",
      "metadata": {
        "colab": {
          "base_uri": "https://localhost:8080/"
        },
        "id": "ZlH3zQ--PjfF",
        "outputId": "2e98b326-fb6c-4192-a207-d7d25ba37d42"
      },
      "source": [
        "sell"
      ],
      "execution_count": null,
      "outputs": [
        {
          "output_type": "execute_result",
          "data": {
            "text/plain": [
              "[316, 593, 1039, 1418, 1882, 2081, 2207]"
            ]
          },
          "metadata": {
            "tags": []
          },
          "execution_count": 22
        }
      ]
    },
    {
      "cell_type": "code",
      "metadata": {
        "id": "-tMtONOAPj7P"
      },
      "source": [
        "points=[]\n",
        "for i in range(0,8):\n",
        "  if i in range(0,7):\n",
        "    points.append(buy[i])\n",
        "    points.append(sell[i])\n",
        "  else:\n",
        "    points.append(buy[i])\n"
      ],
      "execution_count": null,
      "outputs": []
    },
    {
      "cell_type": "code",
      "metadata": {
        "colab": {
          "base_uri": "https://localhost:8080/"
        },
        "id": "wgVpnlgzVVrJ",
        "outputId": "b123b9fd-2057-4585-9cf0-fdaea9d7a398"
      },
      "source": [
        "points"
      ],
      "execution_count": null,
      "outputs": [
        {
          "output_type": "execute_result",
          "data": {
            "text/plain": [
              "[250,\n",
              " 316,\n",
              " 343,\n",
              " 593,\n",
              " 651,\n",
              " 1039,\n",
              " 1274,\n",
              " 1418,\n",
              " 1452,\n",
              " 1882,\n",
              " 1962,\n",
              " 2081,\n",
              " 2118,\n",
              " 2207,\n",
              " 2312]"
            ]
          },
          "metadata": {
            "tags": []
          },
          "execution_count": 24
        }
      ]
    },
    {
      "cell_type": "code",
      "metadata": {
        "colab": {
          "base_uri": "https://localhost:8080/"
        },
        "id": "52loOtYLX7Im",
        "outputId": "db4e52a9-d8fa-4057-a4a5-acd7952f0b52"
      },
      "source": [
        "prices['Adj Close'][651]"
      ],
      "execution_count": null,
      "outputs": [
        {
          "output_type": "execute_result",
          "data": {
            "text/plain": [
              "6299.14990234375"
            ]
          },
          "metadata": {
            "tags": []
          },
          "execution_count": 25
        }
      ]
    },
    {
      "cell_type": "code",
      "metadata": {
        "colab": {
          "base_uri": "https://localhost:8080/"
        },
        "id": "Dur9_J0UX9by",
        "outputId": "5ab48e76-ee27-4964-d22c-294e0e12cc82"
      },
      "source": [
        "prices['Adj Close'][1039]"
      ],
      "execution_count": null,
      "outputs": [
        {
          "output_type": "execute_result",
          "data": {
            "text/plain": [
              "7982.89990234375"
            ]
          },
          "metadata": {
            "tags": []
          },
          "execution_count": 26
        }
      ]
    },
    {
      "cell_type": "code",
      "metadata": {
        "colab": {
          "base_uri": "https://localhost:8080/"
        },
        "id": "XxTmyJfURusg",
        "outputId": "b6b6a89b-cb45-45ea-de58-4d4315be736c"
      },
      "source": [
        "len(points)"
      ],
      "execution_count": null,
      "outputs": [
        {
          "output_type": "execute_result",
          "data": {
            "text/plain": [
              "15"
            ]
          },
          "metadata": {
            "tags": []
          },
          "execution_count": 27
        }
      ]
    },
    {
      "cell_type": "code",
      "metadata": {
        "id": "b2g2XxlxYNDM"
      },
      "source": [
        "value=10000000"
      ],
      "execution_count": null,
      "outputs": []
    },
    {
      "cell_type": "code",
      "source": [
        "for i in range(0,100)\n",
        "a=df.Close.rolling(20).mean()\n",
        "b=df.Close.rolling(40).mean()\n",
        "buy=[]\n",
        "s=0\n",
        "d=0\n",
        "sell=[]\n",
        "for i in range(40,len(df)-1):\n",
        "  if a[i]<b[i] and a[i+1]>b[i+1]:\n",
        "    buy.append(i)\n",
        "  if a[i]>b[i] and a[i+1]<b[i+1]:\n",
        "    sell.append(i)\n",
        "a=1000000\n",
        "a1=1000000\n",
        "p1=0\n",
        "p2=0\n",
        "for i in range(0,len(buy)-1):\n",
        "  if p1==0:\n",
        "    p=(a/df['Adj Close'][buy[i]])*(df['Adj Close'][buy[i]+20]-df['Adj Close'][buy[i]])\n",
        "    p1=1\n",
        "    print(p)\n",
        "  if buy[i+1]-buy[i]<40:\n",
        "    p1=1\n",
        "  else:\n",
        "    p1=0\n",
        "  a=a+p\n",
        "for i in range(0,len(sell)-1):\n",
        "  if p2==0:\n",
        "    ps=(a1/df['Adj Close'][sell[i]])*(df['Adj Close'][sell[i]]-df['Adj Close'][sell[i]+20])\n",
        "    a1=a1+ps\n",
        " \n",
        "\n"
      ],
      "metadata": {
        "id": "ya-QgBVGotKK"
      },
      "execution_count": null,
      "outputs": []
    },
    {
      "cell_type": "code",
      "metadata": {
        "id": "3Yt0piKdRkzs"
      },
      "source": [
        "for i in range(0,14):\n",
        "  if i%2==0:\n",
        "    shares=value//prices['Adj Close'][points[i]]\n",
        "    value=value+(shares*(prices['Adj Close'][points[i+1]]-prices['Adj Close'][points[i]]))\n",
        "  else:\n",
        "    shares=value//prices['Adj Close'][points[i]]\n",
        "    profit=(shares*(prices['Adj Close'][points[i]]-prices['Adj Close'][points[i+1]]))\n",
        "    value=value+profit"
      ],
      "execution_count": null,
      "outputs": []
    },
    {
      "cell_type": "code",
      "metadata": {
        "colab": {
          "base_uri": "https://localhost:8080/"
        },
        "id": "dBcq_jUqSRb8",
        "outputId": "7038ff33-a62b-422c-c43f-b45e88350ad5"
      },
      "source": [
        "value"
      ],
      "execution_count": null,
      "outputs": [
        {
          "output_type": "execute_result",
          "data": {
            "text/plain": [
              "5070622.923828125"
            ]
          },
          "metadata": {
            "tags": []
          },
          "execution_count": 30
        }
      ]
    },
    {
      "cell_type": "markdown",
      "metadata": {
        "id": "KXiyzXCLfMWl"
      },
      "source": [
        "only if we go long "
      ]
    },
    {
      "cell_type": "code",
      "metadata": {
        "id": "gfCYZ6lSgD84"
      },
      "source": [
        "value1=10000000"
      ],
      "execution_count": null,
      "outputs": []
    },
    {
      "cell_type": "code",
      "metadata": {
        "id": "REPwjO3wSekX",
        "colab": {
          "base_uri": "https://localhost:8080/"
        },
        "outputId": "13c8fbfd-04d4-4e4e-c2c4-6060f162571c"
      },
      "source": [
        "for i in range(0,14):\n",
        "  if i%2==0:\n",
        "    shares=value1//prices['Adj Close'][points[i]]\n",
        "    value1=value1+(shares*(prices['Adj Close'][points[i+1]]-prices['Adj Close'][points[i]]))\n",
        "    print(value1)  "
      ],
      "execution_count": null,
      "outputs": [
        {
          "output_type": "stream",
          "text": [
            "9400478.529785156\n",
            "10597911.947753906\n",
            "13429979.447753906\n",
            "13306993.808105469\n",
            "16092624.604003906\n",
            "15581506.227050781\n",
            "11082835.660644531\n"
          ],
          "name": "stdout"
        }
      ]
    },
    {
      "cell_type": "code",
      "metadata": {
        "colab": {
          "base_uri": "https://localhost:8080/"
        },
        "id": "2x0avWO0fZFn",
        "outputId": "239b53a5-45a2-4c0c-8ea8-13995cf0e6e7"
      },
      "source": [
        "value1"
      ],
      "execution_count": null,
      "outputs": [
        {
          "output_type": "execute_result",
          "data": {
            "text/plain": [
              "11082835.660644531"
            ]
          },
          "metadata": {
            "tags": []
          },
          "execution_count": 33
        }
      ]
    },
    {
      "cell_type": "code",
      "metadata": {
        "id": "ljhKelJgfZrS"
      },
      "source": [
        ""
      ],
      "execution_count": null,
      "outputs": []
    }
  ]
}